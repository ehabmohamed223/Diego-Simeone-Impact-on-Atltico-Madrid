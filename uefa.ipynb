{
 "cells": [
  {
   "cell_type": "code",
   "execution_count": 1,
   "id": "022195e0-6cc3-4d99-894e-6613032f5e02",
   "metadata": {},
   "outputs": [],
   "source": [
    "import pandas as pd\n",
    "import numpy as np"
   ]
  },
  {
   "cell_type": "code",
   "execution_count": 2,
   "id": "ea5a331e-4891-4e58-8088-1ca3531103a6",
   "metadata": {},
   "outputs": [],
   "source": [
    "import matplotlib.pyplot as plt\n",
    "import matplotlib.image as mpimg"
   ]
  },
  {
   "cell_type": "code",
   "execution_count": 3,
   "id": "94f4ab06-66bb-45f2-b51b-aef0cf81d201",
   "metadata": {},
   "outputs": [],
   "source": [
    "def show_image(image_path):\n",
    "    img_path = image_path\n",
    "    \n",
    "    img1 = mpimg.imread(img_path)\n",
    "    fig, ax = plt.subplots(figsize=(10, 9))\n",
    "    ax.imshow(img1)\n",
    "    ax.axis(\"off\")  \n",
    "    plt.show()  "
   ]
  },
  {
   "cell_type": "code",
   "execution_count": 4,
   "id": "a81a1047-6322-4fbc-98b4-ec8bbafcc7c1",
   "metadata": {},
   "outputs": [],
   "source": [
    "def upload_data(df, file_path):\n",
    "    df.to_csv(file_path, index=False)"
   ]
  },
  {
   "cell_type": "markdown",
   "id": "7db26355-b436-476c-aa67-d4f4a89a441a",
   "metadata": {},
   "source": [
    "## Data Uploading "
   ]
  },
  {
   "cell_type": "code",
   "execution_count": 5,
   "id": "4a620821-8f4d-4191-bd7d-5772ce7d32fe",
   "metadata": {},
   "outputs": [],
   "source": [
    "atleti_ucl_data = pd.read_csv('processed data/atleti_history_in_ucl.csv')"
   ]
  },
  {
   "cell_type": "code",
   "execution_count": 6,
   "id": "797e1ada-cbb7-4b61-901b-68e1a58397de",
   "metadata": {},
   "outputs": [],
   "source": [
    "##   Atletico Madrid in UEFA champions League Before Simone"
   ]
  },
  {
   "cell_type": "code",
   "execution_count": 7,
   "id": "370651cb-f80d-4c0f-a844-dba1ac1df77b",
   "metadata": {},
   "outputs": [],
   "source": [
    "atleti_ucl_before_simone =  atleti_ucl_data.iloc[11:,:]"
   ]
  },
  {
   "cell_type": "code",
   "execution_count": 8,
   "id": "6e5ba020-d92d-4c67-96b3-a642f0845194",
   "metadata": {},
   "outputs": [
    {
     "data": {
      "text/html": [
       "<div>\n",
       "<style scoped>\n",
       "    .dataframe tbody tr th:only-of-type {\n",
       "        vertical-align: middle;\n",
       "    }\n",
       "\n",
       "    .dataframe tbody tr th {\n",
       "        vertical-align: top;\n",
       "    }\n",
       "\n",
       "    .dataframe thead th {\n",
       "        text-align: right;\n",
       "    }\n",
       "</style>\n",
       "<table border=\"1\" class=\"dataframe\">\n",
       "  <thead>\n",
       "    <tr style=\"text-align: right;\">\n",
       "      <th></th>\n",
       "      <th>season</th>\n",
       "      <th>stage</th>\n",
       "      <th>played</th>\n",
       "      <th>win</th>\n",
       "      <th>draw</th>\n",
       "      <th>lose</th>\n",
       "    </tr>\n",
       "  </thead>\n",
       "  <tbody>\n",
       "    <tr>\n",
       "      <th>11</th>\n",
       "      <td>2009/10</td>\n",
       "      <td>Group stage</td>\n",
       "      <td>8</td>\n",
       "      <td>2</td>\n",
       "      <td>3</td>\n",
       "      <td>3</td>\n",
       "    </tr>\n",
       "    <tr>\n",
       "      <th>12</th>\n",
       "      <td>2008/09</td>\n",
       "      <td>Round of 16</td>\n",
       "      <td>10</td>\n",
       "      <td>4</td>\n",
       "      <td>5</td>\n",
       "      <td>1</td>\n",
       "    </tr>\n",
       "    <tr>\n",
       "      <th>13</th>\n",
       "      <td>1996/97</td>\n",
       "      <td>Quarter-finals</td>\n",
       "      <td>8</td>\n",
       "      <td>4</td>\n",
       "      <td>3</td>\n",
       "      <td>1</td>\n",
       "    </tr>\n",
       "    <tr>\n",
       "      <th>14</th>\n",
       "      <td>1977/78</td>\n",
       "      <td>Quarter-finals</td>\n",
       "      <td>6</td>\n",
       "      <td>3</td>\n",
       "      <td>1</td>\n",
       "      <td>2</td>\n",
       "    </tr>\n",
       "    <tr>\n",
       "      <th>15</th>\n",
       "      <td>1973/74</td>\n",
       "      <td>Final</td>\n",
       "      <td>10</td>\n",
       "      <td>3</td>\n",
       "      <td>6</td>\n",
       "      <td>1</td>\n",
       "    </tr>\n",
       "    <tr>\n",
       "      <th>16</th>\n",
       "      <td>1970/71</td>\n",
       "      <td>Semi-finals</td>\n",
       "      <td>8</td>\n",
       "      <td>5</td>\n",
       "      <td>0</td>\n",
       "      <td>3</td>\n",
       "    </tr>\n",
       "    <tr>\n",
       "      <th>17</th>\n",
       "      <td>1966/67</td>\n",
       "      <td>Second round</td>\n",
       "      <td>5</td>\n",
       "      <td>3</td>\n",
       "      <td>0</td>\n",
       "      <td>2</td>\n",
       "    </tr>\n",
       "    <tr>\n",
       "      <th>18</th>\n",
       "      <td>1958/59</td>\n",
       "      <td>Semi-finals</td>\n",
       "      <td>10</td>\n",
       "      <td>6</td>\n",
       "      <td>1</td>\n",
       "      <td>3</td>\n",
       "    </tr>\n",
       "  </tbody>\n",
       "</table>\n",
       "</div>"
      ],
      "text/plain": [
       "     season           stage  played  win  draw  lose\n",
       "11  2009/10     Group stage       8    2     3     3\n",
       "12  2008/09     Round of 16      10    4     5     1\n",
       "13  1996/97  Quarter-finals       8    4     3     1\n",
       "14  1977/78  Quarter-finals       6    3     1     2\n",
       "15  1973/74           Final      10    3     6     1\n",
       "16  1970/71     Semi-finals       8    5     0     3\n",
       "17  1966/67    Second round       5    3     0     2\n",
       "18  1958/59     Semi-finals      10    6     1     3"
      ]
     },
     "execution_count": 8,
     "metadata": {},
     "output_type": "execute_result"
    }
   ],
   "source": [
    "atleti_ucl_before_simone"
   ]
  },
  {
   "cell_type": "code",
   "execution_count": 9,
   "id": "b3ec4288-9155-4c52-96fc-ac3cbbaf6ca8",
   "metadata": {},
   "outputs": [],
   "source": [
    "## How Many Times That Atleti Share in Europe League Before Simone ?"
   ]
  },
  {
   "cell_type": "code",
   "execution_count": 10,
   "id": "c832b140-02e0-4c53-bf11-bd9ffd7082e3",
   "metadata": {},
   "outputs": [
    {
     "data": {
      "text/plain": [
       "8"
      ]
     },
     "execution_count": 10,
     "metadata": {},
     "output_type": "execute_result"
    }
   ],
   "source": [
    "atleti_ucl_before_simone.shape[0]"
   ]
  },
  {
   "cell_type": "code",
   "execution_count": 11,
   "id": "6faff051-34db-4807-92cf-c3c5433bc99b",
   "metadata": {},
   "outputs": [
    {
     "data": {
      "text/plain": [
       "stage\n",
       "Quarter-finals    2\n",
       "Semi-finals       2\n",
       "Group stage       1\n",
       "Round of 16       1\n",
       "Final             1\n",
       "Second round      1\n",
       "Name: count, dtype: int64"
      ]
     },
     "execution_count": 11,
     "metadata": {},
     "output_type": "execute_result"
    }
   ],
   "source": [
    "atleti_ucl_before_simone['stage'].value_counts()"
   ]
  },
  {
   "cell_type": "code",
   "execution_count": 12,
   "id": "dd12e815-e0db-4f0b-b273-7ca7f7379a61",
   "metadata": {},
   "outputs": [],
   "source": [
    "df_value_counts = atleti_ucl_before_simone['stage'].value_counts().reset_index()\n",
    "df_value_counts.columns = ['Stage', 'Count']"
   ]
  },
  {
   "cell_type": "code",
   "execution_count": 13,
   "id": "2baa4f35-994f-477e-aa68-c43e56cb3759",
   "metadata": {},
   "outputs": [
    {
     "data": {
      "text/html": [
       "<div>\n",
       "<style scoped>\n",
       "    .dataframe tbody tr th:only-of-type {\n",
       "        vertical-align: middle;\n",
       "    }\n",
       "\n",
       "    .dataframe tbody tr th {\n",
       "        vertical-align: top;\n",
       "    }\n",
       "\n",
       "    .dataframe thead th {\n",
       "        text-align: right;\n",
       "    }\n",
       "</style>\n",
       "<table border=\"1\" class=\"dataframe\">\n",
       "  <thead>\n",
       "    <tr style=\"text-align: right;\">\n",
       "      <th></th>\n",
       "      <th>Stage</th>\n",
       "      <th>Count</th>\n",
       "    </tr>\n",
       "  </thead>\n",
       "  <tbody>\n",
       "    <tr>\n",
       "      <th>0</th>\n",
       "      <td>Quarter-finals</td>\n",
       "      <td>2</td>\n",
       "    </tr>\n",
       "    <tr>\n",
       "      <th>1</th>\n",
       "      <td>Semi-finals</td>\n",
       "      <td>2</td>\n",
       "    </tr>\n",
       "    <tr>\n",
       "      <th>2</th>\n",
       "      <td>Group stage</td>\n",
       "      <td>1</td>\n",
       "    </tr>\n",
       "    <tr>\n",
       "      <th>3</th>\n",
       "      <td>Round of 16</td>\n",
       "      <td>1</td>\n",
       "    </tr>\n",
       "    <tr>\n",
       "      <th>4</th>\n",
       "      <td>Final</td>\n",
       "      <td>1</td>\n",
       "    </tr>\n",
       "    <tr>\n",
       "      <th>5</th>\n",
       "      <td>Second round</td>\n",
       "      <td>1</td>\n",
       "    </tr>\n",
       "  </tbody>\n",
       "</table>\n",
       "</div>"
      ],
      "text/plain": [
       "            Stage  Count\n",
       "0  Quarter-finals      2\n",
       "1     Semi-finals      2\n",
       "2     Group stage      1\n",
       "3     Round of 16      1\n",
       "4           Final      1\n",
       "5    Second round      1"
      ]
     },
     "execution_count": 13,
     "metadata": {},
     "output_type": "execute_result"
    }
   ],
   "source": [
    "df_value_counts"
   ]
  },
  {
   "cell_type": "code",
   "execution_count": 14,
   "id": "df2b5397-3345-4fad-b199-6d9c4c0aade1",
   "metadata": {},
   "outputs": [],
   "source": [
    "upload_data(df_value_counts, \"processed data/atleti_statistics_ucl_before_simone.csv\")"
   ]
  },
  {
   "cell_type": "code",
   "execution_count": 15,
   "id": "cfe8c6df-5ce4-430a-a23b-1bb6e1782362",
   "metadata": {},
   "outputs": [],
   "source": [
    "### How Many Matches That Atleti Play in UEFA champions League Before Simone Before Simone ?"
   ]
  },
  {
   "cell_type": "code",
   "execution_count": 16,
   "id": "f04e5cb4-0513-4d91-8b34-b72b8eb1f0e9",
   "metadata": {},
   "outputs": [
    {
     "data": {
      "text/plain": [
       "65"
      ]
     },
     "execution_count": 16,
     "metadata": {},
     "output_type": "execute_result"
    }
   ],
   "source": [
    "np.sum(atleti_ucl_before_simone['played'])"
   ]
  },
  {
   "cell_type": "code",
   "execution_count": 17,
   "id": "2b7075cd-5808-4ed5-9b61-6592991bd78b",
   "metadata": {},
   "outputs": [],
   "source": [
    "### How Many Wins For Atleti in UEFA champions League Before Simone Before Simone ?"
   ]
  },
  {
   "cell_type": "code",
   "execution_count": 18,
   "id": "47b9f68f-fc6d-43dc-a0d7-a959314a9bfc",
   "metadata": {},
   "outputs": [
    {
     "data": {
      "text/plain": [
       "30"
      ]
     },
     "execution_count": 18,
     "metadata": {},
     "output_type": "execute_result"
    }
   ],
   "source": [
    "np.sum(atleti_ucl_before_simone['win'])"
   ]
  },
  {
   "cell_type": "code",
   "execution_count": 19,
   "id": "0ea646a9-f3f9-46b7-a2ae-e40f08cb8c94",
   "metadata": {},
   "outputs": [
    {
     "data": {
      "text/plain": [
       "3.75"
      ]
     },
     "execution_count": 19,
     "metadata": {},
     "output_type": "execute_result"
    }
   ],
   "source": [
    "np.mean(atleti_ucl_before_simone['win'])"
   ]
  },
  {
   "cell_type": "code",
   "execution_count": 20,
   "id": "e4f24ff9-30ed-4b29-a238-4e9719be3f4a",
   "metadata": {},
   "outputs": [],
   "source": [
    "### How Many Draws For Atleti in UEFA champions League Before Simone Before Simone ?"
   ]
  },
  {
   "cell_type": "code",
   "execution_count": 21,
   "id": "53718c7b-41a6-4534-a3d9-a7559125be35",
   "metadata": {},
   "outputs": [
    {
     "data": {
      "text/plain": [
       "19"
      ]
     },
     "execution_count": 21,
     "metadata": {},
     "output_type": "execute_result"
    }
   ],
   "source": [
    "np.sum(atleti_ucl_before_simone['draw'])"
   ]
  },
  {
   "cell_type": "code",
   "execution_count": 22,
   "id": "c7c82eac-6809-486e-848e-0c4967089738",
   "metadata": {},
   "outputs": [
    {
     "data": {
      "text/plain": [
       "2.375"
      ]
     },
     "execution_count": 22,
     "metadata": {},
     "output_type": "execute_result"
    }
   ],
   "source": [
    "np.mean(atleti_ucl_before_simone['draw'])"
   ]
  },
  {
   "cell_type": "code",
   "execution_count": 23,
   "id": "d72d47d5-786f-46ea-967b-0eddd250b2d2",
   "metadata": {},
   "outputs": [],
   "source": [
    "### How Many Loses For Atleti in UEFA champions League Before Simone Before Simone ?"
   ]
  },
  {
   "cell_type": "code",
   "execution_count": 24,
   "id": "2cd7fc47-916d-4584-9452-f78224805223",
   "metadata": {},
   "outputs": [
    {
     "data": {
      "text/plain": [
       "16"
      ]
     },
     "execution_count": 24,
     "metadata": {},
     "output_type": "execute_result"
    }
   ],
   "source": [
    "np.sum(atleti_ucl_before_simone['lose'])"
   ]
  },
  {
   "cell_type": "code",
   "execution_count": 25,
   "id": "422e9e89-77cc-4fa3-a6a5-692dcb6c35fc",
   "metadata": {},
   "outputs": [
    {
     "data": {
      "text/plain": [
       "2.0"
      ]
     },
     "execution_count": 25,
     "metadata": {},
     "output_type": "execute_result"
    }
   ],
   "source": [
    "np.mean(atleti_ucl_before_simone['lose'])"
   ]
  },
  {
   "cell_type": "code",
   "execution_count": 26,
   "id": "ef0ebc27-ec21-461a-bd5d-7f6f68cbfebc",
   "metadata": {},
   "outputs": [],
   "source": [
    "labels = ['Win', 'Draw', 'Lose']\n",
    "W_D_l_in_ucl_before_simone = [np.sum(atleti_ucl_before_simone['win']),\n",
    "                             np.sum(atleti_ucl_before_simone['draw']),\n",
    "                             np.sum(atleti_ucl_before_simone['lose'])]"
   ]
  },
  {
   "cell_type": "code",
   "execution_count": 27,
   "id": "5680ebdd-eb03-413e-9e6a-754eb697bc9f",
   "metadata": {},
   "outputs": [],
   "source": [
    "W_D_L_dict_before_simone = {'Results' : labels,\n",
    "                           'Total' : W_D_l_in_ucl_before_simone}\n",
    "W_D_L_before_simone = pd.DataFrame(W_D_L_dict_before_simone)"
   ]
  },
  {
   "cell_type": "code",
   "execution_count": 28,
   "id": "658b26aa-9db2-4ea3-b6e0-e4b294153b60",
   "metadata": {},
   "outputs": [
    {
     "data": {
      "text/html": [
       "<div>\n",
       "<style scoped>\n",
       "    .dataframe tbody tr th:only-of-type {\n",
       "        vertical-align: middle;\n",
       "    }\n",
       "\n",
       "    .dataframe tbody tr th {\n",
       "        vertical-align: top;\n",
       "    }\n",
       "\n",
       "    .dataframe thead th {\n",
       "        text-align: right;\n",
       "    }\n",
       "</style>\n",
       "<table border=\"1\" class=\"dataframe\">\n",
       "  <thead>\n",
       "    <tr style=\"text-align: right;\">\n",
       "      <th></th>\n",
       "      <th>Results</th>\n",
       "      <th>Total</th>\n",
       "    </tr>\n",
       "  </thead>\n",
       "  <tbody>\n",
       "    <tr>\n",
       "      <th>0</th>\n",
       "      <td>Win</td>\n",
       "      <td>30</td>\n",
       "    </tr>\n",
       "    <tr>\n",
       "      <th>1</th>\n",
       "      <td>Draw</td>\n",
       "      <td>19</td>\n",
       "    </tr>\n",
       "    <tr>\n",
       "      <th>2</th>\n",
       "      <td>Lose</td>\n",
       "      <td>16</td>\n",
       "    </tr>\n",
       "  </tbody>\n",
       "</table>\n",
       "</div>"
      ],
      "text/plain": [
       "  Results  Total\n",
       "0     Win     30\n",
       "1    Draw     19\n",
       "2    Lose     16"
      ]
     },
     "execution_count": 28,
     "metadata": {},
     "output_type": "execute_result"
    }
   ],
   "source": [
    "W_D_L_before_simone"
   ]
  },
  {
   "cell_type": "code",
   "execution_count": 29,
   "id": "05831dc3-740b-4ba5-a6cd-63dc1fb014ed",
   "metadata": {},
   "outputs": [],
   "source": [
    "upload_data(W_D_L_before_simone, \"processed data/W_D_L_before_simone_ucl.csv\")"
   ]
  },
  {
   "cell_type": "code",
   "execution_count": 30,
   "id": "8dd80e79-245b-425a-9f4f-d1c7e1fb503c",
   "metadata": {},
   "outputs": [],
   "source": [
    "## Atletico Madrid in UEFA champions League After Simone"
   ]
  },
  {
   "cell_type": "code",
   "execution_count": 31,
   "id": "55e99f9d-b2b7-4308-9087-e20a1ee60579",
   "metadata": {},
   "outputs": [],
   "source": [
    "atleti_ucl_after_simone =  atleti_ucl_data.iloc[:11,:]"
   ]
  },
  {
   "cell_type": "code",
   "execution_count": 32,
   "id": "c4dba520-24e0-45ab-8a41-4b163669d5b5",
   "metadata": {},
   "outputs": [
    {
     "data": {
      "text/html": [
       "<div>\n",
       "<style scoped>\n",
       "    .dataframe tbody tr th:only-of-type {\n",
       "        vertical-align: middle;\n",
       "    }\n",
       "\n",
       "    .dataframe tbody tr th {\n",
       "        vertical-align: top;\n",
       "    }\n",
       "\n",
       "    .dataframe thead th {\n",
       "        text-align: right;\n",
       "    }\n",
       "</style>\n",
       "<table border=\"1\" class=\"dataframe\">\n",
       "  <thead>\n",
       "    <tr style=\"text-align: right;\">\n",
       "      <th></th>\n",
       "      <th>season</th>\n",
       "      <th>stage</th>\n",
       "      <th>played</th>\n",
       "      <th>win</th>\n",
       "      <th>draw</th>\n",
       "      <th>lose</th>\n",
       "    </tr>\n",
       "  </thead>\n",
       "  <tbody>\n",
       "    <tr>\n",
       "      <th>0</th>\n",
       "      <td>2023/24</td>\n",
       "      <td>Quarter-finals</td>\n",
       "      <td>10</td>\n",
       "      <td>5</td>\n",
       "      <td>3</td>\n",
       "      <td>2</td>\n",
       "    </tr>\n",
       "    <tr>\n",
       "      <th>1</th>\n",
       "      <td>2022/23</td>\n",
       "      <td>Group stage</td>\n",
       "      <td>6</td>\n",
       "      <td>1</td>\n",
       "      <td>2</td>\n",
       "      <td>3</td>\n",
       "    </tr>\n",
       "    <tr>\n",
       "      <th>2</th>\n",
       "      <td>2021/22</td>\n",
       "      <td>Quarter-finals</td>\n",
       "      <td>10</td>\n",
       "      <td>3</td>\n",
       "      <td>3</td>\n",
       "      <td>4</td>\n",
       "    </tr>\n",
       "    <tr>\n",
       "      <th>3</th>\n",
       "      <td>2020/21</td>\n",
       "      <td>Round of 16</td>\n",
       "      <td>8</td>\n",
       "      <td>2</td>\n",
       "      <td>3</td>\n",
       "      <td>3</td>\n",
       "    </tr>\n",
       "    <tr>\n",
       "      <th>4</th>\n",
       "      <td>2019/20</td>\n",
       "      <td>Quarter-finals</td>\n",
       "      <td>9</td>\n",
       "      <td>4</td>\n",
       "      <td>1</td>\n",
       "      <td>4</td>\n",
       "    </tr>\n",
       "    <tr>\n",
       "      <th>5</th>\n",
       "      <td>2018/19</td>\n",
       "      <td>Round of 16</td>\n",
       "      <td>8</td>\n",
       "      <td>5</td>\n",
       "      <td>1</td>\n",
       "      <td>2</td>\n",
       "    </tr>\n",
       "    <tr>\n",
       "      <th>6</th>\n",
       "      <td>2017/18</td>\n",
       "      <td>Group stage</td>\n",
       "      <td>6</td>\n",
       "      <td>1</td>\n",
       "      <td>4</td>\n",
       "      <td>1</td>\n",
       "    </tr>\n",
       "    <tr>\n",
       "      <th>7</th>\n",
       "      <td>2016/17</td>\n",
       "      <td>Semi-finals</td>\n",
       "      <td>12</td>\n",
       "      <td>8</td>\n",
       "      <td>2</td>\n",
       "      <td>2</td>\n",
       "    </tr>\n",
       "    <tr>\n",
       "      <th>8</th>\n",
       "      <td>2015/16</td>\n",
       "      <td>Final</td>\n",
       "      <td>13</td>\n",
       "      <td>6</td>\n",
       "      <td>4</td>\n",
       "      <td>3</td>\n",
       "    </tr>\n",
       "    <tr>\n",
       "      <th>9</th>\n",
       "      <td>2014/15</td>\n",
       "      <td>Quarter-finals</td>\n",
       "      <td>10</td>\n",
       "      <td>4</td>\n",
       "      <td>3</td>\n",
       "      <td>3</td>\n",
       "    </tr>\n",
       "    <tr>\n",
       "      <th>10</th>\n",
       "      <td>2013/14</td>\n",
       "      <td>Final</td>\n",
       "      <td>13</td>\n",
       "      <td>9</td>\n",
       "      <td>3</td>\n",
       "      <td>1</td>\n",
       "    </tr>\n",
       "  </tbody>\n",
       "</table>\n",
       "</div>"
      ],
      "text/plain": [
       "     season           stage  played  win  draw  lose\n",
       "0   2023/24  Quarter-finals      10    5     3     2\n",
       "1   2022/23     Group stage       6    1     2     3\n",
       "2   2021/22  Quarter-finals      10    3     3     4\n",
       "3   2020/21     Round of 16       8    2     3     3\n",
       "4   2019/20  Quarter-finals       9    4     1     4\n",
       "5   2018/19     Round of 16       8    5     1     2\n",
       "6   2017/18     Group stage       6    1     4     1\n",
       "7   2016/17     Semi-finals      12    8     2     2\n",
       "8   2015/16           Final      13    6     4     3\n",
       "9   2014/15  Quarter-finals      10    4     3     3\n",
       "10  2013/14           Final      13    9     3     1"
      ]
     },
     "execution_count": 32,
     "metadata": {},
     "output_type": "execute_result"
    }
   ],
   "source": [
    "atleti_ucl_after_simone"
   ]
  },
  {
   "cell_type": "code",
   "execution_count": 33,
   "id": "066cc0fe-9bb1-4c1f-bb49-25e45df2164d",
   "metadata": {},
   "outputs": [],
   "source": [
    "## How Many Times That Atleti Share in Europe League After Simone ?"
   ]
  },
  {
   "cell_type": "code",
   "execution_count": 34,
   "id": "df90c836-7f49-4753-8277-b562420ca35b",
   "metadata": {},
   "outputs": [
    {
     "data": {
      "text/plain": [
       "11"
      ]
     },
     "execution_count": 34,
     "metadata": {},
     "output_type": "execute_result"
    }
   ],
   "source": [
    "atleti_ucl_after_simone.shape[0]"
   ]
  },
  {
   "cell_type": "code",
   "execution_count": 35,
   "id": "00982ba0-6857-4913-b585-77f15414559b",
   "metadata": {},
   "outputs": [
    {
     "data": {
      "text/plain": [
       "stage\n",
       "Quarter-finals    4\n",
       "Group stage       2\n",
       "Round of 16       2\n",
       "Final             2\n",
       "Semi-finals       1\n",
       "Name: count, dtype: int64"
      ]
     },
     "execution_count": 35,
     "metadata": {},
     "output_type": "execute_result"
    }
   ],
   "source": [
    "atleti_ucl_after_simone['stage'].value_counts()"
   ]
  },
  {
   "cell_type": "code",
   "execution_count": 36,
   "id": "ecb9f25e-a7c7-4d21-a5e7-9eaadf408b33",
   "metadata": {},
   "outputs": [],
   "source": [
    "df_value_counts = atleti_ucl_after_simone['stage'].value_counts().reset_index()\n",
    "df_value_counts.columns = ['Stage', 'Count']"
   ]
  },
  {
   "cell_type": "code",
   "execution_count": 37,
   "id": "2aa12916-025e-4f4d-842e-5bfd4f6c692a",
   "metadata": {},
   "outputs": [
    {
     "data": {
      "text/html": [
       "<div>\n",
       "<style scoped>\n",
       "    .dataframe tbody tr th:only-of-type {\n",
       "        vertical-align: middle;\n",
       "    }\n",
       "\n",
       "    .dataframe tbody tr th {\n",
       "        vertical-align: top;\n",
       "    }\n",
       "\n",
       "    .dataframe thead th {\n",
       "        text-align: right;\n",
       "    }\n",
       "</style>\n",
       "<table border=\"1\" class=\"dataframe\">\n",
       "  <thead>\n",
       "    <tr style=\"text-align: right;\">\n",
       "      <th></th>\n",
       "      <th>Stage</th>\n",
       "      <th>Count</th>\n",
       "    </tr>\n",
       "  </thead>\n",
       "  <tbody>\n",
       "    <tr>\n",
       "      <th>0</th>\n",
       "      <td>Quarter-finals</td>\n",
       "      <td>4</td>\n",
       "    </tr>\n",
       "    <tr>\n",
       "      <th>1</th>\n",
       "      <td>Group stage</td>\n",
       "      <td>2</td>\n",
       "    </tr>\n",
       "    <tr>\n",
       "      <th>2</th>\n",
       "      <td>Round of 16</td>\n",
       "      <td>2</td>\n",
       "    </tr>\n",
       "    <tr>\n",
       "      <th>3</th>\n",
       "      <td>Final</td>\n",
       "      <td>2</td>\n",
       "    </tr>\n",
       "    <tr>\n",
       "      <th>4</th>\n",
       "      <td>Semi-finals</td>\n",
       "      <td>1</td>\n",
       "    </tr>\n",
       "  </tbody>\n",
       "</table>\n",
       "</div>"
      ],
      "text/plain": [
       "            Stage  Count\n",
       "0  Quarter-finals      4\n",
       "1     Group stage      2\n",
       "2     Round of 16      2\n",
       "3           Final      2\n",
       "4     Semi-finals      1"
      ]
     },
     "execution_count": 37,
     "metadata": {},
     "output_type": "execute_result"
    }
   ],
   "source": [
    "df_value_counts"
   ]
  },
  {
   "cell_type": "code",
   "execution_count": 38,
   "id": "815527c8-ff6e-4872-8d5c-27cc167f9a06",
   "metadata": {},
   "outputs": [],
   "source": [
    "df_value_counts.to_csv(\"processed data/atleti_ucl_after_simone_value_counts.csv\", index=False)"
   ]
  },
  {
   "cell_type": "code",
   "execution_count": 39,
   "id": "49093ec5-2ee7-4794-8f91-b61c13d306cb",
   "metadata": {},
   "outputs": [],
   "source": [
    "### How Many Matches That Atleti Play in UEFA champions League After Simone Before Simone ?"
   ]
  },
  {
   "cell_type": "code",
   "execution_count": 40,
   "id": "fff1ff3b-0322-414e-a17d-c8c9804f593e",
   "metadata": {},
   "outputs": [
    {
     "data": {
      "text/plain": [
       "105"
      ]
     },
     "execution_count": 40,
     "metadata": {},
     "output_type": "execute_result"
    }
   ],
   "source": [
    "np.sum(atleti_ucl_after_simone['played'])"
   ]
  },
  {
   "cell_type": "code",
   "execution_count": 41,
   "id": "452b9a80-a83a-48aa-9cb7-003c7a8d6ca6",
   "metadata": {},
   "outputs": [],
   "source": [
    "### How Many Wins For Atleti in UEFA champions League After Simone Before Simone ?"
   ]
  },
  {
   "cell_type": "code",
   "execution_count": 42,
   "id": "34065171-8b07-4890-84bb-02a3535381e8",
   "metadata": {},
   "outputs": [
    {
     "data": {
      "text/plain": [
       "48"
      ]
     },
     "execution_count": 42,
     "metadata": {},
     "output_type": "execute_result"
    }
   ],
   "source": [
    "np.sum(atleti_ucl_after_simone['win'])"
   ]
  },
  {
   "cell_type": "code",
   "execution_count": 43,
   "id": "0db86994-c0ee-4e9d-bf32-595d7e7f14b9",
   "metadata": {},
   "outputs": [
    {
     "data": {
      "text/plain": [
       "4.363636363636363"
      ]
     },
     "execution_count": 43,
     "metadata": {},
     "output_type": "execute_result"
    }
   ],
   "source": [
    "np.mean(atleti_ucl_after_simone['win'])"
   ]
  },
  {
   "cell_type": "code",
   "execution_count": 44,
   "id": "e4643b0a-bedc-48fc-95bf-3e6714d0a3fe",
   "metadata": {},
   "outputs": [],
   "source": [
    "### How Many Draws For Atleti in UEFA champions League After Simone Before Simone ?"
   ]
  },
  {
   "cell_type": "code",
   "execution_count": 45,
   "id": "1156d915-ff7a-4a03-a6ae-dee4bbe82862",
   "metadata": {},
   "outputs": [
    {
     "data": {
      "text/plain": [
       "29"
      ]
     },
     "execution_count": 45,
     "metadata": {},
     "output_type": "execute_result"
    }
   ],
   "source": [
    "np.sum(atleti_ucl_after_simone['draw'])"
   ]
  },
  {
   "cell_type": "code",
   "execution_count": 46,
   "id": "84b6d27b-507b-4c9a-90e6-af4b946acca9",
   "metadata": {},
   "outputs": [
    {
     "data": {
      "text/plain": [
       "2.6363636363636362"
      ]
     },
     "execution_count": 46,
     "metadata": {},
     "output_type": "execute_result"
    }
   ],
   "source": [
    "np.mean(atleti_ucl_after_simone['draw'])"
   ]
  },
  {
   "cell_type": "code",
   "execution_count": 47,
   "id": "51e31a03-82c9-4de7-8133-73416062b77f",
   "metadata": {},
   "outputs": [],
   "source": [
    "### How Many Loses For Atleti in UEFA champions League After Simone Before Simone ?"
   ]
  },
  {
   "cell_type": "code",
   "execution_count": 48,
   "id": "5bd29c02-ea2c-4537-9485-0673d5f822a4",
   "metadata": {},
   "outputs": [
    {
     "data": {
      "text/plain": [
       "28"
      ]
     },
     "execution_count": 48,
     "metadata": {},
     "output_type": "execute_result"
    }
   ],
   "source": [
    "np.sum(atleti_ucl_after_simone['lose'])"
   ]
  },
  {
   "cell_type": "code",
   "execution_count": 49,
   "id": "82759924-1654-4fb3-9b86-5055532e952f",
   "metadata": {},
   "outputs": [
    {
     "data": {
      "text/plain": [
       "2.5454545454545454"
      ]
     },
     "execution_count": 49,
     "metadata": {},
     "output_type": "execute_result"
    }
   ],
   "source": [
    "np.mean(atleti_ucl_after_simone['lose'])"
   ]
  },
  {
   "cell_type": "code",
   "execution_count": 50,
   "id": "4281d928-5256-4f10-8326-6d95e7d8be2d",
   "metadata": {},
   "outputs": [],
   "source": [
    "labels = ['Win', 'Draw', 'Lose']\n",
    "W_D_l_in_ucl_before_simone = [np.sum(atleti_ucl_after_simone['win']),\n",
    "                             np.sum(atleti_ucl_after_simone['draw']),\n",
    "                             np.sum(atleti_ucl_after_simone['lose'])]"
   ]
  },
  {
   "cell_type": "code",
   "execution_count": 51,
   "id": "6085172c-b581-4f5b-a3c7-cd1aca98863b",
   "metadata": {},
   "outputs": [],
   "source": [
    "W_D_L_dict_after_simone = {'Results' : labels,\n",
    "                           'Total' : W_D_l_in_ucl_before_simone}\n",
    "W_D_L_after_simone = pd.DataFrame(W_D_L_dict_after_simone)"
   ]
  },
  {
   "cell_type": "code",
   "execution_count": 52,
   "id": "f41df784-cf9d-4e57-baa7-56526b4e7127",
   "metadata": {},
   "outputs": [
    {
     "data": {
      "text/html": [
       "<div>\n",
       "<style scoped>\n",
       "    .dataframe tbody tr th:only-of-type {\n",
       "        vertical-align: middle;\n",
       "    }\n",
       "\n",
       "    .dataframe tbody tr th {\n",
       "        vertical-align: top;\n",
       "    }\n",
       "\n",
       "    .dataframe thead th {\n",
       "        text-align: right;\n",
       "    }\n",
       "</style>\n",
       "<table border=\"1\" class=\"dataframe\">\n",
       "  <thead>\n",
       "    <tr style=\"text-align: right;\">\n",
       "      <th></th>\n",
       "      <th>Results</th>\n",
       "      <th>Total</th>\n",
       "    </tr>\n",
       "  </thead>\n",
       "  <tbody>\n",
       "    <tr>\n",
       "      <th>0</th>\n",
       "      <td>Win</td>\n",
       "      <td>48</td>\n",
       "    </tr>\n",
       "    <tr>\n",
       "      <th>1</th>\n",
       "      <td>Draw</td>\n",
       "      <td>29</td>\n",
       "    </tr>\n",
       "    <tr>\n",
       "      <th>2</th>\n",
       "      <td>Lose</td>\n",
       "      <td>28</td>\n",
       "    </tr>\n",
       "  </tbody>\n",
       "</table>\n",
       "</div>"
      ],
      "text/plain": [
       "  Results  Total\n",
       "0     Win     48\n",
       "1    Draw     29\n",
       "2    Lose     28"
      ]
     },
     "execution_count": 52,
     "metadata": {},
     "output_type": "execute_result"
    }
   ],
   "source": [
    "W_D_L_after_simone"
   ]
  },
  {
   "cell_type": "code",
   "execution_count": 53,
   "id": "a1305da5-6bb0-4522-9614-8c48b28ee133",
   "metadata": {},
   "outputs": [],
   "source": [
    "group_stage = pd.read_csv(\"processed data/atleti_group_stage_simone_ucl.csv\")"
   ]
  },
  {
   "cell_type": "code",
   "execution_count": 54,
   "id": "791edb81-ee3b-417a-9682-d245e4a09b2b",
   "metadata": {},
   "outputs": [
    {
     "data": {
      "text/html": [
       "<div>\n",
       "<style scoped>\n",
       "    .dataframe tbody tr th:only-of-type {\n",
       "        vertical-align: middle;\n",
       "    }\n",
       "\n",
       "    .dataframe tbody tr th {\n",
       "        vertical-align: top;\n",
       "    }\n",
       "\n",
       "    .dataframe thead th {\n",
       "        text-align: right;\n",
       "    }\n",
       "</style>\n",
       "<table border=\"1\" class=\"dataframe\">\n",
       "  <thead>\n",
       "    <tr style=\"text-align: right;\">\n",
       "      <th></th>\n",
       "      <th>season</th>\n",
       "      <th>scored goals</th>\n",
       "      <th>conceded goals</th>\n",
       "      <th>diff</th>\n",
       "      <th>total points</th>\n",
       "      <th>postion in group</th>\n",
       "    </tr>\n",
       "  </thead>\n",
       "  <tbody>\n",
       "    <tr>\n",
       "      <th>0</th>\n",
       "      <td>2013/2014</td>\n",
       "      <td>15</td>\n",
       "      <td>3</td>\n",
       "      <td>12</td>\n",
       "      <td>16</td>\n",
       "      <td>1</td>\n",
       "    </tr>\n",
       "    <tr>\n",
       "      <th>1</th>\n",
       "      <td>2014/2015</td>\n",
       "      <td>14</td>\n",
       "      <td>3</td>\n",
       "      <td>11</td>\n",
       "      <td>13</td>\n",
       "      <td>1</td>\n",
       "    </tr>\n",
       "    <tr>\n",
       "      <th>2</th>\n",
       "      <td>2015/2016</td>\n",
       "      <td>11</td>\n",
       "      <td>3</td>\n",
       "      <td>8</td>\n",
       "      <td>13</td>\n",
       "      <td>1</td>\n",
       "    </tr>\n",
       "    <tr>\n",
       "      <th>3</th>\n",
       "      <td>2016/2017</td>\n",
       "      <td>7</td>\n",
       "      <td>2</td>\n",
       "      <td>5</td>\n",
       "      <td>15</td>\n",
       "      <td>1</td>\n",
       "    </tr>\n",
       "    <tr>\n",
       "      <th>4</th>\n",
       "      <td>2017/2018</td>\n",
       "      <td>5</td>\n",
       "      <td>4</td>\n",
       "      <td>1</td>\n",
       "      <td>7</td>\n",
       "      <td>3</td>\n",
       "    </tr>\n",
       "    <tr>\n",
       "      <th>5</th>\n",
       "      <td>2018/2019</td>\n",
       "      <td>9</td>\n",
       "      <td>6</td>\n",
       "      <td>3</td>\n",
       "      <td>13</td>\n",
       "      <td>2</td>\n",
       "    </tr>\n",
       "    <tr>\n",
       "      <th>6</th>\n",
       "      <td>2019/2020</td>\n",
       "      <td>8</td>\n",
       "      <td>5</td>\n",
       "      <td>3</td>\n",
       "      <td>10</td>\n",
       "      <td>2</td>\n",
       "    </tr>\n",
       "    <tr>\n",
       "      <th>7</th>\n",
       "      <td>2020/2021</td>\n",
       "      <td>7</td>\n",
       "      <td>8</td>\n",
       "      <td>-1</td>\n",
       "      <td>9</td>\n",
       "      <td>2</td>\n",
       "    </tr>\n",
       "    <tr>\n",
       "      <th>8</th>\n",
       "      <td>2021/2022</td>\n",
       "      <td>7</td>\n",
       "      <td>8</td>\n",
       "      <td>-1</td>\n",
       "      <td>7</td>\n",
       "      <td>2</td>\n",
       "    </tr>\n",
       "    <tr>\n",
       "      <th>9</th>\n",
       "      <td>2022/2023</td>\n",
       "      <td>5</td>\n",
       "      <td>9</td>\n",
       "      <td>-4</td>\n",
       "      <td>5</td>\n",
       "      <td>4</td>\n",
       "    </tr>\n",
       "    <tr>\n",
       "      <th>10</th>\n",
       "      <td>2023/2024</td>\n",
       "      <td>17</td>\n",
       "      <td>6</td>\n",
       "      <td>11</td>\n",
       "      <td>14</td>\n",
       "      <td>1</td>\n",
       "    </tr>\n",
       "  </tbody>\n",
       "</table>\n",
       "</div>"
      ],
      "text/plain": [
       "       season  scored goals  conceded goals  diff  total points  \\\n",
       "0   2013/2014            15               3    12            16   \n",
       "1   2014/2015            14               3    11            13   \n",
       "2   2015/2016            11               3     8            13   \n",
       "3   2016/2017             7               2     5            15   \n",
       "4   2017/2018             5               4     1             7   \n",
       "5   2018/2019             9               6     3            13   \n",
       "6   2019/2020             8               5     3            10   \n",
       "7   2020/2021             7               8    -1             9   \n",
       "8   2021/2022             7               8    -1             7   \n",
       "9   2022/2023             5               9    -4             5   \n",
       "10  2023/2024            17               6    11            14   \n",
       "\n",
       "    postion in group  \n",
       "0                  1  \n",
       "1                  1  \n",
       "2                  1  \n",
       "3                  1  \n",
       "4                  3  \n",
       "5                  2  \n",
       "6                  2  \n",
       "7                  2  \n",
       "8                  2  \n",
       "9                  4  \n",
       "10                 1  "
      ]
     },
     "execution_count": 54,
     "metadata": {},
     "output_type": "execute_result"
    }
   ],
   "source": [
    "group_stage"
   ]
  },
  {
   "cell_type": "code",
   "execution_count": 55,
   "id": "01140185-09d5-4030-b9e4-cb3d8a29e3bd",
   "metadata": {},
   "outputs": [
    {
     "data": {
      "text/html": [
       "<div>\n",
       "<style scoped>\n",
       "    .dataframe tbody tr th:only-of-type {\n",
       "        vertical-align: middle;\n",
       "    }\n",
       "\n",
       "    .dataframe tbody tr th {\n",
       "        vertical-align: top;\n",
       "    }\n",
       "\n",
       "    .dataframe thead th {\n",
       "        text-align: right;\n",
       "    }\n",
       "</style>\n",
       "<table border=\"1\" class=\"dataframe\">\n",
       "  <thead>\n",
       "    <tr style=\"text-align: right;\">\n",
       "      <th></th>\n",
       "      <th>season</th>\n",
       "      <th>scored goals</th>\n",
       "      <th>conceded goals</th>\n",
       "      <th>diff</th>\n",
       "      <th>total points</th>\n",
       "      <th>postion in group</th>\n",
       "    </tr>\n",
       "  </thead>\n",
       "  <tbody>\n",
       "    <tr>\n",
       "      <th>0</th>\n",
       "      <td>2013/2014</td>\n",
       "      <td>15</td>\n",
       "      <td>3</td>\n",
       "      <td>12</td>\n",
       "      <td>16</td>\n",
       "      <td>1</td>\n",
       "    </tr>\n",
       "    <tr>\n",
       "      <th>1</th>\n",
       "      <td>2014/2015</td>\n",
       "      <td>14</td>\n",
       "      <td>3</td>\n",
       "      <td>11</td>\n",
       "      <td>13</td>\n",
       "      <td>1</td>\n",
       "    </tr>\n",
       "    <tr>\n",
       "      <th>2</th>\n",
       "      <td>2015/2016</td>\n",
       "      <td>11</td>\n",
       "      <td>3</td>\n",
       "      <td>8</td>\n",
       "      <td>13</td>\n",
       "      <td>1</td>\n",
       "    </tr>\n",
       "    <tr>\n",
       "      <th>3</th>\n",
       "      <td>2016/2017</td>\n",
       "      <td>7</td>\n",
       "      <td>2</td>\n",
       "      <td>5</td>\n",
       "      <td>15</td>\n",
       "      <td>1</td>\n",
       "    </tr>\n",
       "  </tbody>\n",
       "</table>\n",
       "</div>"
      ],
      "text/plain": [
       "      season  scored goals  conceded goals  diff  total points  \\\n",
       "0  2013/2014            15               3    12            16   \n",
       "1  2014/2015            14               3    11            13   \n",
       "2  2015/2016            11               3     8            13   \n",
       "3  2016/2017             7               2     5            15   \n",
       "\n",
       "   postion in group  \n",
       "0                 1  \n",
       "1                 1  \n",
       "2                 1  \n",
       "3                 1  "
      ]
     },
     "execution_count": 55,
     "metadata": {},
     "output_type": "execute_result"
    }
   ],
   "source": [
    "group_stage.iloc[0:4, :]"
   ]
  },
  {
   "cell_type": "code",
   "execution_count": 56,
   "id": "07258076-b1a4-4bad-aab0-73e3eee90902",
   "metadata": {},
   "outputs": [
    {
     "data": {
      "text/plain": [
       "11.75"
      ]
     },
     "execution_count": 56,
     "metadata": {},
     "output_type": "execute_result"
    }
   ],
   "source": [
    "np.mean(group_stage.iloc[0:4, :]['scored goals'])"
   ]
  },
  {
   "cell_type": "code",
   "execution_count": 57,
   "id": "fa27df41-8340-4719-9d9c-28c4d2840fa4",
   "metadata": {},
   "outputs": [
    {
     "data": {
      "text/plain": [
       "47"
      ]
     },
     "execution_count": 57,
     "metadata": {},
     "output_type": "execute_result"
    }
   ],
   "source": [
    "np.sum(group_stage.iloc[0:4, :]['scored goals'])"
   ]
  },
  {
   "cell_type": "code",
   "execution_count": 58,
   "id": "f7fd297e-1e41-499a-be86-c0925c1f7f84",
   "metadata": {},
   "outputs": [
    {
     "data": {
      "text/plain": [
       "2.75"
      ]
     },
     "execution_count": 58,
     "metadata": {},
     "output_type": "execute_result"
    }
   ],
   "source": [
    "np.mean(group_stage.iloc[0:4, :]['conceded goals'])"
   ]
  },
  {
   "cell_type": "code",
   "execution_count": 59,
   "id": "0aff158d-e527-4dd0-b910-9bb9aa694f69",
   "metadata": {},
   "outputs": [
    {
     "data": {
      "text/plain": [
       "11"
      ]
     },
     "execution_count": 59,
     "metadata": {},
     "output_type": "execute_result"
    }
   ],
   "source": [
    "np.sum(group_stage.iloc[0:4, :]['conceded goals'])"
   ]
  },
  {
   "cell_type": "code",
   "execution_count": 60,
   "id": "0602590c-738b-43f3-a63d-6c4413100391",
   "metadata": {},
   "outputs": [
    {
     "data": {
      "text/html": [
       "<div>\n",
       "<style scoped>\n",
       "    .dataframe tbody tr th:only-of-type {\n",
       "        vertical-align: middle;\n",
       "    }\n",
       "\n",
       "    .dataframe tbody tr th {\n",
       "        vertical-align: top;\n",
       "    }\n",
       "\n",
       "    .dataframe thead th {\n",
       "        text-align: right;\n",
       "    }\n",
       "</style>\n",
       "<table border=\"1\" class=\"dataframe\">\n",
       "  <thead>\n",
       "    <tr style=\"text-align: right;\">\n",
       "      <th></th>\n",
       "      <th>season</th>\n",
       "      <th>scored goals</th>\n",
       "      <th>conceded goals</th>\n",
       "      <th>diff</th>\n",
       "      <th>total points</th>\n",
       "      <th>postion in group</th>\n",
       "    </tr>\n",
       "  </thead>\n",
       "  <tbody>\n",
       "    <tr>\n",
       "      <th>5</th>\n",
       "      <td>2018/2019</td>\n",
       "      <td>9</td>\n",
       "      <td>6</td>\n",
       "      <td>3</td>\n",
       "      <td>13</td>\n",
       "      <td>2</td>\n",
       "    </tr>\n",
       "    <tr>\n",
       "      <th>6</th>\n",
       "      <td>2019/2020</td>\n",
       "      <td>8</td>\n",
       "      <td>5</td>\n",
       "      <td>3</td>\n",
       "      <td>10</td>\n",
       "      <td>2</td>\n",
       "    </tr>\n",
       "    <tr>\n",
       "      <th>7</th>\n",
       "      <td>2020/2021</td>\n",
       "      <td>7</td>\n",
       "      <td>8</td>\n",
       "      <td>-1</td>\n",
       "      <td>9</td>\n",
       "      <td>2</td>\n",
       "    </tr>\n",
       "    <tr>\n",
       "      <th>8</th>\n",
       "      <td>2021/2022</td>\n",
       "      <td>7</td>\n",
       "      <td>8</td>\n",
       "      <td>-1</td>\n",
       "      <td>7</td>\n",
       "      <td>2</td>\n",
       "    </tr>\n",
       "  </tbody>\n",
       "</table>\n",
       "</div>"
      ],
      "text/plain": [
       "      season  scored goals  conceded goals  diff  total points  \\\n",
       "5  2018/2019             9               6     3            13   \n",
       "6  2019/2020             8               5     3            10   \n",
       "7  2020/2021             7               8    -1             9   \n",
       "8  2021/2022             7               8    -1             7   \n",
       "\n",
       "   postion in group  \n",
       "5                 2  \n",
       "6                 2  \n",
       "7                 2  \n",
       "8                 2  "
      ]
     },
     "execution_count": 60,
     "metadata": {},
     "output_type": "execute_result"
    }
   ],
   "source": [
    "group_stage.iloc[5:-2, :]"
   ]
  },
  {
   "cell_type": "code",
   "execution_count": 61,
   "id": "930efe0d-5766-43a6-8c2c-2c20097e170d",
   "metadata": {},
   "outputs": [
    {
     "data": {
      "text/plain": [
       "7.75"
      ]
     },
     "execution_count": 61,
     "metadata": {},
     "output_type": "execute_result"
    }
   ],
   "source": [
    "np.mean(group_stage.iloc[5:-2, :]['scored goals'])"
   ]
  },
  {
   "cell_type": "code",
   "execution_count": 62,
   "id": "2a6d7ef1-3676-496c-961e-2d1ccc499ae8",
   "metadata": {},
   "outputs": [
    {
     "data": {
      "text/plain": [
       "31"
      ]
     },
     "execution_count": 62,
     "metadata": {},
     "output_type": "execute_result"
    }
   ],
   "source": [
    "np.sum(group_stage.iloc[5:-2, :]['scored goals'])"
   ]
  },
  {
   "cell_type": "code",
   "execution_count": 63,
   "id": "def4c89d-e7e8-4a9d-97a8-75dde1e1cc59",
   "metadata": {},
   "outputs": [
    {
     "data": {
      "text/plain": [
       "6.75"
      ]
     },
     "execution_count": 63,
     "metadata": {},
     "output_type": "execute_result"
    }
   ],
   "source": [
    "np.mean(group_stage.iloc[5:-2, :]['conceded goals'])"
   ]
  },
  {
   "cell_type": "code",
   "execution_count": 64,
   "id": "38371d1e-e9cb-4da5-ae3c-f947040dba2f",
   "metadata": {},
   "outputs": [
    {
     "data": {
      "text/plain": [
       "27"
      ]
     },
     "execution_count": 64,
     "metadata": {},
     "output_type": "execute_result"
    }
   ],
   "source": [
    "np.sum(group_stage.iloc[5:-2, :]['conceded goals'])"
   ]
  },
  {
   "cell_type": "code",
   "execution_count": 65,
   "id": "99b05e7d-6f1a-4966-9758-790e8055e25a",
   "metadata": {},
   "outputs": [
    {
     "name": "stdout",
     "output_type": "stream",
     "text": [
      "Total Goals Scorded by Atleti Group Stage In UCL :  105\n",
      "Total Goals That Atleti Conceded Group Stage In UCL :  57\n"
     ]
    }
   ],
   "source": [
    "total_goals_scored_in_group_stage =  np.sum(group_stage['scored goals'])\n",
    "total_goals_conceded_in_group_stage = np.sum(group_stage['conceded goals'])\n",
    "print('Total Goals Scorded by Atleti Group Stage In UCL : ', total_goals_scored_in_group_stage)\n",
    "print('Total Goals That Atleti Conceded Group Stage In UCL : ',total_goals_conceded_in_group_stage)"
   ]
  },
  {
   "cell_type": "code",
   "execution_count": 66,
   "id": "0e66fecd-3412-4397-a2f6-dded43999592",
   "metadata": {},
   "outputs": [],
   "source": [
    "## round 16"
   ]
  },
  {
   "cell_type": "code",
   "execution_count": 67,
   "id": "27bc1a69-7318-428f-8f0a-cc6fd02f8616",
   "metadata": {},
   "outputs": [],
   "source": [
    "round_16 = pd.read_csv(\"processed data/simone_R16_ucl.csv\")"
   ]
  },
  {
   "cell_type": "code",
   "execution_count": 68,
   "id": "f81c4a3f-9516-4480-9fa8-110d17770e6d",
   "metadata": {},
   "outputs": [
    {
     "data": {
      "text/html": [
       "<div>\n",
       "<style scoped>\n",
       "    .dataframe tbody tr th:only-of-type {\n",
       "        vertical-align: middle;\n",
       "    }\n",
       "\n",
       "    .dataframe tbody tr th {\n",
       "        vertical-align: top;\n",
       "    }\n",
       "\n",
       "    .dataframe thead th {\n",
       "        text-align: right;\n",
       "    }\n",
       "</style>\n",
       "<table border=\"1\" class=\"dataframe\">\n",
       "  <thead>\n",
       "    <tr style=\"text-align: right;\">\n",
       "      <th></th>\n",
       "      <th>season</th>\n",
       "      <th>atleti first match</th>\n",
       "      <th>competitor first match</th>\n",
       "      <th>atleti second match</th>\n",
       "      <th>competitor second match</th>\n",
       "    </tr>\n",
       "  </thead>\n",
       "  <tbody>\n",
       "    <tr>\n",
       "      <th>0</th>\n",
       "      <td>2013/2014</td>\n",
       "      <td>1</td>\n",
       "      <td>0</td>\n",
       "      <td>4</td>\n",
       "      <td>1</td>\n",
       "    </tr>\n",
       "    <tr>\n",
       "      <th>1</th>\n",
       "      <td>2014/2015</td>\n",
       "      <td>0</td>\n",
       "      <td>1</td>\n",
       "      <td>1</td>\n",
       "      <td>0</td>\n",
       "    </tr>\n",
       "    <tr>\n",
       "      <th>2</th>\n",
       "      <td>2015/2016</td>\n",
       "      <td>0</td>\n",
       "      <td>0</td>\n",
       "      <td>0</td>\n",
       "      <td>0</td>\n",
       "    </tr>\n",
       "    <tr>\n",
       "      <th>3</th>\n",
       "      <td>2016/2017</td>\n",
       "      <td>4</td>\n",
       "      <td>2</td>\n",
       "      <td>0</td>\n",
       "      <td>0</td>\n",
       "    </tr>\n",
       "    <tr>\n",
       "      <th>4</th>\n",
       "      <td>2018/2019</td>\n",
       "      <td>2</td>\n",
       "      <td>0</td>\n",
       "      <td>0</td>\n",
       "      <td>3</td>\n",
       "    </tr>\n",
       "    <tr>\n",
       "      <th>5</th>\n",
       "      <td>2019/2020</td>\n",
       "      <td>1</td>\n",
       "      <td>0</td>\n",
       "      <td>3</td>\n",
       "      <td>2</td>\n",
       "    </tr>\n",
       "    <tr>\n",
       "      <th>6</th>\n",
       "      <td>2020/2021</td>\n",
       "      <td>0</td>\n",
       "      <td>1</td>\n",
       "      <td>0</td>\n",
       "      <td>2</td>\n",
       "    </tr>\n",
       "    <tr>\n",
       "      <th>7</th>\n",
       "      <td>2021/2022</td>\n",
       "      <td>1</td>\n",
       "      <td>1</td>\n",
       "      <td>1</td>\n",
       "      <td>0</td>\n",
       "    </tr>\n",
       "    <tr>\n",
       "      <th>8</th>\n",
       "      <td>2023/2024</td>\n",
       "      <td>0</td>\n",
       "      <td>1</td>\n",
       "      <td>2</td>\n",
       "      <td>1</td>\n",
       "    </tr>\n",
       "  </tbody>\n",
       "</table>\n",
       "</div>"
      ],
      "text/plain": [
       "      season  atleti first match  competitor first match  atleti second match  \\\n",
       "0  2013/2014                   1                       0                    4   \n",
       "1  2014/2015                   0                       1                    1   \n",
       "2  2015/2016                   0                       0                    0   \n",
       "3  2016/2017                   4                       2                    0   \n",
       "4  2018/2019                   2                       0                    0   \n",
       "5  2019/2020                   1                       0                    3   \n",
       "6  2020/2021                   0                       1                    0   \n",
       "7  2021/2022                   1                       1                    1   \n",
       "8  2023/2024                   0                       1                    2   \n",
       "\n",
       "   competitor second match  \n",
       "0                        1  \n",
       "1                        0  \n",
       "2                        0  \n",
       "3                        0  \n",
       "4                        3  \n",
       "5                        2  \n",
       "6                        2  \n",
       "7                        0  \n",
       "8                        1  "
      ]
     },
     "execution_count": 68,
     "metadata": {},
     "output_type": "execute_result"
    }
   ],
   "source": [
    "round_16"
   ]
  },
  {
   "cell_type": "code",
   "execution_count": 69,
   "id": "6a87e01a-f194-4ee2-917d-5143269ec9e4",
   "metadata": {},
   "outputs": [
    {
     "name": "stdout",
     "output_type": "stream",
     "text": [
      "Wins 9\n",
      "Loses 5\n",
      "Draw 4\n"
     ]
    }
   ],
   "source": [
    "ateleti_wins = 0\n",
    "atleti_lose = 0 \n",
    "draw = 0 \n",
    "for i in range (0, round_16.shape[0], 1) : \n",
    "    if round_16['atleti first match'][i] > round_16['competitor first match'][i] :\n",
    "        ateleti_wins = ateleti_wins+1\n",
    "        \n",
    "    if round_16['atleti first match'][i] < round_16['competitor first match'][i] : \n",
    "        atleti_lose = atleti_lose +1 \n",
    "    if round_16['atleti first match'][i] == round_16['competitor first match'][i] : \n",
    "        draw = draw +1 \n",
    "    if round_16['atleti second match'][i] > round_16['competitor second match'][i] :\n",
    "        ateleti_wins = ateleti_wins+1\n",
    "    if round_16['atleti second match'][i] < round_16['competitor second match'][i] :\n",
    "        atleti_lose = atleti_lose +1\n",
    "    if round_16['atleti second match'][i] == round_16['competitor second match'][i] :\n",
    "        draw = draw +1\n",
    "print(\"Wins\", ateleti_wins)\n",
    "print(\"Loses\",atleti_lose)\n",
    "print(\"Draw\", draw)"
   ]
  },
  {
   "cell_type": "code",
   "execution_count": 70,
   "id": "6825bb57-174f-4d62-94f2-602438b2136d",
   "metadata": {},
   "outputs": [
    {
     "name": "stdout",
     "output_type": "stream",
     "text": [
      "Total Goals Scorded by Atleti In UCL Round 16 :  20\n",
      "Total Goals That Atleti Conceded In UCL Round 16 :  15\n"
     ]
    }
   ],
   "source": [
    "total_goals_scored_in_round_16 = np.sum(round_16['atleti first match']) + np.sum(round_16['atleti second match'])\n",
    "total_goals_conceded_in_round_16 = np.sum(round_16['competitor first match']) + np.sum(round_16['competitor second match'])\n",
    "print('Total Goals Scorded by Atleti In UCL Round 16 : ', total_goals_scored_in_round_16)\n",
    "print('Total Goals That Atleti Conceded In UCL Round 16 : ', total_goals_conceded_in_round_16)"
   ]
  },
  {
   "cell_type": "code",
   "execution_count": 71,
   "id": "bf252941-5d28-45a2-badd-e8ec08ba1368",
   "metadata": {},
   "outputs": [],
   "source": [
    "## Round 8 "
   ]
  },
  {
   "cell_type": "code",
   "execution_count": 72,
   "id": "b70680fc-892a-4f65-99f6-8f56b93df2b2",
   "metadata": {},
   "outputs": [],
   "source": [
    "round_8 = pd.read_csv(\"processed data/simone_R8_ucl.csv\")"
   ]
  },
  {
   "cell_type": "code",
   "execution_count": 73,
   "id": "a90b9b91-38bf-4d6c-9905-5c7d1ffa9a6a",
   "metadata": {},
   "outputs": [
    {
     "data": {
      "text/html": [
       "<div>\n",
       "<style scoped>\n",
       "    .dataframe tbody tr th:only-of-type {\n",
       "        vertical-align: middle;\n",
       "    }\n",
       "\n",
       "    .dataframe tbody tr th {\n",
       "        vertical-align: top;\n",
       "    }\n",
       "\n",
       "    .dataframe thead th {\n",
       "        text-align: right;\n",
       "    }\n",
       "</style>\n",
       "<table border=\"1\" class=\"dataframe\">\n",
       "  <thead>\n",
       "    <tr style=\"text-align: right;\">\n",
       "      <th></th>\n",
       "      <th>season</th>\n",
       "      <th>atleti first match</th>\n",
       "      <th>competitor first match</th>\n",
       "      <th>atleti second match</th>\n",
       "      <th>competitor second match</th>\n",
       "    </tr>\n",
       "  </thead>\n",
       "  <tbody>\n",
       "    <tr>\n",
       "      <th>0</th>\n",
       "      <td>2013/2014</td>\n",
       "      <td>1</td>\n",
       "      <td>1</td>\n",
       "      <td>1</td>\n",
       "      <td>0</td>\n",
       "    </tr>\n",
       "    <tr>\n",
       "      <th>1</th>\n",
       "      <td>2014/2015</td>\n",
       "      <td>0</td>\n",
       "      <td>0</td>\n",
       "      <td>0</td>\n",
       "      <td>1</td>\n",
       "    </tr>\n",
       "    <tr>\n",
       "      <th>2</th>\n",
       "      <td>2015/2016</td>\n",
       "      <td>1</td>\n",
       "      <td>2</td>\n",
       "      <td>2</td>\n",
       "      <td>0</td>\n",
       "    </tr>\n",
       "    <tr>\n",
       "      <th>3</th>\n",
       "      <td>2016/2017</td>\n",
       "      <td>1</td>\n",
       "      <td>0</td>\n",
       "      <td>1</td>\n",
       "      <td>1</td>\n",
       "    </tr>\n",
       "    <tr>\n",
       "      <th>4</th>\n",
       "      <td>2018/2019</td>\n",
       "      <td>1</td>\n",
       "      <td>2</td>\n",
       "      <td>0</td>\n",
       "      <td>0</td>\n",
       "    </tr>\n",
       "    <tr>\n",
       "      <th>5</th>\n",
       "      <td>2022/2022</td>\n",
       "      <td>0</td>\n",
       "      <td>1</td>\n",
       "      <td>0</td>\n",
       "      <td>0</td>\n",
       "    </tr>\n",
       "    <tr>\n",
       "      <th>6</th>\n",
       "      <td>2022/2023</td>\n",
       "      <td>2</td>\n",
       "      <td>1</td>\n",
       "      <td>2</td>\n",
       "      <td>4</td>\n",
       "    </tr>\n",
       "  </tbody>\n",
       "</table>\n",
       "</div>"
      ],
      "text/plain": [
       "      season  atleti first match  competitor first match  atleti second match  \\\n",
       "0  2013/2014                   1                       1                    1   \n",
       "1  2014/2015                   0                       0                    0   \n",
       "2  2015/2016                   1                       2                    2   \n",
       "3  2016/2017                   1                       0                    1   \n",
       "4  2018/2019                   1                       2                    0   \n",
       "5  2022/2022                   0                       1                    0   \n",
       "6  2022/2023                   2                       1                    2   \n",
       "\n",
       "   competitor second match  \n",
       "0                        0  \n",
       "1                        1  \n",
       "2                        0  \n",
       "3                        1  \n",
       "4                        0  \n",
       "5                        0  \n",
       "6                        4  "
      ]
     },
     "execution_count": 73,
     "metadata": {},
     "output_type": "execute_result"
    }
   ],
   "source": [
    "round_8"
   ]
  },
  {
   "cell_type": "code",
   "execution_count": 74,
   "id": "c95d96f4-2f79-492a-837a-3c2d0c46a087",
   "metadata": {},
   "outputs": [
    {
     "name": "stdout",
     "output_type": "stream",
     "text": [
      "Total Goals Scorded by Atleti In UCL Round 8 :  12\n",
      "Total Goals That Atleti Conceded In UCL Round 8 :  13\n"
     ]
    }
   ],
   "source": [
    "total_goals_scored_in_round_8 = np.sum(round_8['atleti first match']) + np.sum(round_8['atleti second match'])\n",
    "total_goals_conceded_in_round_8 = np.sum(round_8['competitor first match']) + np.sum(round_8['competitor second match'])\n",
    "print('Total Goals Scorded by Atleti In UCL Round 8 : ', total_goals_scored_in_round_8)\n",
    "print('Total Goals That Atleti Conceded In UCL Round 8 : ', total_goals_conceded_in_round_8)"
   ]
  },
  {
   "cell_type": "code",
   "execution_count": 75,
   "id": "feb88e00-97bd-4b15-8c3b-647fa669304b",
   "metadata": {},
   "outputs": [
    {
     "name": "stdout",
     "output_type": "stream",
     "text": [
      "Wins 4\n",
      "Loses 5\n",
      "Draw 4\n"
     ]
    }
   ],
   "source": [
    "ateleti_wins = 0\n",
    "atleti_lose = 0\n",
    "draw = -1 # AS during corona Various Round 8 Was only two matches\n",
    "for i in range (0, round_8.shape[0], 1) : \n",
    "    if round_8['atleti first match'][i] > round_8['competitor first match'][i] :\n",
    "        ateleti_wins = ateleti_wins+1\n",
    "\n",
    "    if round_8['atleti first match'][i] < round_8['competitor first match'][i] : \n",
    "        atleti_lose = atleti_lose +1 \n",
    "    if round_8['atleti first match'][i] == round_8['competitor first match'][i] : \n",
    "        draw = draw +1 \n",
    "    if round_8['atleti second match'][i] > round_8['competitor second match'][i] :\n",
    "        ateleti_wins = ateleti_wins+1\n",
    "    if round_8['atleti second match'][i] < round_8['competitor second match'][i] :\n",
    "        atleti_lose = atleti_lose +1\n",
    "    if round_8['atleti second match'][i] == round_8['competitor second match'][i] :\n",
    "        draw = draw +1\n",
    "print(\"Wins\", ateleti_wins)\n",
    "print(\"Loses\",atleti_lose)\n",
    "print(\"Draw\", draw)"
   ]
  },
  {
   "cell_type": "code",
   "execution_count": 76,
   "id": "bc718050-f46b-483d-a54e-660aa46f6409",
   "metadata": {},
   "outputs": [],
   "source": [
    "## semi final"
   ]
  },
  {
   "cell_type": "code",
   "execution_count": 77,
   "id": "d30dda37-1599-4806-a428-081f444865bc",
   "metadata": {},
   "outputs": [],
   "source": [
    "semi_final = pd.read_csv(\"processed data/simone_semi_final_ucl.csv\")"
   ]
  },
  {
   "cell_type": "code",
   "execution_count": 78,
   "id": "b9d71dc6-6ede-4f2e-8ca2-348c914eb1bf",
   "metadata": {},
   "outputs": [
    {
     "data": {
      "text/html": [
       "<div>\n",
       "<style scoped>\n",
       "    .dataframe tbody tr th:only-of-type {\n",
       "        vertical-align: middle;\n",
       "    }\n",
       "\n",
       "    .dataframe tbody tr th {\n",
       "        vertical-align: top;\n",
       "    }\n",
       "\n",
       "    .dataframe thead th {\n",
       "        text-align: right;\n",
       "    }\n",
       "</style>\n",
       "<table border=\"1\" class=\"dataframe\">\n",
       "  <thead>\n",
       "    <tr style=\"text-align: right;\">\n",
       "      <th></th>\n",
       "      <th>season</th>\n",
       "      <th>atleti first match</th>\n",
       "      <th>competitor first match</th>\n",
       "      <th>atleti second match</th>\n",
       "      <th>competitor second match</th>\n",
       "    </tr>\n",
       "  </thead>\n",
       "  <tbody>\n",
       "    <tr>\n",
       "      <th>0</th>\n",
       "      <td>2013/2014</td>\n",
       "      <td>0</td>\n",
       "      <td>0</td>\n",
       "      <td>3</td>\n",
       "      <td>1</td>\n",
       "    </tr>\n",
       "    <tr>\n",
       "      <th>1</th>\n",
       "      <td>2015/2016</td>\n",
       "      <td>1</td>\n",
       "      <td>0</td>\n",
       "      <td>1</td>\n",
       "      <td>2</td>\n",
       "    </tr>\n",
       "    <tr>\n",
       "      <th>2</th>\n",
       "      <td>2016/2017</td>\n",
       "      <td>0</td>\n",
       "      <td>3</td>\n",
       "      <td>2</td>\n",
       "      <td>1</td>\n",
       "    </tr>\n",
       "  </tbody>\n",
       "</table>\n",
       "</div>"
      ],
      "text/plain": [
       "      season  atleti first match  competitor first match  atleti second match  \\\n",
       "0  2013/2014                   0                       0                    3   \n",
       "1  2015/2016                   1                       0                    1   \n",
       "2  2016/2017                   0                       3                    2   \n",
       "\n",
       "   competitor second match  \n",
       "0                        1  \n",
       "1                        2  \n",
       "2                        1  "
      ]
     },
     "execution_count": 78,
     "metadata": {},
     "output_type": "execute_result"
    }
   ],
   "source": [
    "semi_final"
   ]
  },
  {
   "cell_type": "code",
   "execution_count": 79,
   "id": "cf996cc4-ca4e-47cc-a1a5-10c15cc59b7e",
   "metadata": {},
   "outputs": [
    {
     "name": "stdout",
     "output_type": "stream",
     "text": [
      "Total Goals Scorded by Atleti In UCL Semi Final :  7\n",
      "Total Goals That Atleti Conceded In UCL Semi Final :  7\n"
     ]
    }
   ],
   "source": [
    "total_goals_scored_in_semi_final = np.sum(semi_final['atleti first match']) + np.sum(semi_final['atleti second match'])\n",
    "total_goals_conceded_in_semi_final = np.sum(semi_final['competitor first match']) + np.sum(semi_final['competitor second match'])\n",
    "print('Total Goals Scorded by Atleti In UCL Semi Final : ', total_goals_scored_in_semi_final)\n",
    "print('Total Goals That Atleti Conceded In UCL Semi Final : ', total_goals_conceded_in_semi_final)"
   ]
  },
  {
   "cell_type": "code",
   "execution_count": 80,
   "id": "4fc53dac-2671-4185-b2be-25c9a364737c",
   "metadata": {},
   "outputs": [],
   "source": [
    "## Finals"
   ]
  },
  {
   "cell_type": "code",
   "execution_count": 81,
   "id": "6eb2bd2f-be28-4ebe-a016-33d59f4d1a2e",
   "metadata": {},
   "outputs": [],
   "source": [
    "final = pd.read_csv(\"processed data/simone_finals_ucl.csv\")"
   ]
  },
  {
   "cell_type": "code",
   "execution_count": 82,
   "id": "ae4f7718-e1fd-4c2e-a5ee-766e21797168",
   "metadata": {},
   "outputs": [
    {
     "data": {
      "text/html": [
       "<div>\n",
       "<style scoped>\n",
       "    .dataframe tbody tr th:only-of-type {\n",
       "        vertical-align: middle;\n",
       "    }\n",
       "\n",
       "    .dataframe tbody tr th {\n",
       "        vertical-align: top;\n",
       "    }\n",
       "\n",
       "    .dataframe thead th {\n",
       "        text-align: right;\n",
       "    }\n",
       "</style>\n",
       "<table border=\"1\" class=\"dataframe\">\n",
       "  <thead>\n",
       "    <tr style=\"text-align: right;\">\n",
       "      <th></th>\n",
       "      <th>season</th>\n",
       "      <th>atleti first match</th>\n",
       "      <th>competitor first match</th>\n",
       "      <th>atleti second match</th>\n",
       "      <th>competitor second match</th>\n",
       "    </tr>\n",
       "  </thead>\n",
       "  <tbody>\n",
       "    <tr>\n",
       "      <th>0</th>\n",
       "      <td>2013/2014</td>\n",
       "      <td>1</td>\n",
       "      <td>4</td>\n",
       "      <td>0</td>\n",
       "      <td>0</td>\n",
       "    </tr>\n",
       "    <tr>\n",
       "      <th>1</th>\n",
       "      <td>2015/2016</td>\n",
       "      <td>1</td>\n",
       "      <td>1</td>\n",
       "      <td>0</td>\n",
       "      <td>0</td>\n",
       "    </tr>\n",
       "  </tbody>\n",
       "</table>\n",
       "</div>"
      ],
      "text/plain": [
       "      season  atleti first match  competitor first match  atleti second match  \\\n",
       "0  2013/2014                   1                       4                    0   \n",
       "1  2015/2016                   1                       1                    0   \n",
       "\n",
       "   competitor second match  \n",
       "0                        0  \n",
       "1                        0  "
      ]
     },
     "execution_count": 82,
     "metadata": {},
     "output_type": "execute_result"
    }
   ],
   "source": [
    "final"
   ]
  },
  {
   "cell_type": "code",
   "execution_count": 83,
   "id": "72344006-9cb4-4444-bb88-22227b9d4d8c",
   "metadata": {},
   "outputs": [
    {
     "name": "stdout",
     "output_type": "stream",
     "text": [
      "Total Goals Scorded by Atleti In UCL  Final :  2\n",
      "Total Goals That Atleti Conceded In UCL  Final :  5\n"
     ]
    }
   ],
   "source": [
    "total_goals_scored_in_final = np.sum(final['atleti first match']) + np.sum(final['atleti second match'])\n",
    "total_goals_conceded_in_final = np.sum(final['competitor first match']) + np.sum(final['competitor second match'])\n",
    "print('Total Goals Scorded by Atleti In UCL  Final : ', total_goals_scored_in_final)\n",
    "print('Total Goals That Atleti Conceded In UCL  Final : ', total_goals_conceded_in_final)"
   ]
  },
  {
   "cell_type": "code",
   "execution_count": 84,
   "id": "b13e097d-9903-44a8-875d-f47a195ab00e",
   "metadata": {},
   "outputs": [],
   "source": [
    "## Total Goals Scored,Concerned By Atleti on UCL "
   ]
  },
  {
   "cell_type": "code",
   "execution_count": 85,
   "id": "2cb14177-c880-4d42-a6c9-7f91391e2591",
   "metadata": {},
   "outputs": [],
   "source": [
    "total_atleti_scored_goals = total_goals_scored_in_group_stage + total_goals_scored_in_round_16 + total_goals_scored_in_round_8 + total_goals_scored_in_semi_final + total_goals_scored_in_final\n",
    "total_atleti_conceded_goals = total_goals_conceded_in_group_stage + total_goals_conceded_in_round_16 + total_goals_conceded_in_round_8 + total_goals_conceded_in_semi_final + total_goals_conceded_in_final"
   ]
  },
  {
   "cell_type": "code",
   "execution_count": 86,
   "id": "0a0036b9-26da-4a37-a951-1ab9f680a8f7",
   "metadata": {},
   "outputs": [
    {
     "name": "stdout",
     "output_type": "stream",
     "text": [
      "Total Scored Golas   :  146\n",
      "Total Conceded Goals :  97\n"
     ]
    }
   ],
   "source": [
    "print('Total Scored Golas   : ', total_atleti_scored_goals)\n",
    "print('Total Conceded Goals : ', total_atleti_conceded_goals)"
   ]
  },
  {
   "cell_type": "code",
   "execution_count": 87,
   "id": "77669de8-c8ad-4e02-8dfa-bfaa6d3aaf36",
   "metadata": {},
   "outputs": [],
   "source": [
    "top_socred_teams_in_ucl = pd.read_csv(\"processed data/top_teams_scores_goals_in_ucl_df.csv\")"
   ]
  },
  {
   "cell_type": "code",
   "execution_count": 88,
   "id": "6faf013b-7e89-46cb-b048-6dddcb5ed1e2",
   "metadata": {},
   "outputs": [
    {
     "data": {
      "text/html": [
       "<div>\n",
       "<style scoped>\n",
       "    .dataframe tbody tr th:only-of-type {\n",
       "        vertical-align: middle;\n",
       "    }\n",
       "\n",
       "    .dataframe tbody tr th {\n",
       "        vertical-align: top;\n",
       "    }\n",
       "\n",
       "    .dataframe thead th {\n",
       "        text-align: right;\n",
       "    }\n",
       "</style>\n",
       "<table border=\"1\" class=\"dataframe\">\n",
       "  <thead>\n",
       "    <tr style=\"text-align: right;\">\n",
       "      <th></th>\n",
       "      <th>team name, rank, nation</th>\n",
       "      <th>total goals</th>\n",
       "    </tr>\n",
       "  </thead>\n",
       "  <tbody>\n",
       "    <tr>\n",
       "      <th>0</th>\n",
       "      <td>1 Real Madrid ESP</td>\n",
       "      <td>1075</td>\n",
       "    </tr>\n",
       "    <tr>\n",
       "      <th>1</th>\n",
       "      <td>2 Bayern MÃ¼nchen GER</td>\n",
       "      <td>825</td>\n",
       "    </tr>\n",
       "    <tr>\n",
       "      <th>2</th>\n",
       "      <td>3 Barcelona ESP</td>\n",
       "      <td>687</td>\n",
       "    </tr>\n",
       "    <tr>\n",
       "      <th>3</th>\n",
       "      <td>4 Man Utd ENG</td>\n",
       "      <td>545</td>\n",
       "    </tr>\n",
       "    <tr>\n",
       "      <th>4</th>\n",
       "      <td>5 Benfica POR</td>\n",
       "      <td>479</td>\n",
       "    </tr>\n",
       "    <tr>\n",
       "      <th>...</th>\n",
       "      <td>...</td>\n",
       "      <td>...</td>\n",
       "    </tr>\n",
       "    <tr>\n",
       "      <th>95</th>\n",
       "      <td>96 Lokomotiv Moskva RUS</td>\n",
       "      <td>56</td>\n",
       "    </tr>\n",
       "    <tr>\n",
       "      <th>96</th>\n",
       "      <td>96 BrÃ¸ndby DEN</td>\n",
       "      <td>56</td>\n",
       "    </tr>\n",
       "    <tr>\n",
       "      <th>97</th>\n",
       "      <td>98 CFR Cluj ROU</td>\n",
       "      <td>54</td>\n",
       "    </tr>\n",
       "    <tr>\n",
       "      <th>98</th>\n",
       "      <td>98 Lille FRA</td>\n",
       "      <td>54</td>\n",
       "    </tr>\n",
       "    <tr>\n",
       "      <th>99</th>\n",
       "      <td>98 Dinamo Tbilisi GEO</td>\n",
       "      <td>54</td>\n",
       "    </tr>\n",
       "  </tbody>\n",
       "</table>\n",
       "<p>100 rows × 2 columns</p>\n",
       "</div>"
      ],
      "text/plain": [
       "    team name, rank, nation  total goals\n",
       "0         1 Real Madrid ESP         1075\n",
       "1     2 Bayern MÃ¼nchen GER          825\n",
       "2           3 Barcelona ESP          687\n",
       "3             4 Man Utd ENG          545\n",
       "4             5 Benfica POR          479\n",
       "..                      ...          ...\n",
       "95  96 Lokomotiv Moskva RUS           56\n",
       "96          96 BrÃ¸ndby DEN           56\n",
       "97          98 CFR Cluj ROU           54\n",
       "98             98 Lille FRA           54\n",
       "99    98 Dinamo Tbilisi GEO           54\n",
       "\n",
       "[100 rows x 2 columns]"
      ]
     },
     "execution_count": 88,
     "metadata": {},
     "output_type": "execute_result"
    }
   ],
   "source": [
    "top_socred_teams_in_ucl"
   ]
  },
  {
   "cell_type": "code",
   "execution_count": 89,
   "id": "7c4491fe-dd5a-44b8-a51b-c735cb039194",
   "metadata": {},
   "outputs": [
    {
     "data": {
      "text/html": [
       "<div>\n",
       "<style scoped>\n",
       "    .dataframe tbody tr th:only-of-type {\n",
       "        vertical-align: middle;\n",
       "    }\n",
       "\n",
       "    .dataframe tbody tr th {\n",
       "        vertical-align: top;\n",
       "    }\n",
       "\n",
       "    .dataframe thead th {\n",
       "        text-align: right;\n",
       "    }\n",
       "</style>\n",
       "<table border=\"1\" class=\"dataframe\">\n",
       "  <thead>\n",
       "    <tr style=\"text-align: right;\">\n",
       "      <th></th>\n",
       "      <th>team name, rank, nation</th>\n",
       "      <th>total goals</th>\n",
       "    </tr>\n",
       "  </thead>\n",
       "  <tbody>\n",
       "    <tr>\n",
       "      <th>21</th>\n",
       "      <td>22 Atleti ESP</td>\n",
       "      <td>249</td>\n",
       "    </tr>\n",
       "  </tbody>\n",
       "</table>\n",
       "</div>"
      ],
      "text/plain": [
       "   team name, rank, nation  total goals\n",
       "21           22 Atleti ESP          249"
      ]
     },
     "execution_count": 89,
     "metadata": {},
     "output_type": "execute_result"
    }
   ],
   "source": [
    "top_socred_teams_in_ucl[top_socred_teams_in_ucl['team name, rank, nation'].str.contains('Atl')]"
   ]
  },
  {
   "cell_type": "code",
   "execution_count": 90,
   "id": "b7290645-992e-4d94-afd0-093ce5799393",
   "metadata": {},
   "outputs": [],
   "source": [
    "total_atleti_socred = 249"
   ]
  },
  {
   "cell_type": "code",
   "execution_count": 91,
   "id": "92d11b41-f7b6-4022-8cb1-e174ad43d314",
   "metadata": {},
   "outputs": [
    {
     "data": {
      "text/plain": [
       "103"
      ]
     },
     "execution_count": 91,
     "metadata": {},
     "output_type": "execute_result"
    }
   ],
   "source": [
    "total_atleti_socred_before_simone = total_atleti_socred - total_atleti_scored_goals\n",
    "total_atleti_socred_before_simone"
   ]
  },
  {
   "cell_type": "code",
   "execution_count": 92,
   "id": "67d1ffad-0f6a-4320-956a-e4348a6fc72e",
   "metadata": {},
   "outputs": [],
   "source": [
    "top_conceded_teams_in_ucl = pd.read_csv('processed data/top_teams_conceded_goal_in_ucl_dataframe.csv')"
   ]
  },
  {
   "cell_type": "code",
   "execution_count": 93,
   "id": "1ee7b6a8-c2bb-4371-84db-a29925abe7aa",
   "metadata": {},
   "outputs": [
    {
     "data": {
      "text/html": [
       "<div>\n",
       "<style scoped>\n",
       "    .dataframe tbody tr th:only-of-type {\n",
       "        vertical-align: middle;\n",
       "    }\n",
       "\n",
       "    .dataframe tbody tr th {\n",
       "        vertical-align: top;\n",
       "    }\n",
       "\n",
       "    .dataframe thead th {\n",
       "        text-align: right;\n",
       "    }\n",
       "</style>\n",
       "<table border=\"1\" class=\"dataframe\">\n",
       "  <thead>\n",
       "    <tr style=\"text-align: right;\">\n",
       "      <th></th>\n",
       "      <th>team name, rank, nation</th>\n",
       "      <th>total goals</th>\n",
       "    </tr>\n",
       "  </thead>\n",
       "  <tbody>\n",
       "    <tr>\n",
       "      <th>0</th>\n",
       "      <td>1 Real Madrid ESP</td>\n",
       "      <td>536</td>\n",
       "    </tr>\n",
       "    <tr>\n",
       "      <th>1</th>\n",
       "      <td>2 Bayern MÃ¼nchen GER</td>\n",
       "      <td>386</td>\n",
       "    </tr>\n",
       "    <tr>\n",
       "      <th>2</th>\n",
       "      <td>3 Barcelona ESP</td>\n",
       "      <td>357</td>\n",
       "    </tr>\n",
       "    <tr>\n",
       "      <th>3</th>\n",
       "      <td>4 Benfica POR</td>\n",
       "      <td>345</td>\n",
       "    </tr>\n",
       "    <tr>\n",
       "      <th>4</th>\n",
       "      <td>5 Dynamo Kyiv UKR</td>\n",
       "      <td>320</td>\n",
       "    </tr>\n",
       "  </tbody>\n",
       "</table>\n",
       "</div>"
      ],
      "text/plain": [
       "  team name, rank, nation  total goals\n",
       "0       1 Real Madrid ESP          536\n",
       "1   2 Bayern MÃ¼nchen GER          386\n",
       "2         3 Barcelona ESP          357\n",
       "3           4 Benfica POR          345\n",
       "4       5 Dynamo Kyiv UKR          320"
      ]
     },
     "execution_count": 93,
     "metadata": {},
     "output_type": "execute_result"
    }
   ],
   "source": [
    "top_conceded_teams_in_ucl.head()"
   ]
  },
  {
   "cell_type": "code",
   "execution_count": 94,
   "id": "03caf1f3-1a02-4964-a9a7-3ee4d1ea313a",
   "metadata": {},
   "outputs": [
    {
     "data": {
      "text/html": [
       "<div>\n",
       "<style scoped>\n",
       "    .dataframe tbody tr th:only-of-type {\n",
       "        vertical-align: middle;\n",
       "    }\n",
       "\n",
       "    .dataframe tbody tr th {\n",
       "        vertical-align: top;\n",
       "    }\n",
       "\n",
       "    .dataframe thead th {\n",
       "        text-align: right;\n",
       "    }\n",
       "</style>\n",
       "<table border=\"1\" class=\"dataframe\">\n",
       "  <thead>\n",
       "    <tr style=\"text-align: right;\">\n",
       "      <th></th>\n",
       "      <th>team name, rank, nation</th>\n",
       "      <th>total goals</th>\n",
       "    </tr>\n",
       "  </thead>\n",
       "  <tbody>\n",
       "    <tr>\n",
       "      <th>36</th>\n",
       "      <td>37 Atleti ESP</td>\n",
       "      <td>165</td>\n",
       "    </tr>\n",
       "  </tbody>\n",
       "</table>\n",
       "</div>"
      ],
      "text/plain": [
       "   team name, rank, nation  total goals\n",
       "36           37 Atleti ESP          165"
      ]
     },
     "execution_count": 94,
     "metadata": {},
     "output_type": "execute_result"
    }
   ],
   "source": [
    "top_conceded_teams_in_ucl[top_conceded_teams_in_ucl['team name, rank, nation'].str.contains('Atl')]"
   ]
  },
  {
   "cell_type": "code",
   "execution_count": 95,
   "id": "a8b088cb-0d49-4dd0-b45c-dbd0d61e399b",
   "metadata": {},
   "outputs": [],
   "source": [
    "total_atleti_conceded = 165"
   ]
  },
  {
   "cell_type": "code",
   "execution_count": 96,
   "id": "8d89d327-10f7-43fc-b6e6-c4d15d5431e7",
   "metadata": {},
   "outputs": [
    {
     "data": {
      "text/plain": [
       "68"
      ]
     },
     "execution_count": 96,
     "metadata": {},
     "output_type": "execute_result"
    }
   ],
   "source": [
    "total_atleti_conceded_before_simone = total_atleti_conceded - total_atleti_conceded_goals\n",
    "total_atleti_conceded_before_simone"
   ]
  },
  {
   "cell_type": "code",
   "execution_count": 97,
   "id": "1457cc8f-b96f-459f-8ead-50a67b4bacc8",
   "metadata": {},
   "outputs": [
    {
     "data": {
      "text/plain": [
       "1.58"
      ]
     },
     "execution_count": 97,
     "metadata": {},
     "output_type": "execute_result"
    }
   ],
   "source": [
    "round(103/65,2)"
   ]
  },
  {
   "cell_type": "code",
   "execution_count": 98,
   "id": "77e645f1-384a-46b1-8352-4cb30d10f7be",
   "metadata": {},
   "outputs": [
    {
     "data": {
      "text/plain": [
       "1.39"
      ]
     },
     "execution_count": 98,
     "metadata": {},
     "output_type": "execute_result"
    }
   ],
   "source": [
    "round(146/105,2)"
   ]
  },
  {
   "cell_type": "markdown",
   "id": "7651a979-2ac3-4945-8bd2-49c111d517d4",
   "metadata": {},
   "source": [
    "## Visualizing the previous statistics using Google looker Studio"
   ]
  },
  {
   "cell_type": "code",
   "execution_count": 99,
   "id": "a9d138b4-cfbd-4020-99bf-6968f53259bc",
   "metadata": {},
   "outputs": [
    {
     "data": {
      "image/png": "[encoded data removed]",
      "text/plain": [
       "<Figure size 1000x900 with 1 Axes>"
      ]
     },
     "metadata": {},
     "output_type": "display_data"
    }
   ],
   "source": [
    "show_image('images/ucl_1.png')"
   ]
  },
  {
   "cell_type": "code",
   "execution_count": 100,
   "id": "10289f7a-a0a5-4bf6-a524-6bc0dc056de1",
   "metadata": {},
   "outputs": [
    {
     "data": {
      "image/png": "[encoded data removed]",
      "text/plain": [
       "<Figure size 1000x900 with 1 Axes>"
      ]
     },
     "metadata": {},
     "output_type": "display_data"
    }
   ],
   "source": [
    "show_image('images/ucl_2.png')"
   ]
  }
 ],
 "metadata": {
  "kernelspec": {
   "display_name": "Python 3 (ipykernel)",
   "language": "python",
   "name": "python3"
  },
  "language_info": {
   "codemirror_mode": {
    "name": "ipython",
    "version": 3
   },
   "file_extension": ".py",
   "mimetype": "text/x-python",
   "name": "python",
   "nbconvert_exporter": "python",
   "pygments_lexer": "ipython3",
   "version": "3.11.5"
  }
 },
 "nbformat": 4,
 "nbformat_minor": 5
}

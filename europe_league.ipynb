{
 "cells": [
  {
   "cell_type": "code",
   "execution_count": 1,
   "id": "03842469-a7b9-48e0-84dd-a691c353c026",
   "metadata": {},
   "outputs": [],
   "source": [
    "import pandas as pd\n",
    "import numpy as np"
   ]
  },
  {
   "cell_type": "code",
   "execution_count": 2,
   "id": "5532d908-079c-4b4c-8675-e08680083002",
   "metadata": {},
   "outputs": [],
   "source": [
    "import matplotlib.pyplot as plt\n",
    "import matplotlib.image as mpimg"
   ]
  },
  {
   "cell_type": "code",
   "execution_count": 3,
   "id": "490489f7-9745-4ae1-9f65-99a0f098c459",
   "metadata": {},
   "outputs": [],
   "source": [
    "def upload_data(df, file_path):\n",
    "    df.to_csv(file_path, index=False)"
   ]
  },
  {
   "cell_type": "code",
   "execution_count": 4,
   "id": "8352fd7f-8ffc-446a-82db-6aaa9c638fe3",
   "metadata": {},
   "outputs": [],
   "source": [
    "def show_image(image_path):\n",
    "    img_path = image_path\n",
    "    \n",
    "    img1 = mpimg.imread(img_path)\n",
    "    fig, ax = plt.subplots(figsize=(10, 9))\n",
    "    ax.imshow(img1)\n",
    "    ax.axis(\"off\")  \n",
    "    plt.show()  "
   ]
  },
  {
   "cell_type": "markdown",
   "id": "378d93d7-6640-4d35-9e99-4336866cbe24",
   "metadata": {},
   "source": [
    "## Data Uploading"
   ]
  },
  {
   "cell_type": "code",
   "execution_count": 5,
   "id": "cf30a71c-28f4-4294-9496-3647612ec196",
   "metadata": {},
   "outputs": [],
   "source": [
    "atleti_euro_data = pd.read_csv(\"processed data/atleti_history_in_europe_league.csv\")"
   ]
  },
  {
   "cell_type": "code",
   "execution_count": 6,
   "id": "c04a80ae-100a-4b5e-bc48-47f3239b8812",
   "metadata": {},
   "outputs": [
    {
     "data": {
      "text/html": [
       "<div>\n",
       "<style scoped>\n",
       "    .dataframe tbody tr th:only-of-type {\n",
       "        vertical-align: middle;\n",
       "    }\n",
       "\n",
       "    .dataframe tbody tr th {\n",
       "        vertical-align: top;\n",
       "    }\n",
       "\n",
       "    .dataframe thead th {\n",
       "        text-align: right;\n",
       "    }\n",
       "</style>\n",
       "<table border=\"1\" class=\"dataframe\">\n",
       "  <thead>\n",
       "    <tr style=\"text-align: right;\">\n",
       "      <th></th>\n",
       "      <th>season</th>\n",
       "      <th>stage</th>\n",
       "      <th>played</th>\n",
       "      <th>win</th>\n",
       "      <th>draw</th>\n",
       "      <th>lose</th>\n",
       "    </tr>\n",
       "  </thead>\n",
       "  <tbody>\n",
       "    <tr>\n",
       "      <th>0</th>\n",
       "      <td>2017/18</td>\n",
       "      <td>Final</td>\n",
       "      <td>9</td>\n",
       "      <td>7</td>\n",
       "      <td>1</td>\n",
       "      <td>1</td>\n",
       "    </tr>\n",
       "    <tr>\n",
       "      <th>1</th>\n",
       "      <td>2012/13</td>\n",
       "      <td>Round of 32</td>\n",
       "      <td>8</td>\n",
       "      <td>5</td>\n",
       "      <td>0</td>\n",
       "      <td>3</td>\n",
       "    </tr>\n",
       "    <tr>\n",
       "      <th>2</th>\n",
       "      <td>2011/12</td>\n",
       "      <td>Final</td>\n",
       "      <td>19</td>\n",
       "      <td>17</td>\n",
       "      <td>1</td>\n",
       "      <td>1</td>\n",
       "    </tr>\n",
       "    <tr>\n",
       "      <th>3</th>\n",
       "      <td>2010/11</td>\n",
       "      <td>Group stage</td>\n",
       "      <td>6</td>\n",
       "      <td>2</td>\n",
       "      <td>2</td>\n",
       "      <td>2</td>\n",
       "    </tr>\n",
       "    <tr>\n",
       "      <th>4</th>\n",
       "      <td>2009/10</td>\n",
       "      <td>Final</td>\n",
       "      <td>9</td>\n",
       "      <td>3</td>\n",
       "      <td>5</td>\n",
       "      <td>1</td>\n",
       "    </tr>\n",
       "    <tr>\n",
       "      <th>5</th>\n",
       "      <td>2007/08</td>\n",
       "      <td>Round of 32</td>\n",
       "      <td>10</td>\n",
       "      <td>7</td>\n",
       "      <td>2</td>\n",
       "      <td>1</td>\n",
       "    </tr>\n",
       "    <tr>\n",
       "      <th>6</th>\n",
       "      <td>1999/00</td>\n",
       "      <td>Fourth round</td>\n",
       "      <td>8</td>\n",
       "      <td>5</td>\n",
       "      <td>1</td>\n",
       "      <td>2</td>\n",
       "    </tr>\n",
       "    <tr>\n",
       "      <th>7</th>\n",
       "      <td>1998/99</td>\n",
       "      <td>Semi-finals</td>\n",
       "      <td>10</td>\n",
       "      <td>7</td>\n",
       "      <td>0</td>\n",
       "      <td>3</td>\n",
       "    </tr>\n",
       "    <tr>\n",
       "      <th>8</th>\n",
       "      <td>1997/98</td>\n",
       "      <td>Semi-finals</td>\n",
       "      <td>10</td>\n",
       "      <td>5</td>\n",
       "      <td>3</td>\n",
       "      <td>2</td>\n",
       "    </tr>\n",
       "    <tr>\n",
       "      <th>9</th>\n",
       "      <td>1993/94</td>\n",
       "      <td>Second round</td>\n",
       "      <td>4</td>\n",
       "      <td>2</td>\n",
       "      <td>0</td>\n",
       "      <td>2</td>\n",
       "    </tr>\n",
       "    <tr>\n",
       "      <th>10</th>\n",
       "      <td>1990/91</td>\n",
       "      <td>First round</td>\n",
       "      <td>2</td>\n",
       "      <td>1</td>\n",
       "      <td>0</td>\n",
       "      <td>1</td>\n",
       "    </tr>\n",
       "    <tr>\n",
       "      <th>11</th>\n",
       "      <td>1989/90</td>\n",
       "      <td>First round</td>\n",
       "      <td>2</td>\n",
       "      <td>1</td>\n",
       "      <td>1</td>\n",
       "      <td>0</td>\n",
       "    </tr>\n",
       "    <tr>\n",
       "      <th>12</th>\n",
       "      <td>1988/89</td>\n",
       "      <td>First round</td>\n",
       "      <td>2</td>\n",
       "      <td>1</td>\n",
       "      <td>0</td>\n",
       "      <td>1</td>\n",
       "    </tr>\n",
       "    <tr>\n",
       "      <th>13</th>\n",
       "      <td>1986/87</td>\n",
       "      <td>Second round</td>\n",
       "      <td>4</td>\n",
       "      <td>2</td>\n",
       "      <td>0</td>\n",
       "      <td>2</td>\n",
       "    </tr>\n",
       "    <tr>\n",
       "      <th>14</th>\n",
       "      <td>1984/85</td>\n",
       "      <td>First round</td>\n",
       "      <td>2</td>\n",
       "      <td>0</td>\n",
       "      <td>0</td>\n",
       "      <td>2</td>\n",
       "    </tr>\n",
       "    <tr>\n",
       "      <th>15</th>\n",
       "      <td>1983/84</td>\n",
       "      <td>First round</td>\n",
       "      <td>2</td>\n",
       "      <td>1</td>\n",
       "      <td>0</td>\n",
       "      <td>1</td>\n",
       "    </tr>\n",
       "    <tr>\n",
       "      <th>16</th>\n",
       "      <td>1981/82</td>\n",
       "      <td>First round</td>\n",
       "      <td>2</td>\n",
       "      <td>1</td>\n",
       "      <td>0</td>\n",
       "      <td>1</td>\n",
       "    </tr>\n",
       "    <tr>\n",
       "      <th>17</th>\n",
       "      <td>1979/80</td>\n",
       "      <td>First round</td>\n",
       "      <td>2</td>\n",
       "      <td>0</td>\n",
       "      <td>0</td>\n",
       "      <td>2</td>\n",
       "    </tr>\n",
       "    <tr>\n",
       "      <th>18</th>\n",
       "      <td>1974/75</td>\n",
       "      <td>Second round</td>\n",
       "      <td>4</td>\n",
       "      <td>1</td>\n",
       "      <td>2</td>\n",
       "      <td>1</td>\n",
       "    </tr>\n",
       "    <tr>\n",
       "      <th>19</th>\n",
       "      <td>1971/72</td>\n",
       "      <td>First round</td>\n",
       "      <td>2</td>\n",
       "      <td>1</td>\n",
       "      <td>0</td>\n",
       "      <td>1</td>\n",
       "    </tr>\n",
       "  </tbody>\n",
       "</table>\n",
       "</div>"
      ],
      "text/plain": [
       "     season         stage  played  win  draw  lose\n",
       "0   2017/18         Final       9    7     1     1\n",
       "1   2012/13   Round of 32       8    5     0     3\n",
       "2   2011/12         Final      19   17     1     1\n",
       "3   2010/11   Group stage       6    2     2     2\n",
       "4   2009/10         Final       9    3     5     1\n",
       "5   2007/08   Round of 32      10    7     2     1\n",
       "6   1999/00  Fourth round       8    5     1     2\n",
       "7   1998/99   Semi-finals      10    7     0     3\n",
       "8   1997/98   Semi-finals      10    5     3     2\n",
       "9   1993/94  Second round       4    2     0     2\n",
       "10  1990/91   First round       2    1     0     1\n",
       "11  1989/90   First round       2    1     1     0\n",
       "12  1988/89   First round       2    1     0     1\n",
       "13  1986/87  Second round       4    2     0     2\n",
       "14  1984/85   First round       2    0     0     2\n",
       "15  1983/84   First round       2    1     0     1\n",
       "16  1981/82   First round       2    1     0     1\n",
       "17  1979/80   First round       2    0     0     2\n",
       "18  1974/75  Second round       4    1     2     1\n",
       "19  1971/72   First round       2    1     0     1"
      ]
     },
     "execution_count": 6,
     "metadata": {},
     "output_type": "execute_result"
    }
   ],
   "source": [
    "atleti_euro_data"
   ]
  },
  {
   "cell_type": "code",
   "execution_count": 7,
   "id": "08eba068-7696-4a4c-98f6-727df41d4483",
   "metadata": {},
   "outputs": [],
   "source": [
    "#### How Many Times That Atleti Shares In Europe League ? "
   ]
  },
  {
   "cell_type": "code",
   "execution_count": 8,
   "id": "8ae86503-435a-4c98-9c12-04c074363975",
   "metadata": {},
   "outputs": [
    {
     "data": {
      "text/plain": [
       "20"
      ]
     },
     "execution_count": 8,
     "metadata": {},
     "output_type": "execute_result"
    }
   ],
   "source": [
    "len(atleti_euro_data['stage'])"
   ]
  },
  {
   "cell_type": "code",
   "execution_count": 9,
   "id": "19f10a85-bc22-4447-9baa-277f8025beee",
   "metadata": {},
   "outputs": [
    {
     "name": "stdout",
     "output_type": "stream",
     "text": [
      "Total Atleti Wins  :  69\n",
      "Total Atleti Draws :  18\n",
      "Total Atleti Loses :  30\n"
     ]
    }
   ],
   "source": [
    "print('Total Atleti Wins  : ', np.sum(atleti_euro_data['win']))\n",
    "print('Total Atleti Draws : ', np.sum(atleti_euro_data['draw']))\n",
    "print('Total Atleti Loses : ', np.sum(atleti_euro_data['lose']))"
   ]
  },
  {
   "cell_type": "code",
   "execution_count": 10,
   "id": "7a20a8cb-69b9-415f-9c1d-8cced7b75ea4",
   "metadata": {},
   "outputs": [],
   "source": [
    "## Before Simone"
   ]
  },
  {
   "cell_type": "code",
   "execution_count": 11,
   "id": "ded3efa6-9e50-486f-9074-5b59bbea205a",
   "metadata": {},
   "outputs": [],
   "source": [
    "atleti_euro_league_before_simone = atleti_euro_data.iloc[3:, :]"
   ]
  },
  {
   "cell_type": "code",
   "execution_count": 12,
   "id": "f41383b0-e086-417b-9198-29f4a1762f0c",
   "metadata": {},
   "outputs": [
    {
     "data": {
      "text/html": [
       "<div>\n",
       "<style scoped>\n",
       "    .dataframe tbody tr th:only-of-type {\n",
       "        vertical-align: middle;\n",
       "    }\n",
       "\n",
       "    .dataframe tbody tr th {\n",
       "        vertical-align: top;\n",
       "    }\n",
       "\n",
       "    .dataframe thead th {\n",
       "        text-align: right;\n",
       "    }\n",
       "</style>\n",
       "<table border=\"1\" class=\"dataframe\">\n",
       "  <thead>\n",
       "    <tr style=\"text-align: right;\">\n",
       "      <th></th>\n",
       "      <th>season</th>\n",
       "      <th>stage</th>\n",
       "      <th>played</th>\n",
       "      <th>win</th>\n",
       "      <th>draw</th>\n",
       "      <th>lose</th>\n",
       "    </tr>\n",
       "  </thead>\n",
       "  <tbody>\n",
       "    <tr>\n",
       "      <th>3</th>\n",
       "      <td>2010/11</td>\n",
       "      <td>Group stage</td>\n",
       "      <td>6</td>\n",
       "      <td>2</td>\n",
       "      <td>2</td>\n",
       "      <td>2</td>\n",
       "    </tr>\n",
       "    <tr>\n",
       "      <th>4</th>\n",
       "      <td>2009/10</td>\n",
       "      <td>Final</td>\n",
       "      <td>9</td>\n",
       "      <td>3</td>\n",
       "      <td>5</td>\n",
       "      <td>1</td>\n",
       "    </tr>\n",
       "    <tr>\n",
       "      <th>5</th>\n",
       "      <td>2007/08</td>\n",
       "      <td>Round of 32</td>\n",
       "      <td>10</td>\n",
       "      <td>7</td>\n",
       "      <td>2</td>\n",
       "      <td>1</td>\n",
       "    </tr>\n",
       "    <tr>\n",
       "      <th>6</th>\n",
       "      <td>1999/00</td>\n",
       "      <td>Fourth round</td>\n",
       "      <td>8</td>\n",
       "      <td>5</td>\n",
       "      <td>1</td>\n",
       "      <td>2</td>\n",
       "    </tr>\n",
       "    <tr>\n",
       "      <th>7</th>\n",
       "      <td>1998/99</td>\n",
       "      <td>Semi-finals</td>\n",
       "      <td>10</td>\n",
       "      <td>7</td>\n",
       "      <td>0</td>\n",
       "      <td>3</td>\n",
       "    </tr>\n",
       "    <tr>\n",
       "      <th>8</th>\n",
       "      <td>1997/98</td>\n",
       "      <td>Semi-finals</td>\n",
       "      <td>10</td>\n",
       "      <td>5</td>\n",
       "      <td>3</td>\n",
       "      <td>2</td>\n",
       "    </tr>\n",
       "    <tr>\n",
       "      <th>9</th>\n",
       "      <td>1993/94</td>\n",
       "      <td>Second round</td>\n",
       "      <td>4</td>\n",
       "      <td>2</td>\n",
       "      <td>0</td>\n",
       "      <td>2</td>\n",
       "    </tr>\n",
       "    <tr>\n",
       "      <th>10</th>\n",
       "      <td>1990/91</td>\n",
       "      <td>First round</td>\n",
       "      <td>2</td>\n",
       "      <td>1</td>\n",
       "      <td>0</td>\n",
       "      <td>1</td>\n",
       "    </tr>\n",
       "    <tr>\n",
       "      <th>11</th>\n",
       "      <td>1989/90</td>\n",
       "      <td>First round</td>\n",
       "      <td>2</td>\n",
       "      <td>1</td>\n",
       "      <td>1</td>\n",
       "      <td>0</td>\n",
       "    </tr>\n",
       "    <tr>\n",
       "      <th>12</th>\n",
       "      <td>1988/89</td>\n",
       "      <td>First round</td>\n",
       "      <td>2</td>\n",
       "      <td>1</td>\n",
       "      <td>0</td>\n",
       "      <td>1</td>\n",
       "    </tr>\n",
       "    <tr>\n",
       "      <th>13</th>\n",
       "      <td>1986/87</td>\n",
       "      <td>Second round</td>\n",
       "      <td>4</td>\n",
       "      <td>2</td>\n",
       "      <td>0</td>\n",
       "      <td>2</td>\n",
       "    </tr>\n",
       "    <tr>\n",
       "      <th>14</th>\n",
       "      <td>1984/85</td>\n",
       "      <td>First round</td>\n",
       "      <td>2</td>\n",
       "      <td>0</td>\n",
       "      <td>0</td>\n",
       "      <td>2</td>\n",
       "    </tr>\n",
       "    <tr>\n",
       "      <th>15</th>\n",
       "      <td>1983/84</td>\n",
       "      <td>First round</td>\n",
       "      <td>2</td>\n",
       "      <td>1</td>\n",
       "      <td>0</td>\n",
       "      <td>1</td>\n",
       "    </tr>\n",
       "    <tr>\n",
       "      <th>16</th>\n",
       "      <td>1981/82</td>\n",
       "      <td>First round</td>\n",
       "      <td>2</td>\n",
       "      <td>1</td>\n",
       "      <td>0</td>\n",
       "      <td>1</td>\n",
       "    </tr>\n",
       "    <tr>\n",
       "      <th>17</th>\n",
       "      <td>1979/80</td>\n",
       "      <td>First round</td>\n",
       "      <td>2</td>\n",
       "      <td>0</td>\n",
       "      <td>0</td>\n",
       "      <td>2</td>\n",
       "    </tr>\n",
       "    <tr>\n",
       "      <th>18</th>\n",
       "      <td>1974/75</td>\n",
       "      <td>Second round</td>\n",
       "      <td>4</td>\n",
       "      <td>1</td>\n",
       "      <td>2</td>\n",
       "      <td>1</td>\n",
       "    </tr>\n",
       "    <tr>\n",
       "      <th>19</th>\n",
       "      <td>1971/72</td>\n",
       "      <td>First round</td>\n",
       "      <td>2</td>\n",
       "      <td>1</td>\n",
       "      <td>0</td>\n",
       "      <td>1</td>\n",
       "    </tr>\n",
       "  </tbody>\n",
       "</table>\n",
       "</div>"
      ],
      "text/plain": [
       "     season         stage  played  win  draw  lose\n",
       "3   2010/11   Group stage       6    2     2     2\n",
       "4   2009/10         Final       9    3     5     1\n",
       "5   2007/08   Round of 32      10    7     2     1\n",
       "6   1999/00  Fourth round       8    5     1     2\n",
       "7   1998/99   Semi-finals      10    7     0     3\n",
       "8   1997/98   Semi-finals      10    5     3     2\n",
       "9   1993/94  Second round       4    2     0     2\n",
       "10  1990/91   First round       2    1     0     1\n",
       "11  1989/90   First round       2    1     1     0\n",
       "12  1988/89   First round       2    1     0     1\n",
       "13  1986/87  Second round       4    2     0     2\n",
       "14  1984/85   First round       2    0     0     2\n",
       "15  1983/84   First round       2    1     0     1\n",
       "16  1981/82   First round       2    1     0     1\n",
       "17  1979/80   First round       2    0     0     2\n",
       "18  1974/75  Second round       4    1     2     1\n",
       "19  1971/72   First round       2    1     0     1"
      ]
     },
     "execution_count": 12,
     "metadata": {},
     "output_type": "execute_result"
    }
   ],
   "source": [
    "atleti_euro_league_before_simone"
   ]
  },
  {
   "cell_type": "code",
   "execution_count": 13,
   "id": "55bb8192-b198-4582-8ba6-1f7fe7964f46",
   "metadata": {},
   "outputs": [
    {
     "data": {
      "text/plain": [
       "stage\n",
       "First round     8\n",
       "Second round    3\n",
       "Semi-finals     2\n",
       "Group stage     1\n",
       "Final           1\n",
       "Round of 32     1\n",
       "Fourth round    1\n",
       "Name: count, dtype: int64"
      ]
     },
     "execution_count": 13,
     "metadata": {},
     "output_type": "execute_result"
    }
   ],
   "source": [
    "atleti_euro_league_before_simone['stage'].value_counts()"
   ]
  },
  {
   "cell_type": "code",
   "execution_count": 14,
   "id": "2366a62c-76f1-49c2-be52-88d5e3d32dfd",
   "metadata": {},
   "outputs": [],
   "source": [
    "df_value_counts = atleti_euro_league_before_simone['stage'].value_counts().reset_index()\n",
    "df_value_counts.columns = ['Stage', 'Count']"
   ]
  },
  {
   "cell_type": "code",
   "execution_count": 15,
   "id": "6cb0bdae-c238-4a67-a733-001971799c72",
   "metadata": {},
   "outputs": [
    {
     "data": {
      "text/html": [
       "<div>\n",
       "<style scoped>\n",
       "    .dataframe tbody tr th:only-of-type {\n",
       "        vertical-align: middle;\n",
       "    }\n",
       "\n",
       "    .dataframe tbody tr th {\n",
       "        vertical-align: top;\n",
       "    }\n",
       "\n",
       "    .dataframe thead th {\n",
       "        text-align: right;\n",
       "    }\n",
       "</style>\n",
       "<table border=\"1\" class=\"dataframe\">\n",
       "  <thead>\n",
       "    <tr style=\"text-align: right;\">\n",
       "      <th></th>\n",
       "      <th>Stage</th>\n",
       "      <th>Count</th>\n",
       "    </tr>\n",
       "  </thead>\n",
       "  <tbody>\n",
       "    <tr>\n",
       "      <th>0</th>\n",
       "      <td>First round</td>\n",
       "      <td>8</td>\n",
       "    </tr>\n",
       "    <tr>\n",
       "      <th>1</th>\n",
       "      <td>Second round</td>\n",
       "      <td>3</td>\n",
       "    </tr>\n",
       "    <tr>\n",
       "      <th>2</th>\n",
       "      <td>Semi-finals</td>\n",
       "      <td>2</td>\n",
       "    </tr>\n",
       "    <tr>\n",
       "      <th>3</th>\n",
       "      <td>Group stage</td>\n",
       "      <td>1</td>\n",
       "    </tr>\n",
       "    <tr>\n",
       "      <th>4</th>\n",
       "      <td>Final</td>\n",
       "      <td>1</td>\n",
       "    </tr>\n",
       "    <tr>\n",
       "      <th>5</th>\n",
       "      <td>Round of 32</td>\n",
       "      <td>1</td>\n",
       "    </tr>\n",
       "    <tr>\n",
       "      <th>6</th>\n",
       "      <td>Fourth round</td>\n",
       "      <td>1</td>\n",
       "    </tr>\n",
       "  </tbody>\n",
       "</table>\n",
       "</div>"
      ],
      "text/plain": [
       "          Stage  Count\n",
       "0   First round      8\n",
       "1  Second round      3\n",
       "2   Semi-finals      2\n",
       "3   Group stage      1\n",
       "4         Final      1\n",
       "5   Round of 32      1\n",
       "6  Fourth round      1"
      ]
     },
     "execution_count": 15,
     "metadata": {},
     "output_type": "execute_result"
    }
   ],
   "source": [
    "df_value_counts"
   ]
  },
  {
   "cell_type": "code",
   "execution_count": 16,
   "id": "80720e31-7e75-417f-83a4-dc4512787a4e",
   "metadata": {},
   "outputs": [
    {
     "data": {
      "text/plain": [
       "17"
      ]
     },
     "execution_count": 16,
     "metadata": {},
     "output_type": "execute_result"
    }
   ],
   "source": [
    "np.sum(df_value_counts['Count'])"
   ]
  },
  {
   "cell_type": "code",
   "execution_count": 17,
   "id": "4b8d987a-5839-4ddf-bd66-8b246e796b47",
   "metadata": {},
   "outputs": [],
   "source": [
    "### How Many Matches That Atleti Play in Europe League Before Simone Before Simone ?"
   ]
  },
  {
   "cell_type": "code",
   "execution_count": 18,
   "id": "a50c334f-c16d-4acd-abc4-fdd8bd00ab11",
   "metadata": {},
   "outputs": [
    {
     "data": {
      "text/plain": [
       "81"
      ]
     },
     "execution_count": 18,
     "metadata": {},
     "output_type": "execute_result"
    }
   ],
   "source": [
    "np.sum(atleti_euro_league_before_simone['played'])"
   ]
  },
  {
   "cell_type": "code",
   "execution_count": 19,
   "id": "01abe38f-4b83-4e3a-aa61-430c8cc88ab0",
   "metadata": {},
   "outputs": [],
   "source": [
    "### How Many Wins For Atleti in UEFA Europe League Before Simone Before Simone ?"
   ]
  },
  {
   "cell_type": "code",
   "execution_count": 20,
   "id": "4a412740-8b17-420e-a49e-b62a9121d12e",
   "metadata": {},
   "outputs": [
    {
     "data": {
      "text/plain": [
       "40"
      ]
     },
     "execution_count": 20,
     "metadata": {},
     "output_type": "execute_result"
    }
   ],
   "source": [
    "np.sum(atleti_euro_league_before_simone['win'])"
   ]
  },
  {
   "cell_type": "code",
   "execution_count": 21,
   "id": "b1269aff-8e19-4ee3-b76e-2fa63cc46204",
   "metadata": {},
   "outputs": [
    {
     "data": {
      "text/plain": [
       "2.3529411764705883"
      ]
     },
     "execution_count": 21,
     "metadata": {},
     "output_type": "execute_result"
    }
   ],
   "source": [
    "np.mean(atleti_euro_league_before_simone['win'])"
   ]
  },
  {
   "cell_type": "code",
   "execution_count": 22,
   "id": "4df453ee-686a-4280-a748-80c0f686f2f0",
   "metadata": {},
   "outputs": [],
   "source": [
    "### How Many Draws For Atleti in UEFA champions League Before Simone Before Simone ?"
   ]
  },
  {
   "cell_type": "code",
   "execution_count": 23,
   "id": "3f742252-8529-4b8a-b488-d109f8bea6fe",
   "metadata": {},
   "outputs": [
    {
     "data": {
      "text/plain": [
       "16"
      ]
     },
     "execution_count": 23,
     "metadata": {},
     "output_type": "execute_result"
    }
   ],
   "source": [
    "np.sum(atleti_euro_league_before_simone['draw'])"
   ]
  },
  {
   "cell_type": "code",
   "execution_count": 24,
   "id": "f39964e2-9bef-42be-bb10-25264ecb512e",
   "metadata": {},
   "outputs": [],
   "source": [
    "### How Many Loses For Atleti in UEFA champions League Before Simone Before Simone ?"
   ]
  },
  {
   "cell_type": "code",
   "execution_count": 25,
   "id": "d16347f5-3d5f-48d5-86f6-490ef1e80d5c",
   "metadata": {},
   "outputs": [
    {
     "data": {
      "text/plain": [
       "25"
      ]
     },
     "execution_count": 25,
     "metadata": {},
     "output_type": "execute_result"
    }
   ],
   "source": [
    "np.sum(atleti_euro_league_before_simone['lose'])"
   ]
  },
  {
   "cell_type": "code",
   "execution_count": 26,
   "id": "b3d74107-c3b3-4688-8c67-828449034608",
   "metadata": {},
   "outputs": [],
   "source": [
    "labels = ['Win', 'Draw', 'Lose']\n",
    "W_D_l_in_euro_before_simone = [np.sum(atleti_euro_league_before_simone['win']),\n",
    "                             np.sum(atleti_euro_league_before_simone['draw']),\n",
    "                             np.sum(atleti_euro_league_before_simone['lose'])]"
   ]
  },
  {
   "cell_type": "code",
   "execution_count": 27,
   "id": "ab8e5cc8-9d0b-4e94-8e87-4bcbe566825a",
   "metadata": {},
   "outputs": [],
   "source": [
    "W_D_L_dict_before_simone = {'Results' : labels,\n",
    "                           'Total' : W_D_l_in_euro_before_simone}\n",
    "W_D_L_before_simone = pd.DataFrame(W_D_L_dict_before_simone)"
   ]
  },
  {
   "cell_type": "code",
   "execution_count": 28,
   "id": "732de6e2-ba8b-4b1d-82e8-5ea85a8fa7d3",
   "metadata": {},
   "outputs": [
    {
     "data": {
      "text/html": [
       "<div>\n",
       "<style scoped>\n",
       "    .dataframe tbody tr th:only-of-type {\n",
       "        vertical-align: middle;\n",
       "    }\n",
       "\n",
       "    .dataframe tbody tr th {\n",
       "        vertical-align: top;\n",
       "    }\n",
       "\n",
       "    .dataframe thead th {\n",
       "        text-align: right;\n",
       "    }\n",
       "</style>\n",
       "<table border=\"1\" class=\"dataframe\">\n",
       "  <thead>\n",
       "    <tr style=\"text-align: right;\">\n",
       "      <th></th>\n",
       "      <th>Results</th>\n",
       "      <th>Total</th>\n",
       "    </tr>\n",
       "  </thead>\n",
       "  <tbody>\n",
       "    <tr>\n",
       "      <th>0</th>\n",
       "      <td>Win</td>\n",
       "      <td>40</td>\n",
       "    </tr>\n",
       "    <tr>\n",
       "      <th>1</th>\n",
       "      <td>Draw</td>\n",
       "      <td>16</td>\n",
       "    </tr>\n",
       "    <tr>\n",
       "      <th>2</th>\n",
       "      <td>Lose</td>\n",
       "      <td>25</td>\n",
       "    </tr>\n",
       "  </tbody>\n",
       "</table>\n",
       "</div>"
      ],
      "text/plain": [
       "  Results  Total\n",
       "0     Win     40\n",
       "1    Draw     16\n",
       "2    Lose     25"
      ]
     },
     "execution_count": 28,
     "metadata": {},
     "output_type": "execute_result"
    }
   ],
   "source": [
    "W_D_L_before_simone"
   ]
  },
  {
   "cell_type": "code",
   "execution_count": 29,
   "id": "3b38e535-5852-44d9-8d7f-46f5b56a734c",
   "metadata": {},
   "outputs": [],
   "source": [
    "## After Simone"
   ]
  },
  {
   "cell_type": "code",
   "execution_count": 30,
   "id": "84f29e1f-27dd-4a57-a6b0-d1076a7f126b",
   "metadata": {},
   "outputs": [],
   "source": [
    "atleti_euro_league_with_simone = atleti_euro_data.iloc[0:3, :]"
   ]
  },
  {
   "cell_type": "code",
   "execution_count": 31,
   "id": "15809914-8f2c-417b-addc-8e1e0d95bb59",
   "metadata": {},
   "outputs": [
    {
     "data": {
      "text/html": [
       "<div>\n",
       "<style scoped>\n",
       "    .dataframe tbody tr th:only-of-type {\n",
       "        vertical-align: middle;\n",
       "    }\n",
       "\n",
       "    .dataframe tbody tr th {\n",
       "        vertical-align: top;\n",
       "    }\n",
       "\n",
       "    .dataframe thead th {\n",
       "        text-align: right;\n",
       "    }\n",
       "</style>\n",
       "<table border=\"1\" class=\"dataframe\">\n",
       "  <thead>\n",
       "    <tr style=\"text-align: right;\">\n",
       "      <th></th>\n",
       "      <th>season</th>\n",
       "      <th>stage</th>\n",
       "      <th>played</th>\n",
       "      <th>win</th>\n",
       "      <th>draw</th>\n",
       "      <th>lose</th>\n",
       "    </tr>\n",
       "  </thead>\n",
       "  <tbody>\n",
       "    <tr>\n",
       "      <th>0</th>\n",
       "      <td>2017/18</td>\n",
       "      <td>Final</td>\n",
       "      <td>9</td>\n",
       "      <td>7</td>\n",
       "      <td>1</td>\n",
       "      <td>1</td>\n",
       "    </tr>\n",
       "    <tr>\n",
       "      <th>1</th>\n",
       "      <td>2012/13</td>\n",
       "      <td>Round of 32</td>\n",
       "      <td>8</td>\n",
       "      <td>5</td>\n",
       "      <td>0</td>\n",
       "      <td>3</td>\n",
       "    </tr>\n",
       "    <tr>\n",
       "      <th>2</th>\n",
       "      <td>2011/12</td>\n",
       "      <td>Final</td>\n",
       "      <td>19</td>\n",
       "      <td>17</td>\n",
       "      <td>1</td>\n",
       "      <td>1</td>\n",
       "    </tr>\n",
       "  </tbody>\n",
       "</table>\n",
       "</div>"
      ],
      "text/plain": [
       "    season        stage  played  win  draw  lose\n",
       "0  2017/18        Final       9    7     1     1\n",
       "1  2012/13  Round of 32       8    5     0     3\n",
       "2  2011/12        Final      19   17     1     1"
      ]
     },
     "execution_count": 31,
     "metadata": {},
     "output_type": "execute_result"
    }
   ],
   "source": [
    "atleti_euro_league_with_simone"
   ]
  },
  {
   "cell_type": "code",
   "execution_count": 32,
   "id": "6f8936d4-3599-4f03-892f-8af9e0f2406e",
   "metadata": {},
   "outputs": [
    {
     "data": {
      "text/plain": [
       "29"
      ]
     },
     "execution_count": 32,
     "metadata": {},
     "output_type": "execute_result"
    }
   ],
   "source": [
    "total_wins_with_simone = np.sum(atleti_euro_league_with_simone['win'])\n",
    "total_wins_with_simone"
   ]
  },
  {
   "cell_type": "code",
   "execution_count": 33,
   "id": "9e8ad599-1136-43ab-9896-66de7aefc9e7",
   "metadata": {},
   "outputs": [
    {
     "data": {
      "text/plain": [
       "stage\n",
       "Final          2\n",
       "Round of 32    1\n",
       "Name: count, dtype: int64"
      ]
     },
     "execution_count": 33,
     "metadata": {},
     "output_type": "execute_result"
    }
   ],
   "source": [
    "atleti_euro_league_with_simone['stage'].value_counts()"
   ]
  },
  {
   "cell_type": "code",
   "execution_count": 34,
   "id": "bdb585f6-825f-4661-96a0-43b1acd8b697",
   "metadata": {},
   "outputs": [],
   "source": [
    "df_value_counts = atleti_euro_league_with_simone['stage'].value_counts().reset_index()\n",
    "df_value_counts.columns = ['Stage', 'Count']"
   ]
  },
  {
   "cell_type": "code",
   "execution_count": 35,
   "id": "ae7ca3be-1197-4a1c-8ccb-6fa27e71cbd4",
   "metadata": {},
   "outputs": [
    {
     "data": {
      "text/html": [
       "<div>\n",
       "<style scoped>\n",
       "    .dataframe tbody tr th:only-of-type {\n",
       "        vertical-align: middle;\n",
       "    }\n",
       "\n",
       "    .dataframe tbody tr th {\n",
       "        vertical-align: top;\n",
       "    }\n",
       "\n",
       "    .dataframe thead th {\n",
       "        text-align: right;\n",
       "    }\n",
       "</style>\n",
       "<table border=\"1\" class=\"dataframe\">\n",
       "  <thead>\n",
       "    <tr style=\"text-align: right;\">\n",
       "      <th></th>\n",
       "      <th>Stage</th>\n",
       "      <th>Count</th>\n",
       "    </tr>\n",
       "  </thead>\n",
       "  <tbody>\n",
       "    <tr>\n",
       "      <th>0</th>\n",
       "      <td>Final</td>\n",
       "      <td>2</td>\n",
       "    </tr>\n",
       "    <tr>\n",
       "      <th>1</th>\n",
       "      <td>Round of 32</td>\n",
       "      <td>1</td>\n",
       "    </tr>\n",
       "  </tbody>\n",
       "</table>\n",
       "</div>"
      ],
      "text/plain": [
       "         Stage  Count\n",
       "0        Final      2\n",
       "1  Round of 32      1"
      ]
     },
     "execution_count": 35,
     "metadata": {},
     "output_type": "execute_result"
    }
   ],
   "source": [
    "df_value_counts"
   ]
  },
  {
   "cell_type": "code",
   "execution_count": 36,
   "id": "e5ca41b7-f876-4f8c-ac38-e5cf2af092f5",
   "metadata": {},
   "outputs": [],
   "source": [
    "upload_data(df_value_counts, \"processed data/atleti_euro_league_with_simone_stages.csv\")"
   ]
  },
  {
   "cell_type": "code",
   "execution_count": 37,
   "id": "c75bc237-a908-4967-aa0d-555ad17b5203",
   "metadata": {},
   "outputs": [
    {
     "data": {
      "text/plain": [
       "2"
      ]
     },
     "execution_count": 37,
     "metadata": {},
     "output_type": "execute_result"
    }
   ],
   "source": [
    "total_draw_with_simone = np.sum(atleti_euro_league_with_simone['draw'])\n",
    "total_draw_with_simone"
   ]
  },
  {
   "cell_type": "code",
   "execution_count": 38,
   "id": "cc97c533-1d3a-4667-a3e9-88045f0077c5",
   "metadata": {},
   "outputs": [
    {
     "data": {
      "text/plain": [
       "5"
      ]
     },
     "execution_count": 38,
     "metadata": {},
     "output_type": "execute_result"
    }
   ],
   "source": [
    "total_lose_with_simone = np.sum(atleti_euro_league_with_simone['lose'])\n",
    "total_lose_with_simone"
   ]
  },
  {
   "cell_type": "code",
   "execution_count": 39,
   "id": "3bde7ea3-8291-4516-9563-426a9617fa3e",
   "metadata": {},
   "outputs": [],
   "source": [
    "state = ['Win', 'Draw', 'Lose']\n",
    "total = [total_wins_with_simone, total_draw_with_simone, total_lose_with_simone]\n",
    "dict_ = {'Result':state,\n",
    "        'Total': total}\n",
    "w_l_d_with_simone = pd.DataFrame(dict_)"
   ]
  },
  {
   "cell_type": "code",
   "execution_count": 40,
   "id": "342377fc-aaca-4cb5-a4f9-f958b6e153f1",
   "metadata": {},
   "outputs": [
    {
     "data": {
      "text/html": [
       "<div>\n",
       "<style scoped>\n",
       "    .dataframe tbody tr th:only-of-type {\n",
       "        vertical-align: middle;\n",
       "    }\n",
       "\n",
       "    .dataframe tbody tr th {\n",
       "        vertical-align: top;\n",
       "    }\n",
       "\n",
       "    .dataframe thead th {\n",
       "        text-align: right;\n",
       "    }\n",
       "</style>\n",
       "<table border=\"1\" class=\"dataframe\">\n",
       "  <thead>\n",
       "    <tr style=\"text-align: right;\">\n",
       "      <th></th>\n",
       "      <th>Result</th>\n",
       "      <th>Total</th>\n",
       "    </tr>\n",
       "  </thead>\n",
       "  <tbody>\n",
       "    <tr>\n",
       "      <th>0</th>\n",
       "      <td>Win</td>\n",
       "      <td>29</td>\n",
       "    </tr>\n",
       "    <tr>\n",
       "      <th>1</th>\n",
       "      <td>Draw</td>\n",
       "      <td>2</td>\n",
       "    </tr>\n",
       "    <tr>\n",
       "      <th>2</th>\n",
       "      <td>Lose</td>\n",
       "      <td>5</td>\n",
       "    </tr>\n",
       "  </tbody>\n",
       "</table>\n",
       "</div>"
      ],
      "text/plain": [
       "  Result  Total\n",
       "0    Win     29\n",
       "1   Draw      2\n",
       "2   Lose      5"
      ]
     },
     "execution_count": 40,
     "metadata": {},
     "output_type": "execute_result"
    }
   ],
   "source": [
    "w_l_d_with_simone"
   ]
  },
  {
   "cell_type": "code",
   "execution_count": 41,
   "id": "7044a5a2-64ac-47f5-9380-8a39ffd4cd26",
   "metadata": {},
   "outputs": [],
   "source": [
    "upload_data(w_l_d_with_simone, r\"processed data/w_l_d_with_simone_europe_league.csv\")"
   ]
  },
  {
   "cell_type": "code",
   "execution_count": 42,
   "id": "ac95e128-0179-4c56-bfe3-f51474bc5d8f",
   "metadata": {},
   "outputs": [],
   "source": [
    "## Goals Stats With Deigo Simone"
   ]
  },
  {
   "cell_type": "markdown",
   "id": "bae1d445-60b3-427f-a9af-715cae5455f8",
   "metadata": {},
   "source": [
    "## 2011"
   ]
  },
  {
   "cell_type": "code",
   "execution_count": 43,
   "id": "e6546082-27f9-4752-a680-7b08741895ba",
   "metadata": {},
   "outputs": [],
   "source": [
    "## Group Stage"
   ]
  },
  {
   "cell_type": "code",
   "execution_count": 44,
   "id": "a0227cba-12f0-42a6-b38d-8fd4b97dac09",
   "metadata": {},
   "outputs": [],
   "source": [
    "file_path = r\"processed data/group_stage_2011.csv\"\n",
    "group_stage_2011 = pd.read_csv(file_path, encoding='ISO-8859-1')  "
   ]
  },
  {
   "cell_type": "code",
   "execution_count": 45,
   "id": "4471a02c-e6cf-4565-99af-795d51f706ca",
   "metadata": {},
   "outputs": [
    {
     "data": {
      "text/html": [
       "<div>\n",
       "<style scoped>\n",
       "    .dataframe tbody tr th:only-of-type {\n",
       "        vertical-align: middle;\n",
       "    }\n",
       "\n",
       "    .dataframe tbody tr th {\n",
       "        vertical-align: top;\n",
       "    }\n",
       "\n",
       "    .dataframe thead th {\n",
       "        text-align: right;\n",
       "    }\n",
       "</style>\n",
       "<table border=\"1\" class=\"dataframe\">\n",
       "  <thead>\n",
       "    <tr style=\"text-align: right;\">\n",
       "      <th></th>\n",
       "      <th>Pos</th>\n",
       "      <th>Team</th>\n",
       "      <th>Pld</th>\n",
       "      <th>W</th>\n",
       "      <th>D</th>\n",
       "      <th>L</th>\n",
       "      <th>GF</th>\n",
       "      <th>GA</th>\n",
       "    </tr>\n",
       "  </thead>\n",
       "  <tbody>\n",
       "    <tr>\n",
       "      <th>0</th>\n",
       "      <td>1</td>\n",
       "      <td>Spain Atlético Madrid</td>\n",
       "      <td>6</td>\n",
       "      <td>4</td>\n",
       "      <td>1</td>\n",
       "      <td>1</td>\n",
       "      <td>11</td>\n",
       "      <td>4</td>\n",
       "    </tr>\n",
       "    <tr>\n",
       "      <th>1</th>\n",
       "      <td>2</td>\n",
       "      <td>Italy Udinese</td>\n",
       "      <td>6</td>\n",
       "      <td>2</td>\n",
       "      <td>3</td>\n",
       "      <td>1</td>\n",
       "      <td>6</td>\n",
       "      <td>7</td>\n",
       "    </tr>\n",
       "    <tr>\n",
       "      <th>2</th>\n",
       "      <td>3</td>\n",
       "      <td>Scotland Celtic</td>\n",
       "      <td>6</td>\n",
       "      <td>1</td>\n",
       "      <td>3</td>\n",
       "      <td>2</td>\n",
       "      <td>6</td>\n",
       "      <td>7</td>\n",
       "    </tr>\n",
       "    <tr>\n",
       "      <th>3</th>\n",
       "      <td>4</td>\n",
       "      <td>France Rennes</td>\n",
       "      <td>6</td>\n",
       "      <td>0</td>\n",
       "      <td>3</td>\n",
       "      <td>3</td>\n",
       "      <td>5</td>\n",
       "      <td>10</td>\n",
       "    </tr>\n",
       "  </tbody>\n",
       "</table>\n",
       "</div>"
      ],
      "text/plain": [
       "   Pos                   Team  Pld  W  D  L  GF  GA\n",
       "0    1  Spain Atlético Madrid    6  4  1  1  11   4\n",
       "1    2          Italy Udinese    6  2  3  1   6   7\n",
       "2    3        Scotland Celtic    6  1  3  2   6   7\n",
       "3    4          France Rennes    6  0  3  3   5  10"
      ]
     },
     "execution_count": 45,
     "metadata": {},
     "output_type": "execute_result"
    }
   ],
   "source": [
    "group_stage_2011"
   ]
  },
  {
   "cell_type": "code",
   "execution_count": 46,
   "id": "d24a4b35-5191-4d5a-a6ec-e89f01005b89",
   "metadata": {},
   "outputs": [],
   "source": [
    "scored_goals_GS_2011 = group_stage_2011.iloc[0].loc['GF']\n",
    "conceded_goals_GS_2011 = group_stage_2011.iloc[0].loc['GA']"
   ]
  },
  {
   "cell_type": "code",
   "execution_count": 47,
   "id": "e6e3721d-9f03-419c-8de3-a0719a68b65f",
   "metadata": {},
   "outputs": [
    {
     "data": {
      "text/plain": [
       "11"
      ]
     },
     "execution_count": 47,
     "metadata": {},
     "output_type": "execute_result"
    }
   ],
   "source": [
    "scored_goals_GS_2011"
   ]
  },
  {
   "cell_type": "code",
   "execution_count": 48,
   "id": "de8e0f15-51e9-4ffb-9c8c-1bcc82afc5d4",
   "metadata": {},
   "outputs": [],
   "source": [
    "## Atleti knockout 2011"
   ]
  },
  {
   "cell_type": "code",
   "execution_count": 49,
   "id": "40bef053-3031-457a-a7df-4857fa9d408b",
   "metadata": {},
   "outputs": [],
   "source": [
    "file_path = r\"processed data/atl_play_off_2011_europe_league.csv\"\n",
    "play_off_2011_europe_league = pd.read_csv(file_path,  encoding='ISO-8859-1')  "
   ]
  },
  {
   "cell_type": "code",
   "execution_count": 50,
   "id": "355efd56-85c9-4560-b769-64ea6bd1ba25",
   "metadata": {},
   "outputs": [
    {
     "data": {
      "text/html": [
       "<div>\n",
       "<style scoped>\n",
       "    .dataframe tbody tr th:only-of-type {\n",
       "        vertical-align: middle;\n",
       "    }\n",
       "\n",
       "    .dataframe tbody tr th {\n",
       "        vertical-align: top;\n",
       "    }\n",
       "\n",
       "    .dataframe thead th {\n",
       "        text-align: right;\n",
       "    }\n",
       "</style>\n",
       "<table border=\"1\" class=\"dataframe\">\n",
       "  <thead>\n",
       "    <tr style=\"text-align: right;\">\n",
       "      <th></th>\n",
       "      <th>season</th>\n",
       "      <th>atleti first match</th>\n",
       "      <th>competitor first match</th>\n",
       "      <th>atleti second match</th>\n",
       "      <th>competitor second match</th>\n",
       "      <th>stage</th>\n",
       "    </tr>\n",
       "  </thead>\n",
       "  <tbody>\n",
       "    <tr>\n",
       "      <th>0</th>\n",
       "      <td>2011/2012</td>\n",
       "      <td>3</td>\n",
       "      <td>1</td>\n",
       "      <td>1</td>\n",
       "      <td>0</td>\n",
       "      <td>R-32</td>\n",
       "    </tr>\n",
       "    <tr>\n",
       "      <th>1</th>\n",
       "      <td>2011/2012</td>\n",
       "      <td>3</td>\n",
       "      <td>1</td>\n",
       "      <td>3</td>\n",
       "      <td>0</td>\n",
       "      <td>R16</td>\n",
       "    </tr>\n",
       "    <tr>\n",
       "      <th>2</th>\n",
       "      <td>2011/2012</td>\n",
       "      <td>2</td>\n",
       "      <td>1</td>\n",
       "      <td>2</td>\n",
       "      <td>1</td>\n",
       "      <td>R8</td>\n",
       "    </tr>\n",
       "    <tr>\n",
       "      <th>3</th>\n",
       "      <td>2011/2012</td>\n",
       "      <td>4</td>\n",
       "      <td>2</td>\n",
       "      <td>1</td>\n",
       "      <td>0</td>\n",
       "      <td>semi_finals</td>\n",
       "    </tr>\n",
       "    <tr>\n",
       "      <th>4</th>\n",
       "      <td>2011/2012</td>\n",
       "      <td>3</td>\n",
       "      <td>0</td>\n",
       "      <td>0</td>\n",
       "      <td>0</td>\n",
       "      <td>finals</td>\n",
       "    </tr>\n",
       "  </tbody>\n",
       "</table>\n",
       "</div>"
      ],
      "text/plain": [
       "      season  atleti first match  competitor first match  atleti second match  \\\n",
       "0  2011/2012                   3                       1                    1   \n",
       "1  2011/2012                   3                       1                    3   \n",
       "2  2011/2012                   2                       1                    2   \n",
       "3  2011/2012                   4                       2                    1   \n",
       "4  2011/2012                   3                       0                    0   \n",
       "\n",
       "   competitor second match        stage  \n",
       "0                        0         R-32  \n",
       "1                        0          R16  \n",
       "2                        1           R8  \n",
       "3                        0  semi_finals  \n",
       "4                        0       finals  "
      ]
     },
     "execution_count": 50,
     "metadata": {},
     "output_type": "execute_result"
    }
   ],
   "source": [
    "play_off_2011_europe_league"
   ]
  },
  {
   "cell_type": "code",
   "execution_count": 51,
   "id": "885dd20f-c106-47fa-a084-4507430eac27",
   "metadata": {},
   "outputs": [],
   "source": [
    "total_scored_goals_knockout_2011 = np.sum(play_off_2011_europe_league['atleti first match']) + np.sum(play_off_2011_europe_league['atleti second match'])\n",
    "total_conceded_goals_knockout_2011 = np.sum(play_off_2011_europe_league['competitor first match']) + np.sum(play_off_2011_europe_league['competitor second match'])"
   ]
  },
  {
   "cell_type": "code",
   "execution_count": 52,
   "id": "dc027bf7-518f-45fb-aef2-f851469fc137",
   "metadata": {},
   "outputs": [
    {
     "data": {
      "text/plain": [
       "22"
      ]
     },
     "execution_count": 52,
     "metadata": {},
     "output_type": "execute_result"
    }
   ],
   "source": [
    "total_scored_goals_knockout_2011"
   ]
  },
  {
   "cell_type": "code",
   "execution_count": 53,
   "id": "d38e3d80-54ad-4be3-a48f-f1e543ac974a",
   "metadata": {},
   "outputs": [
    {
     "data": {
      "text/plain": [
       "6"
      ]
     },
     "execution_count": 53,
     "metadata": {},
     "output_type": "execute_result"
    }
   ],
   "source": [
    "total_conceded_goals_knockout_2011"
   ]
  },
  {
   "cell_type": "code",
   "execution_count": 54,
   "id": "4f6d4bab-262d-40e6-ae86-ebe35cc978f3",
   "metadata": {},
   "outputs": [],
   "source": [
    "total_scored_goals_2011 = total_scored_goals_knockout_2011 + scored_goals_GS_2011\n",
    "total_conceded_goals_2011 = total_conceded_goals_knockout_2011 + conceded_goals_GS_2011"
   ]
  },
  {
   "cell_type": "code",
   "execution_count": 55,
   "id": "b2b6d5c7-7451-468d-8702-932c211f7206",
   "metadata": {},
   "outputs": [
    {
     "data": {
      "text/plain": [
       "10"
      ]
     },
     "execution_count": 55,
     "metadata": {},
     "output_type": "execute_result"
    }
   ],
   "source": [
    "total_conceded_goals_2011"
   ]
  },
  {
   "cell_type": "code",
   "execution_count": 56,
   "id": "fee14af0-48b9-4b43-a15f-fc6f94ee636f",
   "metadata": {},
   "outputs": [],
   "source": [
    "## 2011 Scored"
   ]
  },
  {
   "cell_type": "code",
   "execution_count": 57,
   "id": "339ee5f1-ade7-4ff8-af51-d1474bd593db",
   "metadata": {},
   "outputs": [],
   "source": [
    "_2011_scored_goals = scored_goals_GS_2011 + np.sum(play_off_2011_europe_league['atleti first match']) + np.sum(play_off_2011_europe_league['atleti second match'])"
   ]
  },
  {
   "cell_type": "code",
   "execution_count": 58,
   "id": "3a26d213-f480-4732-9bf7-2503dab1d2ea",
   "metadata": {},
   "outputs": [
    {
     "data": {
      "text/plain": [
       "33"
      ]
     },
     "execution_count": 58,
     "metadata": {},
     "output_type": "execute_result"
    }
   ],
   "source": [
    "_2011_scored_goals"
   ]
  },
  {
   "cell_type": "code",
   "execution_count": 59,
   "id": "70537390-1745-4afd-9cf2-8a98c2cfaf90",
   "metadata": {},
   "outputs": [],
   "source": [
    "_2011_conceded_goals = conceded_goals_GS_2011 + np.sum(play_off_2011_europe_league['competitor first match']) + np.sum(play_off_2011_europe_league['competitor second match'])"
   ]
  },
  {
   "cell_type": "code",
   "execution_count": 60,
   "id": "b3d89679-104e-47b7-afe7-b18d88a863ff",
   "metadata": {},
   "outputs": [
    {
     "data": {
      "text/plain": [
       "10"
      ]
     },
     "execution_count": 60,
     "metadata": {},
     "output_type": "execute_result"
    }
   ],
   "source": [
    "_2011_conceded_goals"
   ]
  },
  {
   "cell_type": "code",
   "execution_count": 61,
   "id": "29ff93a1-3384-48ad-80c9-8308b970c8c5",
   "metadata": {},
   "outputs": [],
   "source": [
    "file_path = r\"processed data/Atleti_in_group_stage_euro_2012.csv\"\n",
    "group_stage_2012 = pd.read_csv(file_path, sep='\\t', encoding='ISO-8859-1')  "
   ]
  },
  {
   "cell_type": "code",
   "execution_count": 62,
   "id": "5d0624c2-9e62-43d0-9f46-ce23191834cb",
   "metadata": {},
   "outputs": [
    {
     "data": {
      "text/html": [
       "<div>\n",
       "<style scoped>\n",
       "    .dataframe tbody tr th:only-of-type {\n",
       "        vertical-align: middle;\n",
       "    }\n",
       "\n",
       "    .dataframe tbody tr th {\n",
       "        vertical-align: top;\n",
       "    }\n",
       "\n",
       "    .dataframe thead th {\n",
       "        text-align: right;\n",
       "    }\n",
       "</style>\n",
       "<table border=\"1\" class=\"dataframe\">\n",
       "  <thead>\n",
       "    <tr style=\"text-align: right;\">\n",
       "      <th></th>\n",
       "      <th>Pos</th>\n",
       "      <th>Team</th>\n",
       "      <th>Pld</th>\n",
       "      <th>W</th>\n",
       "      <th>D</th>\n",
       "      <th>L</th>\n",
       "      <th>GF</th>\n",
       "      <th>GA</th>\n",
       "      <th>Pts</th>\n",
       "    </tr>\n",
       "  </thead>\n",
       "  <tbody>\n",
       "    <tr>\n",
       "      <th>0</th>\n",
       "      <td>1</td>\n",
       "      <td>Czech Republic Viktoria Plze?</td>\n",
       "      <td>6</td>\n",
       "      <td>4</td>\n",
       "      <td>1</td>\n",
       "      <td>1</td>\n",
       "      <td>11</td>\n",
       "      <td>4</td>\n",
       "      <td>13</td>\n",
       "    </tr>\n",
       "    <tr>\n",
       "      <th>1</th>\n",
       "      <td>2</td>\n",
       "      <td>Spain Atlético Madrid</td>\n",
       "      <td>6</td>\n",
       "      <td>4</td>\n",
       "      <td>0</td>\n",
       "      <td>2</td>\n",
       "      <td>7</td>\n",
       "      <td>4</td>\n",
       "      <td>12</td>\n",
       "    </tr>\n",
       "    <tr>\n",
       "      <th>2</th>\n",
       "      <td>3</td>\n",
       "      <td>Portugal Académica</td>\n",
       "      <td>6</td>\n",
       "      <td>1</td>\n",
       "      <td>2</td>\n",
       "      <td>3</td>\n",
       "      <td>6</td>\n",
       "      <td>9</td>\n",
       "      <td>5</td>\n",
       "    </tr>\n",
       "    <tr>\n",
       "      <th>3</th>\n",
       "      <td>4</td>\n",
       "      <td>Israel Hapoel Tel Aviv</td>\n",
       "      <td>6</td>\n",
       "      <td>1</td>\n",
       "      <td>1</td>\n",
       "      <td>4</td>\n",
       "      <td>4</td>\n",
       "      <td>11</td>\n",
       "      <td>4</td>\n",
       "    </tr>\n",
       "  </tbody>\n",
       "</table>\n",
       "</div>"
      ],
      "text/plain": [
       "   Pos                           Team  Pld  W  D  L  GF  GA  Pts\n",
       "0    1  Czech Republic Viktoria Plze?    6  4  1  1  11   4   13\n",
       "1    2          Spain Atlético Madrid    6  4  0  2   7   4   12\n",
       "2    3             Portugal Académica    6  1  2  3   6   9    5\n",
       "3    4         Israel Hapoel Tel Aviv    6  1  1  4   4  11    4"
      ]
     },
     "execution_count": 62,
     "metadata": {},
     "output_type": "execute_result"
    }
   ],
   "source": [
    "group_stage_2012"
   ]
  },
  {
   "cell_type": "code",
   "execution_count": 63,
   "id": "ebe5f7e4-b41f-424b-aff3-ce4d07f881e1",
   "metadata": {},
   "outputs": [],
   "source": [
    "scored_goals_GS_2012 = group_stage_2012.iloc[1].loc['GF']\n",
    "conceded_goals_GS_2012 = group_stage_2012.iloc[1].loc['GA']"
   ]
  },
  {
   "cell_type": "code",
   "execution_count": 64,
   "id": "3d08a96d-8518-4976-a334-123963aad3d0",
   "metadata": {},
   "outputs": [
    {
     "data": {
      "text/plain": [
       "7"
      ]
     },
     "execution_count": 64,
     "metadata": {},
     "output_type": "execute_result"
    }
   ],
   "source": [
    "scored_goals_GS_2012"
   ]
  },
  {
   "cell_type": "code",
   "execution_count": 65,
   "id": "4043610c-6a5e-49d3-ac38-785e18b04e03",
   "metadata": {},
   "outputs": [
    {
     "data": {
      "text/plain": [
       "4"
      ]
     },
     "execution_count": 65,
     "metadata": {},
     "output_type": "execute_result"
    }
   ],
   "source": [
    "conceded_goals_GS_2012"
   ]
  },
  {
   "cell_type": "code",
   "execution_count": 66,
   "id": "142911af-4d16-46d2-9250-7f484a222bd6",
   "metadata": {},
   "outputs": [],
   "source": [
    "Total_scored_goals_R32_2012 = 1\n",
    "Total_conced_goals_R32_2012 = 2"
   ]
  },
  {
   "cell_type": "code",
   "execution_count": 67,
   "id": "e823ada8-78ee-4a3a-94d4-3ba196420371",
   "metadata": {},
   "outputs": [],
   "source": [
    "_2012_scores_goals = scored_goals_GS_2012+Total_scored_goals_R32_2012"
   ]
  },
  {
   "cell_type": "code",
   "execution_count": 68,
   "id": "da90e91d-2fd6-4ad8-b1ed-9681a2b926a7",
   "metadata": {},
   "outputs": [],
   "source": [
    "_2012_conceded_goals = conceded_goals_GS_2012 + Total_conced_goals_R32_2012"
   ]
  },
  {
   "cell_type": "code",
   "execution_count": 69,
   "id": "3182638a-3378-40e1-8448-6784d7cd038a",
   "metadata": {},
   "outputs": [],
   "source": [
    "## 2018"
   ]
  },
  {
   "cell_type": "code",
   "execution_count": 70,
   "id": "5bf4e7f7-8199-44bd-9b10-fa419f3b2cd4",
   "metadata": {},
   "outputs": [],
   "source": [
    "file_path = r\"processed data/atleti_goals_2018_europe.csv\"\n",
    "atleti_europe_2018 = pd.read_csv(file_path, sep=',', encoding='ISO-8859-1')  "
   ]
  },
  {
   "cell_type": "code",
   "execution_count": 71,
   "id": "716c460b-f25d-436b-b30c-074189e57d0e",
   "metadata": {},
   "outputs": [
    {
     "data": {
      "text/html": [
       "<div>\n",
       "<style scoped>\n",
       "    .dataframe tbody tr th:only-of-type {\n",
       "        vertical-align: middle;\n",
       "    }\n",
       "\n",
       "    .dataframe tbody tr th {\n",
       "        vertical-align: top;\n",
       "    }\n",
       "\n",
       "    .dataframe thead th {\n",
       "        text-align: right;\n",
       "    }\n",
       "</style>\n",
       "<table border=\"1\" class=\"dataframe\">\n",
       "  <thead>\n",
       "    <tr style=\"text-align: right;\">\n",
       "      <th></th>\n",
       "      <th>season</th>\n",
       "      <th>atleti first match</th>\n",
       "      <th>competitor first match</th>\n",
       "      <th>atleti second match</th>\n",
       "      <th>competitor second match</th>\n",
       "      <th>stage</th>\n",
       "    </tr>\n",
       "  </thead>\n",
       "  <tbody>\n",
       "    <tr>\n",
       "      <th>0</th>\n",
       "      <td>2017/2018</td>\n",
       "      <td>4</td>\n",
       "      <td>1</td>\n",
       "      <td>1</td>\n",
       "      <td>0</td>\n",
       "      <td>R-32</td>\n",
       "    </tr>\n",
       "    <tr>\n",
       "      <th>1</th>\n",
       "      <td>2017/2018</td>\n",
       "      <td>3</td>\n",
       "      <td>0</td>\n",
       "      <td>5</td>\n",
       "      <td>1</td>\n",
       "      <td>R16</td>\n",
       "    </tr>\n",
       "    <tr>\n",
       "      <th>2</th>\n",
       "      <td>2017/2018</td>\n",
       "      <td>2</td>\n",
       "      <td>0</td>\n",
       "      <td>0</td>\n",
       "      <td>1</td>\n",
       "      <td>R8</td>\n",
       "    </tr>\n",
       "    <tr>\n",
       "      <th>3</th>\n",
       "      <td>2017/2018</td>\n",
       "      <td>1</td>\n",
       "      <td>1</td>\n",
       "      <td>1</td>\n",
       "      <td>0</td>\n",
       "      <td>semi_finals</td>\n",
       "    </tr>\n",
       "    <tr>\n",
       "      <th>4</th>\n",
       "      <td>2017/2018</td>\n",
       "      <td>3</td>\n",
       "      <td>0</td>\n",
       "      <td>0</td>\n",
       "      <td>0</td>\n",
       "      <td>finals</td>\n",
       "    </tr>\n",
       "  </tbody>\n",
       "</table>\n",
       "</div>"
      ],
      "text/plain": [
       "      season  atleti first match  competitor first match  atleti second match  \\\n",
       "0  2017/2018                   4                       1                    1   \n",
       "1  2017/2018                   3                       0                    5   \n",
       "2  2017/2018                   2                       0                    0   \n",
       "3  2017/2018                   1                       1                    1   \n",
       "4  2017/2018                   3                       0                    0   \n",
       "\n",
       "   competitor second match        stage  \n",
       "0                        0         R-32  \n",
       "1                        1          R16  \n",
       "2                        1           R8  \n",
       "3                        0  semi_finals  \n",
       "4                        0       finals  "
      ]
     },
     "execution_count": 71,
     "metadata": {},
     "output_type": "execute_result"
    }
   ],
   "source": [
    "atleti_europe_2018"
   ]
  },
  {
   "cell_type": "code",
   "execution_count": 72,
   "id": "30a9f93a-52b5-4e41-a081-1060aacb25f6",
   "metadata": {},
   "outputs": [],
   "source": [
    "_2018_scored_goals = np.sum(atleti_europe_2018['atleti first match'])+np.sum(atleti_europe_2018['atleti second match'])"
   ]
  },
  {
   "cell_type": "code",
   "execution_count": 73,
   "id": "ea12f059-6cac-4ed5-a4a0-7ca9a4d7e61b",
   "metadata": {},
   "outputs": [],
   "source": [
    "_2018_conceded_goals = np.sum(atleti_europe_2018['competitor first match'])+np.sum(atleti_europe_2018['competitor second match'])"
   ]
  },
  {
   "cell_type": "code",
   "execution_count": 74,
   "id": "46fa1008-9b83-4333-923d-95aac0cd4c14",
   "metadata": {},
   "outputs": [],
   "source": [
    "scored_goals = _2011_scored_goals + _2012_scores_goals + _2018_scored_goals"
   ]
  },
  {
   "cell_type": "code",
   "execution_count": 75,
   "id": "af58eb0d-7c29-4e49-abac-58605a59d4ce",
   "metadata": {},
   "outputs": [
    {
     "data": {
      "text/plain": [
       "61"
      ]
     },
     "execution_count": 75,
     "metadata": {},
     "output_type": "execute_result"
    }
   ],
   "source": [
    "scored_goals"
   ]
  },
  {
   "cell_type": "code",
   "execution_count": 76,
   "id": "814c580d-1162-4f38-b097-1daebb230b52",
   "metadata": {},
   "outputs": [],
   "source": [
    "conceded_goals = _2011_conceded_goals + _2012_conceded_goals + _2018_conceded_goals"
   ]
  },
  {
   "cell_type": "code",
   "execution_count": 77,
   "id": "69b8a2ad-3086-40b0-973f-a95f9c4196a0",
   "metadata": {},
   "outputs": [
    {
     "data": {
      "text/plain": [
       "20"
      ]
     },
     "execution_count": 77,
     "metadata": {},
     "output_type": "execute_result"
    }
   ],
   "source": [
    "conceded_goals"
   ]
  },
  {
   "cell_type": "code",
   "execution_count": 78,
   "id": "b44eab89-335e-4893-871d-f4f8a0099b21",
   "metadata": {},
   "outputs": [],
   "source": [
    "## Scored Goal Before Simone"
   ]
  },
  {
   "cell_type": "code",
   "execution_count": 79,
   "id": "6138676f-c894-47e2-9dae-a881263faafc",
   "metadata": {},
   "outputs": [],
   "source": [
    "top_socred_teams_in_europe_league = pd.read_csv(r\"processed data/most_teams_scores_goal_in_europe_league_df.csv\")"
   ]
  },
  {
   "cell_type": "code",
   "execution_count": 80,
   "id": "e8e9ab64-d779-4c22-b893-9096e7a9438d",
   "metadata": {},
   "outputs": [
    {
     "data": {
      "text/html": [
       "<div>\n",
       "<style scoped>\n",
       "    .dataframe tbody tr th:only-of-type {\n",
       "        vertical-align: middle;\n",
       "    }\n",
       "\n",
       "    .dataframe tbody tr th {\n",
       "        vertical-align: top;\n",
       "    }\n",
       "\n",
       "    .dataframe thead th {\n",
       "        text-align: right;\n",
       "    }\n",
       "</style>\n",
       "<table border=\"1\" class=\"dataframe\">\n",
       "  <thead>\n",
       "    <tr style=\"text-align: right;\">\n",
       "      <th></th>\n",
       "      <th>team name, rank, nation</th>\n",
       "      <th>total goals</th>\n",
       "    </tr>\n",
       "  </thead>\n",
       "  <tbody>\n",
       "    <tr>\n",
       "      <th>37</th>\n",
       "      <td>37 Atleti ESP</td>\n",
       "      <td>201</td>\n",
       "    </tr>\n",
       "  </tbody>\n",
       "</table>\n",
       "</div>"
      ],
      "text/plain": [
       "   team name, rank, nation  total goals\n",
       "37           37 Atleti ESP          201"
      ]
     },
     "execution_count": 80,
     "metadata": {},
     "output_type": "execute_result"
    }
   ],
   "source": [
    "top_socred_teams_in_europe_league[top_socred_teams_in_europe_league['team name, rank, nation'].str.contains('Atl')]"
   ]
  },
  {
   "cell_type": "code",
   "execution_count": 81,
   "id": "57c07749-f36b-4c36-8ce6-74b544cdbf8d",
   "metadata": {},
   "outputs": [
    {
     "data": {
      "text/plain": [
       "140"
      ]
     },
     "execution_count": 81,
     "metadata": {},
     "output_type": "execute_result"
    }
   ],
   "source": [
    "## Scored Goals Before Simone\n",
    "201 - scored_goals "
   ]
  },
  {
   "cell_type": "code",
   "execution_count": 82,
   "id": "f5358b1c-b750-4919-9be2-6baac05d1765",
   "metadata": {},
   "outputs": [],
   "source": [
    "## Conceded Goals Before Simone "
   ]
  },
  {
   "cell_type": "code",
   "execution_count": 83,
   "id": "2c95ade9-b5b3-4e8a-98cb-ff30375326a1",
   "metadata": {},
   "outputs": [],
   "source": [
    "top_conceded_teams_in_europe_league = pd.read_csv(r\"processed data/most_teams_conceded_goal_in_europe_league_df.csv\")"
   ]
  },
  {
   "cell_type": "code",
   "execution_count": 84,
   "id": "2d850e70-a04b-447b-8d60-767dcc443c8d",
   "metadata": {},
   "outputs": [
    {
     "data": {
      "text/html": [
       "<div>\n",
       "<style scoped>\n",
       "    .dataframe tbody tr th:only-of-type {\n",
       "        vertical-align: middle;\n",
       "    }\n",
       "\n",
       "    .dataframe tbody tr th {\n",
       "        vertical-align: top;\n",
       "    }\n",
       "\n",
       "    .dataframe thead th {\n",
       "        text-align: right;\n",
       "    }\n",
       "</style>\n",
       "<table border=\"1\" class=\"dataframe\">\n",
       "  <thead>\n",
       "    <tr style=\"text-align: right;\">\n",
       "      <th></th>\n",
       "      <th>team name, rank, nation</th>\n",
       "      <th>total goals</th>\n",
       "    </tr>\n",
       "  </thead>\n",
       "  <tbody>\n",
       "    <tr>\n",
       "      <th>0</th>\n",
       "      <td>1 Club Brugge BEL</td>\n",
       "      <td>236</td>\n",
       "    </tr>\n",
       "    <tr>\n",
       "      <th>1</th>\n",
       "      <td>2 SK Rapid AUT</td>\n",
       "      <td>229</td>\n",
       "    </tr>\n",
       "    <tr>\n",
       "      <th>2</th>\n",
       "      <td>3 Sporting CP POR</td>\n",
       "      <td>226</td>\n",
       "    </tr>\n",
       "    <tr>\n",
       "      <th>3</th>\n",
       "      <td>4 AEK Athens GRE</td>\n",
       "      <td>212</td>\n",
       "    </tr>\n",
       "    <tr>\n",
       "      <th>4</th>\n",
       "      <td>5 Partizan SRB</td>\n",
       "      <td>206</td>\n",
       "    </tr>\n",
       "    <tr>\n",
       "      <th>...</th>\n",
       "      <td>...</td>\n",
       "      <td>...</td>\n",
       "    </tr>\n",
       "    <tr>\n",
       "      <th>95</th>\n",
       "      <td>96 Glentoran NIR</td>\n",
       "      <td>102</td>\n",
       "    </tr>\n",
       "    <tr>\n",
       "      <th>96</th>\n",
       "      <td>97 VitÃ³ria SC POR</td>\n",
       "      <td>101</td>\n",
       "    </tr>\n",
       "    <tr>\n",
       "      <th>97</th>\n",
       "      <td>97 HonvÃ©d HUN</td>\n",
       "      <td>101</td>\n",
       "    </tr>\n",
       "    <tr>\n",
       "      <th>98</th>\n",
       "      <td>99 H. Tel Aviv ISR</td>\n",
       "      <td>100</td>\n",
       "    </tr>\n",
       "    <tr>\n",
       "      <th>99</th>\n",
       "      <td>99 Lokomotiv Moskva RUS</td>\n",
       "      <td>100</td>\n",
       "    </tr>\n",
       "  </tbody>\n",
       "</table>\n",
       "<p>100 rows × 2 columns</p>\n",
       "</div>"
      ],
      "text/plain": [
       "    team name, rank, nation  total goals\n",
       "0         1 Club Brugge BEL          236\n",
       "1            2 SK Rapid AUT          229\n",
       "2         3 Sporting CP POR          226\n",
       "3          4 AEK Athens GRE          212\n",
       "4            5 Partizan SRB          206\n",
       "..                      ...          ...\n",
       "95         96 Glentoran NIR          102\n",
       "96       97 VitÃ³ria SC POR          101\n",
       "97           97 HonvÃ©d HUN          101\n",
       "98       99 H. Tel Aviv ISR          100\n",
       "99  99 Lokomotiv Moskva RUS          100\n",
       "\n",
       "[100 rows x 2 columns]"
      ]
     },
     "execution_count": 84,
     "metadata": {},
     "output_type": "execute_result"
    }
   ],
   "source": [
    "top_conceded_teams_in_europe_league"
   ]
  },
  {
   "cell_type": "code",
   "execution_count": 85,
   "id": "d6aeaa93-db06-4861-861a-a3f5ff67a9e7",
   "metadata": {},
   "outputs": [
    {
     "data": {
      "text/html": [
       "<div>\n",
       "<style scoped>\n",
       "    .dataframe tbody tr th:only-of-type {\n",
       "        vertical-align: middle;\n",
       "    }\n",
       "\n",
       "    .dataframe tbody tr th {\n",
       "        vertical-align: top;\n",
       "    }\n",
       "\n",
       "    .dataframe thead th {\n",
       "        text-align: right;\n",
       "    }\n",
       "</style>\n",
       "<table border=\"1\" class=\"dataframe\">\n",
       "  <thead>\n",
       "    <tr style=\"text-align: right;\">\n",
       "      <th></th>\n",
       "      <th>team name, rank, nation</th>\n",
       "      <th>total goals</th>\n",
       "    </tr>\n",
       "  </thead>\n",
       "  <tbody>\n",
       "    <tr>\n",
       "      <th>78</th>\n",
       "      <td>78 Atleti ESP</td>\n",
       "      <td>117</td>\n",
       "    </tr>\n",
       "  </tbody>\n",
       "</table>\n",
       "</div>"
      ],
      "text/plain": [
       "   team name, rank, nation  total goals\n",
       "78           78 Atleti ESP          117"
      ]
     },
     "execution_count": 85,
     "metadata": {},
     "output_type": "execute_result"
    }
   ],
   "source": [
    "top_conceded_teams_in_europe_league[top_conceded_teams_in_europe_league['team name, rank, nation'].str.contains('Atl')]"
   ]
  },
  {
   "cell_type": "code",
   "execution_count": 86,
   "id": "649d47f2-2c4b-4c33-83ae-b147ffad8d74",
   "metadata": {},
   "outputs": [
    {
     "data": {
      "text/plain": [
       "97"
      ]
     },
     "execution_count": 86,
     "metadata": {},
     "output_type": "execute_result"
    }
   ],
   "source": [
    "## Conceded Golas Before Simone \n",
    "117 - conceded_goals"
   ]
  },
  {
   "cell_type": "markdown",
   "id": "b2b64722-ec45-442f-95cc-2d0467711348",
   "metadata": {},
   "source": [
    "## Win lose Draw Knockout  2011 "
   ]
  },
  {
   "cell_type": "code",
   "execution_count": 87,
   "id": "3c0ac7eb-f5db-4354-8fb8-052bbc9b6bb8",
   "metadata": {},
   "outputs": [
    {
     "name": "stdout",
     "output_type": "stream",
     "text": [
      "Wins 9\n",
      "Loses 0\n",
      "Draw 0\n"
     ]
    }
   ],
   "source": [
    "ateleti_wins = 0\n",
    "atleti_lose = 0 \n",
    "draw = -1 # As Final Game is only one Match \n",
    "for i in range (0, play_off_2011_europe_league.shape[0], 1) : \n",
    "    if play_off_2011_europe_league['atleti first match'][i] > play_off_2011_europe_league['competitor first match'][i] :\n",
    "        ateleti_wins = ateleti_wins+1\n",
    "        \n",
    "    if play_off_2011_europe_league['atleti first match'][i] < play_off_2011_europe_league['competitor first match'][i] : \n",
    "        atleti_lose = atleti_lose +1 \n",
    "    if play_off_2011_europe_league['atleti first match'][i] == play_off_2011_europe_league['competitor first match'][i] : \n",
    "        draw = draw +1 \n",
    "    if play_off_2011_europe_league['atleti second match'][i] > play_off_2011_europe_league['competitor second match'][i] :\n",
    "        ateleti_wins = ateleti_wins+1\n",
    "    if play_off_2011_europe_league['atleti second match'][i] < play_off_2011_europe_league['competitor second match'][i] :\n",
    "        atleti_lose = atleti_lose +1\n",
    "    if play_off_2011_europe_league['atleti second match'][i] == play_off_2011_europe_league['competitor second match'][i] :\n",
    "        draw = draw +1\n",
    "print(\"Wins\", ateleti_wins)\n",
    "print(\"Loses\",atleti_lose)\n",
    "print(\"Draw\", draw)"
   ]
  },
  {
   "cell_type": "code",
   "execution_count": 88,
   "id": "4cfcf8bd-a3f2-48fb-a4dd-79c1ddf83ee9",
   "metadata": {},
   "outputs": [],
   "source": [
    "##2018"
   ]
  },
  {
   "cell_type": "code",
   "execution_count": 89,
   "id": "c7d605d4-8120-4595-b405-464bceeafc54",
   "metadata": {},
   "outputs": [
    {
     "name": "stdout",
     "output_type": "stream",
     "text": [
      "Wins 7\n",
      "Loses 1\n",
      "Draw 1\n"
     ]
    }
   ],
   "source": [
    "ateleti_wins = 0\n",
    "atleti_lose = 0 \n",
    "draw = -1 # As Final Game is only one Match \n",
    "for i in range (0, play_off_2011_europe_league.shape[0], 1) : \n",
    "    if atleti_europe_2018['atleti first match'][i] > atleti_europe_2018['competitor first match'][i] :\n",
    "        ateleti_wins = ateleti_wins+1\n",
    "        \n",
    "    if atleti_europe_2018['atleti first match'][i] < atleti_europe_2018['competitor first match'][i] : \n",
    "        atleti_lose = atleti_lose +1 \n",
    "    if atleti_europe_2018['atleti first match'][i] == atleti_europe_2018['competitor first match'][i] : \n",
    "        draw = draw +1 \n",
    "    if atleti_europe_2018['atleti second match'][i] > atleti_europe_2018['competitor second match'][i] :\n",
    "        ateleti_wins = ateleti_wins+1\n",
    "    if atleti_europe_2018['atleti second match'][i] < atleti_europe_2018['competitor second match'][i] :\n",
    "        atleti_lose = atleti_lose +1\n",
    "    if atleti_europe_2018['atleti second match'][i] == atleti_europe_2018['competitor second match'][i] :\n",
    "        draw = draw +1\n",
    "print(\"Wins\", ateleti_wins)\n",
    "print(\"Loses\",atleti_lose)\n",
    "print(\"Draw\", draw)"
   ]
  },
  {
   "cell_type": "markdown",
   "id": "e824be71-a8e5-4e52-ab9d-01da1b128b07",
   "metadata": {},
   "source": [
    "## Visualizing the previous statistics using Google looker Studio"
   ]
  },
  {
   "cell_type": "code",
   "execution_count": 90,
   "id": "6d00ec36-3155-45ca-90ca-1183c6c5fee8",
   "metadata": {},
   "outputs": [
    {
     "data": {
      "image/png": "[encoded data removed]",
      "text/plain": [
       "<Figure size 1000x900 with 1 Axes>"
      ]
     },
     "metadata": {},
     "output_type": "display_data"
    }
   ],
   "source": [
    "show_image('images/europe_league.png')"
   ]
  }
 ],
 "metadata": {
  "kernelspec": {
   "display_name": "Python 3 (ipykernel)",
   "language": "python",
   "name": "python3"
  },
  "language_info": {
   "codemirror_mode": {
    "name": "ipython",
    "version": 3
   },
   "file_extension": ".py",
   "mimetype": "text/x-python",
   "name": "python",
   "nbconvert_exporter": "python",
   "pygments_lexer": "ipython3",
   "version": "3.11.5"
  }
 },
 "nbformat": 4,
 "nbformat_minor": 5
}

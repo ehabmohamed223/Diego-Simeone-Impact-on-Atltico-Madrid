{
 "cells": [
  {
   "cell_type": "markdown",
   "id": "c17d9c0c-294e-4afc-8594-5fcf59939058",
   "metadata": {},
   "source": [
    "## Overview about Atleti History"
   ]
  },
  {
   "cell_type": "code",
   "execution_count": 2,
   "id": "502a70fb-2eb6-4fa2-802f-9c6ca5534be3",
   "metadata": {},
   "outputs": [],
   "source": [
    "import pandas as pd \n",
    "import numpy as np\n",
    "import matplotlib.pyplot as plt\n",
    "import matplotlib.image as mpimg"
   ]
  },
  {
   "cell_type": "code",
   "execution_count": 3,
   "id": "e8acd4fd-bb12-4ed3-8541-e93094725eb9",
   "metadata": {},
   "outputs": [],
   "source": [
    "def upload_data(df, file_path):\n",
    "    df.to_csv(file_path, index=False)"
   ]
  },
  {
   "cell_type": "code",
   "execution_count": 4,
   "id": "2df9b2af-2aa8-4766-a76d-6202a2f19878",
   "metadata": {},
   "outputs": [],
   "source": [
    "def convert_series_to_df (series, first_col_name, second_col_name):\n",
    "    dictionary = {first_col_name : series.index, second_col_name: series.values}\n",
    "    return pd.DataFrame(dictionary)"
   ]
  },
  {
   "cell_type": "code",
   "execution_count": 5,
   "id": "4af3f178-e31c-424a-a354-4a6e413e3bd9",
   "metadata": {},
   "outputs": [],
   "source": [
    "def remove_empty(series, first_col_name, second_col_name):\n",
    "    series = series[1:]\n",
    "    df = convert_series_to_df(series, first_col_name, second_col_name)    \n",
    "    return df "
   ]
  },
  {
   "cell_type": "code",
   "execution_count": 6,
   "id": "c3e0fb82-3044-42cb-acf1-a4fd147f9492",
   "metadata": {},
   "outputs": [],
   "source": [
    "atelti_seasons_df = pd.read_csv(\"processed data/atleti_history_wikipedia.csv\")"
   ]
  },
  {
   "cell_type": "code",
   "execution_count": 7,
   "id": "5e8663a0-fb33-4cf4-8a87-50845e4be727",
   "metadata": {},
   "outputs": [
    {
     "data": {
      "text/html": [
       "<div>\n",
       "<style scoped>\n",
       "    .dataframe tbody tr th:only-of-type {\n",
       "        vertical-align: middle;\n",
       "    }\n",
       "\n",
       "    .dataframe tbody tr th {\n",
       "        vertical-align: top;\n",
       "    }\n",
       "\n",
       "    .dataframe thead th {\n",
       "        text-align: right;\n",
       "    }\n",
       "</style>\n",
       "<table border=\"1\" class=\"dataframe\">\n",
       "  <thead>\n",
       "    <tr style=\"text-align: right;\">\n",
       "      <th></th>\n",
       "      <th>Division</th>\n",
       "      <th>Pld</th>\n",
       "      <th>W</th>\n",
       "      <th>D</th>\n",
       "      <th>L</th>\n",
       "      <th>GF</th>\n",
       "      <th>GA</th>\n",
       "      <th>Pts</th>\n",
       "      <th>Pos</th>\n",
       "      <th>Cup[1]</th>\n",
       "      <th>...</th>\n",
       "      <th>LC</th>\n",
       "      <th>CL[3]</th>\n",
       "      <th>UC[4]</th>\n",
       "      <th>CW</th>\n",
       "      <th>IC</th>\n",
       "      <th>SC[5]</th>\n",
       "      <th>CWC[6]</th>\n",
       "      <th>Player(s)</th>\n",
       "      <th>Goals</th>\n",
       "      <th>season</th>\n",
       "    </tr>\n",
       "  </thead>\n",
       "  <tbody>\n",
       "    <tr>\n",
       "      <th>0</th>\n",
       "      <td>La Liga</td>\n",
       "      <td>18</td>\n",
       "      <td>8</td>\n",
       "      <td>2</td>\n",
       "      <td>8</td>\n",
       "      <td>43</td>\n",
       "      <td>41</td>\n",
       "      <td>18</td>\n",
       "      <td>6th</td>\n",
       "      <td>QF</td>\n",
       "      <td>...</td>\n",
       "      <td>NaN</td>\n",
       "      <td>NaN</td>\n",
       "      <td>NaN</td>\n",
       "      <td>NaN</td>\n",
       "      <td>NaN</td>\n",
       "      <td>NaN</td>\n",
       "      <td>NaN</td>\n",
       "      <td>Cosme Vázquez</td>\n",
       "      <td>24</td>\n",
       "      <td>1928–29</td>\n",
       "    </tr>\n",
       "    <tr>\n",
       "      <th>1</th>\n",
       "      <td>La Liga</td>\n",
       "      <td>18</td>\n",
       "      <td>5</td>\n",
       "      <td>2</td>\n",
       "      <td>11</td>\n",
       "      <td>32</td>\n",
       "      <td>50</td>\n",
       "      <td>12</td>\n",
       "      <td>10th</td>\n",
       "      <td>R32</td>\n",
       "      <td>...</td>\n",
       "      <td>NaN</td>\n",
       "      <td>NaN</td>\n",
       "      <td>NaN</td>\n",
       "      <td>NaN</td>\n",
       "      <td>NaN</td>\n",
       "      <td>NaN</td>\n",
       "      <td>NaN</td>\n",
       "      <td>Luis Marín Sabater</td>\n",
       "      <td>24</td>\n",
       "      <td>1929–30</td>\n",
       "    </tr>\n",
       "    <tr>\n",
       "      <th>2</th>\n",
       "      <td>Segunda División</td>\n",
       "      <td>18</td>\n",
       "      <td>11</td>\n",
       "      <td>1</td>\n",
       "      <td>6</td>\n",
       "      <td>47</td>\n",
       "      <td>31</td>\n",
       "      <td>23</td>\n",
       "      <td>3rd</td>\n",
       "      <td>R32</td>\n",
       "      <td>...</td>\n",
       "      <td>NaN</td>\n",
       "      <td>NaN</td>\n",
       "      <td>NaN</td>\n",
       "      <td>NaN</td>\n",
       "      <td>NaN</td>\n",
       "      <td>NaN</td>\n",
       "      <td>NaN</td>\n",
       "      <td>Santiago Losada Amor [gl]</td>\n",
       "      <td>15</td>\n",
       "      <td>1930–31</td>\n",
       "    </tr>\n",
       "    <tr>\n",
       "      <th>3</th>\n",
       "      <td>Segunda División</td>\n",
       "      <td>16</td>\n",
       "      <td>8</td>\n",
       "      <td>2</td>\n",
       "      <td>6</td>\n",
       "      <td>38</td>\n",
       "      <td>34</td>\n",
       "      <td>18</td>\n",
       "      <td>4th</td>\n",
       "      <td>R16</td>\n",
       "      <td>...</td>\n",
       "      <td>NaN</td>\n",
       "      <td>NaN</td>\n",
       "      <td>NaN</td>\n",
       "      <td>NaN</td>\n",
       "      <td>NaN</td>\n",
       "      <td>NaN</td>\n",
       "      <td>NaN</td>\n",
       "      <td>Santiago Buiría</td>\n",
       "      <td>15</td>\n",
       "      <td>1931–32</td>\n",
       "    </tr>\n",
       "    <tr>\n",
       "      <th>4</th>\n",
       "      <td>Segunda División</td>\n",
       "      <td>18</td>\n",
       "      <td>12</td>\n",
       "      <td>3</td>\n",
       "      <td>3</td>\n",
       "      <td>58</td>\n",
       "      <td>26</td>\n",
       "      <td>27</td>\n",
       "      <td>2nd</td>\n",
       "      <td>R16</td>\n",
       "      <td>...</td>\n",
       "      <td>NaN</td>\n",
       "      <td>NaN</td>\n",
       "      <td>NaN</td>\n",
       "      <td>NaN</td>\n",
       "      <td>NaN</td>\n",
       "      <td>NaN</td>\n",
       "      <td>NaN</td>\n",
       "      <td>Manuel Guijarro</td>\n",
       "      <td>17</td>\n",
       "      <td>1932–33</td>\n",
       "    </tr>\n",
       "  </tbody>\n",
       "</table>\n",
       "<p>5 rows × 21 columns</p>\n",
       "</div>"
      ],
      "text/plain": [
       "           Division  Pld   W  D   L  GF  GA  Pts   Pos Cup[1]  ...   LC CL[3]  \\\n",
       "0           La Liga   18   8  2   8  43  41   18   6th     QF  ...  NaN   NaN   \n",
       "1           La Liga   18   5  2  11  32  50   12  10th    R32  ...  NaN   NaN   \n",
       "2  Segunda División   18  11  1   6  47  31   23   3rd    R32  ...  NaN   NaN   \n",
       "3  Segunda División   16   8  2   6  38  34   18   4th    R16  ...  NaN   NaN   \n",
       "4  Segunda División   18  12  3   3  58  26   27   2nd    R16  ...  NaN   NaN   \n",
       "\n",
       "  UC[4]   CW   IC SC[5] CWC[6]                   Player(s) Goals   season  \n",
       "0   NaN  NaN  NaN   NaN    NaN               Cosme Vázquez    24  1928–29  \n",
       "1   NaN  NaN  NaN   NaN    NaN          Luis Marín Sabater    24  1929–30  \n",
       "2   NaN  NaN  NaN   NaN    NaN   Santiago Losada Amor [gl]    15  1930–31  \n",
       "3   NaN  NaN  NaN   NaN    NaN             Santiago Buiría    15  1931–32  \n",
       "4   NaN  NaN  NaN   NaN    NaN             Manuel Guijarro    17  1932–33  \n",
       "\n",
       "[5 rows x 21 columns]"
      ]
     },
     "execution_count": 7,
     "metadata": {},
     "output_type": "execute_result"
    }
   ],
   "source": [
    "atelti_seasons_df.head()"
   ]
  },
  {
   "cell_type": "code",
   "execution_count": 8,
   "id": "f36330e6-5efe-4959-a2a4-447dc7254821",
   "metadata": {},
   "outputs": [
    {
     "data": {
      "text/plain": [
       "Index(['Division', 'Pld', 'W', 'D', 'L', 'GF', 'GA', 'Pts', 'Pos', 'Cup[1]',\n",
       "       'Sup.', 'LC', 'CL[3]', 'UC[4]', 'CW', 'IC', 'SC[5]', 'CWC[6]',\n",
       "       'Player(s)', 'Goals', 'season'],\n",
       "      dtype='object')"
      ]
     },
     "execution_count": 8,
     "metadata": {},
     "output_type": "execute_result"
    }
   ],
   "source": [
    "atelti_seasons_df.columns"
   ]
  },
  {
   "cell_type": "markdown",
   "id": "b0802bde-2e65-4c4b-83f1-385182a0ef37",
   "metadata": {},
   "source": [
    "## Laliga"
   ]
  },
  {
   "cell_type": "code",
   "execution_count": 9,
   "id": "f892c5b2-b218-4fdc-b615-fee45d0f6ee4",
   "metadata": {},
   "outputs": [],
   "source": [
    "## 1st place laliga"
   ]
  },
  {
   "cell_type": "code",
   "execution_count": 10,
   "id": "1600d771-dc5b-4efa-aa4d-b3a6b731a8c8",
   "metadata": {},
   "outputs": [
    {
     "data": {
      "text/plain": [
       "array(['1939–40', '1940–41', '1949–50', '1950–51', '1965–66', '1969–70',\n",
       "       '1972–73', '1976–77', '1995–96', '2013–14', '2020–21'],\n",
       "      dtype=object)"
      ]
     },
     "execution_count": 10,
     "metadata": {},
     "output_type": "execute_result"
    }
   ],
   "source": [
    "laliga_postion = np.array(atelti_seasons_df[(atelti_seasons_df['Division']=='La Liga') & (atelti_seasons_df['Pos']=='W')]['season'])\n",
    "laliga_postion"
   ]
  },
  {
   "cell_type": "code",
   "execution_count": 11,
   "id": "ead528d5-720e-4cc6-9a38-7fb27150f60f",
   "metadata": {},
   "outputs": [
    {
     "name": "stdout",
     "output_type": "stream",
     "text": [
      "total :  11\n"
     ]
    }
   ],
   "source": [
    "print(\"total : \",len(laliga_postion))"
   ]
  },
  {
   "cell_type": "code",
   "execution_count": 12,
   "id": "c412229e-369d-446b-82a5-a7e35caec03e",
   "metadata": {},
   "outputs": [],
   "source": [
    "## 2nd place laliga "
   ]
  },
  {
   "cell_type": "code",
   "execution_count": 13,
   "id": "aa25896b-70c1-4bc9-8b37-89c570209727",
   "metadata": {},
   "outputs": [
    {
     "data": {
      "text/plain": [
       "array(['1943–44', '1957–58', '1960–61', '1962–63', '1964–65', '1973–74',\n",
       "       '1984–85', '1990–91', '2017–18', '2018–19'], dtype=object)"
      ]
     },
     "execution_count": 13,
     "metadata": {},
     "output_type": "execute_result"
    }
   ],
   "source": [
    "laliga_postion = np.array(atelti_seasons_df[(atelti_seasons_df['Division']=='La Liga') & (atelti_seasons_df['Pos']=='2nd')]['season'])\n",
    "laliga_postion"
   ]
  },
  {
   "cell_type": "code",
   "execution_count": 14,
   "id": "d35cf318-2b2f-499b-a25f-72438785ed6f",
   "metadata": {},
   "outputs": [
    {
     "name": "stdout",
     "output_type": "stream",
     "text": [
      "total :  10\n"
     ]
    }
   ],
   "source": [
    "print(\"total : \",len(laliga_postion))"
   ]
  },
  {
   "cell_type": "code",
   "execution_count": 15,
   "id": "b9780b4e-a389-40a5-b964-ee74fb292b05",
   "metadata": {},
   "outputs": [],
   "source": [
    "## 3rd place laliga"
   ]
  },
  {
   "cell_type": "code",
   "execution_count": 16,
   "id": "185195ce-94b1-4935-8d72-744180a7ac06",
   "metadata": {},
   "outputs": [
    {
     "data": {
      "text/plain": [
       "array(['1941–42', '1944–45', '1946–47', '1947–48', '1948–49', '1961–62',\n",
       "       '1970–71', '1975–76', '1978–79', '1980–81', '1982–83', '1987–88',\n",
       "       '1991–92', '2012–13', '2014–15', '2015–16', '2016–17', '2019–20',\n",
       "       '2021–22', '2022–23'], dtype=object)"
      ]
     },
     "execution_count": 16,
     "metadata": {},
     "output_type": "execute_result"
    }
   ],
   "source": [
    "laliga_postion = np.array(atelti_seasons_df[(atelti_seasons_df['Division']=='La Liga') & (atelti_seasons_df['Pos']=='3rd')]['season'])\n",
    "laliga_postion"
   ]
  },
  {
   "cell_type": "code",
   "execution_count": 17,
   "id": "29ae3e8e-5547-4c54-8ed8-22dea4e2de2c",
   "metadata": {},
   "outputs": [
    {
     "name": "stdout",
     "output_type": "stream",
     "text": [
      "total :  20\n"
     ]
    }
   ],
   "source": [
    "print(\"total : \",len(laliga_postion))"
   ]
  },
  {
   "cell_type": "code",
   "execution_count": 18,
   "id": "9a4d861f-04be-44f7-9fb9-9b0ef7de4e84",
   "metadata": {},
   "outputs": [],
   "source": [
    "## 4th place laliga"
   ]
  },
  {
   "cell_type": "code",
   "execution_count": 19,
   "id": "12bc6477-e762-4110-876b-bcdcea5169c5",
   "metadata": {},
   "outputs": [
    {
     "data": {
      "text/plain": [
       "array(['1951–52', '1966–67', '1971–72', '1983–84', '1988–89', '1989–90',\n",
       "       '2007–08', '2008–09', '2023–24'], dtype=object)"
      ]
     },
     "execution_count": 19,
     "metadata": {},
     "output_type": "execute_result"
    }
   ],
   "source": [
    "laliga_postion = np.array(atelti_seasons_df[(atelti_seasons_df['Division']=='La Liga') & (atelti_seasons_df['Pos']=='4th')]['season'])\n",
    "laliga_postion"
   ]
  },
  {
   "cell_type": "code",
   "execution_count": 20,
   "id": "5af89e80-caab-4b8e-ab7b-87be266fe057",
   "metadata": {},
   "outputs": [
    {
     "name": "stdout",
     "output_type": "stream",
     "text": [
      "total :  9\n"
     ]
    }
   ],
   "source": [
    "print(\"total : \",len(laliga_postion))"
   ]
  },
  {
   "cell_type": "markdown",
   "id": "e9c75afd-8ae4-493d-b0ed-8a16a45e1f85",
   "metadata": {},
   "source": [
    "## Copa Del Rey"
   ]
  },
  {
   "cell_type": "code",
   "execution_count": 21,
   "id": "792f602d-74e8-4f9f-963a-185d94c183f8",
   "metadata": {},
   "outputs": [],
   "source": [
    "## copa del rey winner"
   ]
  },
  {
   "cell_type": "code",
   "execution_count": 22,
   "id": "97cd23ee-7282-4b2e-9a76-5e82ac248bb2",
   "metadata": {},
   "outputs": [
    {
     "data": {
      "text/plain": [
       "array(['1959–60', '1960–61', '1964–65', '1971–72', '1975–76', '1984–85',\n",
       "       '1990–91', '1991–92', '1995–96', '2012–13'], dtype=object)"
      ]
     },
     "execution_count": 22,
     "metadata": {},
     "output_type": "execute_result"
    }
   ],
   "source": [
    "copa_del_rey_postion = np.array(atelti_seasons_df[atelti_seasons_df['Cup[1]']=='W']['season'])\n",
    "copa_del_rey_postion"
   ]
  },
  {
   "cell_type": "code",
   "execution_count": 23,
   "id": "0f878ef2-4948-4c2a-b217-f91bb598c72e",
   "metadata": {},
   "outputs": [
    {
     "data": {
      "text/plain": [
       "10"
      ]
     },
     "execution_count": 23,
     "metadata": {},
     "output_type": "execute_result"
    }
   ],
   "source": [
    "len(copa_del_rey_postion)"
   ]
  },
  {
   "cell_type": "code",
   "execution_count": 24,
   "id": "9a77956f-0429-455d-bdbe-bac6a9f1667c",
   "metadata": {},
   "outputs": [],
   "source": [
    "## copa del rey runner up"
   ]
  },
  {
   "cell_type": "code",
   "execution_count": 25,
   "id": "a6b61485-1b34-4eb3-9056-603c8600e965",
   "metadata": {},
   "outputs": [
    {
     "data": {
      "text/plain": [
       "array(['1955–56', '1963–64', '1974–75', '1986–87', '1998–99', '1999–2000',\n",
       "       '2009–10'], dtype=object)"
      ]
     },
     "execution_count": 25,
     "metadata": {},
     "output_type": "execute_result"
    }
   ],
   "source": [
    "copa_del_rey_postion = np.array(atelti_seasons_df[atelti_seasons_df['Cup[1]']=='RU']['season'])\n",
    "copa_del_rey_postion"
   ]
  },
  {
   "cell_type": "code",
   "execution_count": 26,
   "id": "e194b99f-7d35-4bfc-beb4-eab1d376d326",
   "metadata": {},
   "outputs": [
    {
     "data": {
      "text/plain": [
       "7"
      ]
     },
     "execution_count": 26,
     "metadata": {},
     "output_type": "execute_result"
    }
   ],
   "source": [
    "len(copa_del_rey_postion)"
   ]
  },
  {
   "cell_type": "code",
   "execution_count": 27,
   "id": "4deaecc6-cdba-495b-b990-570d91cd261e",
   "metadata": {},
   "outputs": [],
   "source": [
    "## copa del rey semi final "
   ]
  },
  {
   "cell_type": "code",
   "execution_count": 28,
   "id": "eb6393c4-2a05-4e20-aafa-54134aad26ca",
   "metadata": {},
   "outputs": [
    {
     "data": {
      "text/plain": [
       "array(['1943–44', '1952–53', '1967–68', '1970–71', '1973–74', '1979–80',\n",
       "       '1988–89', '2000–01', '2004–05', '2013–14', '2016–17', '2023–24'],\n",
       "      dtype=object)"
      ]
     },
     "execution_count": 28,
     "metadata": {},
     "output_type": "execute_result"
    }
   ],
   "source": [
    "copa_del_rey_postion = np.array(atelti_seasons_df[atelti_seasons_df['Cup[1]']=='SF']['season'])\n",
    "copa_del_rey_postion"
   ]
  },
  {
   "cell_type": "code",
   "execution_count": 29,
   "id": "4374f813-202f-4efd-acb5-f559cbecb2c9",
   "metadata": {},
   "outputs": [
    {
     "data": {
      "text/plain": [
       "12"
      ]
     },
     "execution_count": 29,
     "metadata": {},
     "output_type": "execute_result"
    }
   ],
   "source": [
    "len(copa_del_rey_postion)"
   ]
  },
  {
   "cell_type": "code",
   "execution_count": 30,
   "id": "b4077726-53b0-427e-b9ab-51324e4eeb56",
   "metadata": {},
   "outputs": [],
   "source": [
    "## copa del rey round 8  "
   ]
  },
  {
   "cell_type": "code",
   "execution_count": 31,
   "id": "da491aad-4a37-4030-b69a-4d0890608130",
   "metadata": {},
   "outputs": [
    {
     "data": {
      "text/plain": [
       "array(['1928–29', '1934–35', '1940–41', '1941–42', '1942–43', '1944–45',\n",
       "       '1945–46', '1947–48', '1948–49', '1949–50', '1950–51', '1958–59',\n",
       "       '1962–63', '1965–66', '1966–67', '1968–69', '1977–78', '1981–82',\n",
       "       '1985–86', '1987–88', '1994–95', '1996–97', '2002–03', '2003–04',\n",
       "       '2007–08', '2008–09', '2010–11', '2014–15', '2015–16', '2017–18',\n",
       "       '2022–23'], dtype=object)"
      ]
     },
     "execution_count": 31,
     "metadata": {},
     "output_type": "execute_result"
    }
   ],
   "source": [
    "copa_del_rey_postion = np.array(atelti_seasons_df[atelti_seasons_df['Cup[1]']=='QF']['season'])\n",
    "copa_del_rey_postion"
   ]
  },
  {
   "cell_type": "code",
   "execution_count": 32,
   "id": "0994872b-be96-40bf-9bd3-2453001ff368",
   "metadata": {},
   "outputs": [
    {
     "data": {
      "text/plain": [
       "31"
      ]
     },
     "execution_count": 32,
     "metadata": {},
     "output_type": "execute_result"
    }
   ],
   "source": [
    "len(copa_del_rey_postion)"
   ]
  },
  {
   "cell_type": "markdown",
   "id": "866085ad-42d8-46e3-9acb-f08d7dae3a05",
   "metadata": {},
   "source": [
    "## Spainish super cup "
   ]
  },
  {
   "cell_type": "code",
   "execution_count": 33,
   "id": "239c0e29-1ea2-4bd6-8f82-adb4c4e83565",
   "metadata": {},
   "outputs": [],
   "source": [
    "## Winner"
   ]
  },
  {
   "cell_type": "code",
   "execution_count": 34,
   "id": "15db2bef-9f45-41fa-b950-26acac5086d1",
   "metadata": {},
   "outputs": [
    {
     "data": {
      "text/plain": [
       "array(['1940–41', '1941–42', '1951–52', '1985–86', '2014–15'],\n",
       "      dtype=object)"
      ]
     },
     "execution_count": 34,
     "metadata": {},
     "output_type": "execute_result"
    }
   ],
   "source": [
    "spain_super_cup_postion = np.array(atelti_seasons_df[atelti_seasons_df['Sup.']=='W']['season'])\n",
    "spain_super_cup_postion"
   ]
  },
  {
   "cell_type": "code",
   "execution_count": 35,
   "id": "9889bb33-30f5-46d8-a5e0-8f05cd95329e",
   "metadata": {},
   "outputs": [
    {
     "data": {
      "text/plain": [
       "5"
      ]
     },
     "execution_count": 35,
     "metadata": {},
     "output_type": "execute_result"
    }
   ],
   "source": [
    "len(spain_super_cup_postion)"
   ]
  },
  {
   "cell_type": "code",
   "execution_count": 36,
   "id": "9b4f5108-3e1f-4820-8e6d-9eb4650e2c6f",
   "metadata": {},
   "outputs": [],
   "source": [
    "## Runner Up"
   ]
  },
  {
   "cell_type": "code",
   "execution_count": 37,
   "id": "47ad46d9-dd44-422a-a5a5-4139cd5568da",
   "metadata": {},
   "outputs": [
    {
     "data": {
      "text/plain": [
       "array(['1950–51', '1991–92', '1992–93', '1996–97', '2013–14', '2019–20'],\n",
       "      dtype=object)"
      ]
     },
     "execution_count": 37,
     "metadata": {},
     "output_type": "execute_result"
    }
   ],
   "source": [
    "spain_super_cup_postion = np.array(atelti_seasons_df[atelti_seasons_df['Sup.']=='RU']['season'])\n",
    "spain_super_cup_postion"
   ]
  },
  {
   "cell_type": "code",
   "execution_count": 38,
   "id": "a51bc6f4-bf2f-4c8a-8be9-6ad5d065ae3b",
   "metadata": {},
   "outputs": [
    {
     "data": {
      "text/plain": [
       "6"
      ]
     },
     "execution_count": 38,
     "metadata": {},
     "output_type": "execute_result"
    }
   ],
   "source": [
    "len(spain_super_cup_postion)"
   ]
  },
  {
   "cell_type": "code",
   "execution_count": 39,
   "id": "431a324d-c23a-45e7-b435-bc49a5907546",
   "metadata": {},
   "outputs": [],
   "source": [
    "## Semi Finals"
   ]
  },
  {
   "cell_type": "code",
   "execution_count": 40,
   "id": "6f6566ec-1927-49c0-9f45-fdd3187c056b",
   "metadata": {},
   "outputs": [
    {
     "data": {
      "text/plain": [
       "array(['2021–22', '2023–24'], dtype=object)"
      ]
     },
     "execution_count": 40,
     "metadata": {},
     "output_type": "execute_result"
    }
   ],
   "source": [
    "spain_super_cup_postion = np.array(atelti_seasons_df[atelti_seasons_df['Sup.']=='SF']['season'])\n",
    "spain_super_cup_postion"
   ]
  },
  {
   "cell_type": "code",
   "execution_count": 41,
   "id": "b3b4ec1c-3d42-4a85-ae95-17a340afc384",
   "metadata": {},
   "outputs": [
    {
     "data": {
      "text/plain": [
       "2"
      ]
     },
     "execution_count": 41,
     "metadata": {},
     "output_type": "execute_result"
    }
   ],
   "source": [
    "len(spain_super_cup_postion)"
   ]
  },
  {
   "cell_type": "markdown",
   "id": "a2064b1b-2c4a-408d-a5b9-ac490a676e6e",
   "metadata": {},
   "source": [
    "## Uefa Champions League "
   ]
  },
  {
   "cell_type": "code",
   "execution_count": 42,
   "id": "7c13445c-1ef1-46d9-9832-9c04ac8edb22",
   "metadata": {},
   "outputs": [
    {
     "data": {
      "text/plain": [
       "array([nan, 'SF', '2R', 'RU', 'QF', 'R16', 'GS'], dtype=object)"
      ]
     },
     "execution_count": 42,
     "metadata": {},
     "output_type": "execute_result"
    }
   ],
   "source": [
    "atelti_seasons_df['CL[3]'].unique()"
   ]
  },
  {
   "cell_type": "code",
   "execution_count": 43,
   "id": "5866eb2e-6372-4f8e-877b-72aaedb6d2f7",
   "metadata": {},
   "outputs": [],
   "source": [
    "## Runner Up"
   ]
  },
  {
   "cell_type": "code",
   "execution_count": 44,
   "id": "2a2c5a4d-5f8e-443c-bcb7-0ab3a78dfa76",
   "metadata": {},
   "outputs": [
    {
     "data": {
      "text/plain": [
       "array(['1973–74', '2013–14', '2015–16'], dtype=object)"
      ]
     },
     "execution_count": 44,
     "metadata": {},
     "output_type": "execute_result"
    }
   ],
   "source": [
    "ucl_postion = np.array(atelti_seasons_df[atelti_seasons_df['CL[3]']=='RU']['season'])\n",
    "ucl_postion"
   ]
  },
  {
   "cell_type": "code",
   "execution_count": 45,
   "id": "e36b3ef6-75e0-4ec4-9153-673315e79998",
   "metadata": {},
   "outputs": [],
   "source": [
    "## Semi Finals"
   ]
  },
  {
   "cell_type": "code",
   "execution_count": 46,
   "id": "8a3437c6-5be2-49ae-beef-22a7e3938305",
   "metadata": {},
   "outputs": [
    {
     "data": {
      "text/plain": [
       "array(['1958–59', '1970–71', '2016–17'], dtype=object)"
      ]
     },
     "execution_count": 46,
     "metadata": {},
     "output_type": "execute_result"
    }
   ],
   "source": [
    "ucl_postion = np.array(atelti_seasons_df[atelti_seasons_df['CL[3]']=='SF']['season'])\n",
    "ucl_postion"
   ]
  },
  {
   "cell_type": "code",
   "execution_count": 47,
   "id": "cffac196-4a95-4dfc-a80f-2932138eb149",
   "metadata": {},
   "outputs": [],
   "source": [
    "## Quarter Finals"
   ]
  },
  {
   "cell_type": "code",
   "execution_count": 48,
   "id": "3f0d5d5a-3300-403d-a40f-d1e003082759",
   "metadata": {},
   "outputs": [
    {
     "data": {
      "text/plain": [
       "array(['1977–78', '1996–97', '2014–15', '2019–20', '2021–22', '2023–24'],\n",
       "      dtype=object)"
      ]
     },
     "execution_count": 48,
     "metadata": {},
     "output_type": "execute_result"
    }
   ],
   "source": [
    "ucl_postion = np.array(atelti_seasons_df[atelti_seasons_df['CL[3]']=='QF']['season'])\n",
    "ucl_postion"
   ]
  },
  {
   "cell_type": "code",
   "execution_count": 49,
   "id": "01e76816-c87f-47dd-9d50-81342ba8b091",
   "metadata": {},
   "outputs": [],
   "source": [
    "## Round 16"
   ]
  },
  {
   "cell_type": "code",
   "execution_count": 50,
   "id": "acfcaaa1-f852-4fe7-8ef7-33a0924a5be6",
   "metadata": {},
   "outputs": [
    {
     "data": {
      "text/plain": [
       "array(['2008–09', '2018–19', '2020–21'], dtype=object)"
      ]
     },
     "execution_count": 50,
     "metadata": {},
     "output_type": "execute_result"
    }
   ],
   "source": [
    "ucl_postion = np.array(atelti_seasons_df[atelti_seasons_df['CL[3]']=='R16']['season'])\n",
    "ucl_postion"
   ]
  },
  {
   "cell_type": "code",
   "execution_count": 51,
   "id": "66428a8b-8001-4d28-a65a-fd15e7150a41",
   "metadata": {},
   "outputs": [],
   "source": [
    "## Group stage "
   ]
  },
  {
   "cell_type": "code",
   "execution_count": 52,
   "id": "95d50654-50af-4cb8-b514-563b82fdfacc",
   "metadata": {},
   "outputs": [
    {
     "data": {
      "text/plain": [
       "array(['2009–10', '2017–18', '2022–23'], dtype=object)"
      ]
     },
     "execution_count": 52,
     "metadata": {},
     "output_type": "execute_result"
    }
   ],
   "source": [
    "ucl_postion = np.array(atelti_seasons_df[atelti_seasons_df['CL[3]']=='GS']['season'])\n",
    "ucl_postion"
   ]
  },
  {
   "cell_type": "markdown",
   "id": "24c14e35-3c14-4ab9-bc9d-70e7e149e926",
   "metadata": {},
   "source": [
    "## Europe League"
   ]
  },
  {
   "cell_type": "code",
   "execution_count": 53,
   "id": "cf339942-324c-4492-bd94-a539c47d60e3",
   "metadata": {},
   "outputs": [
    {
     "data": {
      "text/plain": [
       "array([nan, '2R', 'SF', '1R', 'R16', 'R32', 'W', 'GS'], dtype=object)"
      ]
     },
     "execution_count": 53,
     "metadata": {},
     "output_type": "execute_result"
    }
   ],
   "source": [
    "atelti_seasons_df['UC[4]'].unique()"
   ]
  },
  {
   "cell_type": "code",
   "execution_count": 54,
   "id": "3c280b53-541c-424d-ba61-dbfa869a1f91",
   "metadata": {},
   "outputs": [],
   "source": [
    "## Winner "
   ]
  },
  {
   "cell_type": "code",
   "execution_count": 55,
   "id": "aa2954d1-96de-42d6-a27b-bf9683e92139",
   "metadata": {},
   "outputs": [
    {
     "data": {
      "text/plain": [
       "array(['2009–10', '2011–12', '2017–18'], dtype=object)"
      ]
     },
     "execution_count": 55,
     "metadata": {},
     "output_type": "execute_result"
    }
   ],
   "source": [
    "europe_league_postion = np.array(atelti_seasons_df[atelti_seasons_df['UC[4]']=='W']['season'])\n",
    "europe_league_postion"
   ]
  },
  {
   "cell_type": "code",
   "execution_count": 56,
   "id": "05896fff-d825-49e3-a2ed-8be36cbf943c",
   "metadata": {},
   "outputs": [],
   "source": [
    "## Semi final"
   ]
  },
  {
   "cell_type": "code",
   "execution_count": 57,
   "id": "ac2a5aa3-bcbd-45cb-8da6-e8b6de86a957",
   "metadata": {},
   "outputs": [
    {
     "data": {
      "text/plain": [
       "array(['1964–65', '1997–98', '1998–99'], dtype=object)"
      ]
     },
     "execution_count": 57,
     "metadata": {},
     "output_type": "execute_result"
    }
   ],
   "source": [
    "europe_league_postion = np.array(atelti_seasons_df[atelti_seasons_df['UC[4]']=='SF']['season'])\n",
    "europe_league_postion"
   ]
  },
  {
   "cell_type": "markdown",
   "id": "5b905827-6ead-4cbd-a1e7-4141a6df97ff",
   "metadata": {},
   "source": [
    "## Europe super cup "
   ]
  },
  {
   "cell_type": "code",
   "execution_count": 58,
   "id": "76a474d0-6432-4adf-b33b-9d348e08cd91",
   "metadata": {},
   "outputs": [
    {
     "data": {
      "text/plain": [
       "array(['2010–11', '2012–13', '2018–19'], dtype=object)"
      ]
     },
     "execution_count": 58,
     "metadata": {},
     "output_type": "execute_result"
    }
   ],
   "source": [
    "europe_super_postion = np.array(atelti_seasons_df[atelti_seasons_df['SC[5]']=='W']['season'])\n",
    "europe_super_postion"
   ]
  },
  {
   "cell_type": "markdown",
   "id": "551385bf-13ff-44d1-8eb7-a7566c66ab00",
   "metadata": {},
   "source": [
    "## UEFA Intertoto Cup"
   ]
  },
  {
   "cell_type": "code",
   "execution_count": 59,
   "id": "39803fcb-da3d-4fcf-8552-529f11e263eb",
   "metadata": {},
   "outputs": [],
   "source": [
    "## Winner"
   ]
  },
  {
   "cell_type": "code",
   "execution_count": 60,
   "id": "7b4e345a-d0f1-484f-bf37-35f14fd5076b",
   "metadata": {},
   "outputs": [
    {
     "data": {
      "text/plain": [
       "array(['2007–08'], dtype=object)"
      ]
     },
     "execution_count": 60,
     "metadata": {},
     "output_type": "execute_result"
    }
   ],
   "source": [
    "Intertoto_cup_postion = np.array(atelti_seasons_df[atelti_seasons_df['IC']=='W']['season'])\n",
    "Intertoto_cup_postion"
   ]
  },
  {
   "cell_type": "markdown",
   "id": "50842c25-d6b1-4bb1-b47f-5e74c80172f5",
   "metadata": {},
   "source": [
    "## UEFA Cup Winners' Cup"
   ]
  },
  {
   "cell_type": "code",
   "execution_count": 61,
   "id": "461e9c63-63ea-4270-8812-3a48d3bdb8de",
   "metadata": {},
   "outputs": [],
   "source": [
    "## Winner"
   ]
  },
  {
   "cell_type": "code",
   "execution_count": 62,
   "id": "c54915a4-59d5-4479-93bf-973a71fee90d",
   "metadata": {},
   "outputs": [
    {
     "data": {
      "text/plain": [
       "array(['1961–62'], dtype=object)"
      ]
     },
     "execution_count": 62,
     "metadata": {},
     "output_type": "execute_result"
    }
   ],
   "source": [
    "winners_cup_postion = np.array(atelti_seasons_df[atelti_seasons_df['CW']=='W']['season'])\n",
    "winners_cup_postion"
   ]
  },
  {
   "cell_type": "markdown",
   "id": "9f0662c1-3f73-4a2e-a2be-083954584c7a",
   "metadata": {},
   "source": [
    "## FIFA Club World Cup / Intercontinental Cup"
   ]
  },
  {
   "cell_type": "code",
   "execution_count": 63,
   "id": "526b70d2-b2cc-4647-b5e9-da1ca1f5264f",
   "metadata": {},
   "outputs": [
    {
     "data": {
      "text/plain": [
       "array(['1974–75'], dtype=object)"
      ]
     },
     "execution_count": 63,
     "metadata": {},
     "output_type": "execute_result"
    }
   ],
   "source": [
    "Intercontinental_cup_postion = np.array(atelti_seasons_df[atelti_seasons_df['CWC[6]']=='W']['season'])\n",
    "Intercontinental_cup_postion"
   ]
  },
  {
   "cell_type": "markdown",
   "id": "e39b06e8-59a9-4601-9651-0828253acc93",
   "metadata": {},
   "source": [
    "## Visualizing the previous statistics using Google looker Studio"
   ]
  },
  {
   "cell_type": "code",
   "execution_count": 64,
   "id": "4b33e0fe-f82e-4b23-84c4-fbb9fc473c97",
   "metadata": {},
   "outputs": [
    {
     "data": {
      "image/png": "[encoded data removed]",
      "text/plain": [
       "<Figure size 1000x900 with 1 Axes>"
      ]
     },
     "metadata": {},
     "output_type": "display_data"
    }
   ],
   "source": [
    "img1 = mpimg.imread(r\"C:\\Users\\Blu-Ray\\Deigo Simeone Impact on Atleti\\images\\overview_about_atleti_titles.png\")\n",
    "\n",
    "fig, ax = plt.subplots(figsize=(10, 9))\n",
    "\n",
    "# Displaying the image\n",
    "ax.imshow(img1)\n",
    "ax.axis(\"off\")  # Hide axes\n",
    "\n",
    "\n",
    "ax.set_position([2, 0.1, 1, 0.55])  \n",
    "# [left, bottom, width, height]\n",
    "plt.show()\n"
   ]
  },
  {
   "cell_type": "markdown",
   "id": "8dab6e90-e6f8-468b-83ff-25570ef4110e",
   "metadata": {},
   "source": [
    "## Splitting Data into 2 Partitions\n",
    "- Dataframe includes Atletico Madrid Statistics **Before** Hiring Diego Simeone\n",
    "- Dataframe includes Atletico Madrid Statistics **After** Hiring Diego Simeone"
   ]
  },
  {
   "cell_type": "code",
   "execution_count": 65,
   "id": "45b03ead-1264-4cd4-b108-993111a50bdd",
   "metadata": {},
   "outputs": [],
   "source": [
    "atelti_statistics_before_simone_df = atelti_seasons_df.iloc[:80]\n",
    "atelti_statistics_after_simone_df = atelti_seasons_df.iloc[80:]"
   ]
  },
  {
   "cell_type": "code",
   "execution_count": 66,
   "id": "0f6d5c7a-8737-414e-89ac-08f5dc01ac48",
   "metadata": {},
   "outputs": [],
   "source": [
    "## Atlet with simone"
   ]
  },
  {
   "cell_type": "code",
   "execution_count": 67,
   "id": "a76a9812-29c9-41b1-b131-f3b218bdb3dd",
   "metadata": {},
   "outputs": [
    {
     "data": {
      "text/html": [
       "<div>\n",
       "<style scoped>\n",
       "    .dataframe tbody tr th:only-of-type {\n",
       "        vertical-align: middle;\n",
       "    }\n",
       "\n",
       "    .dataframe tbody tr th {\n",
       "        vertical-align: top;\n",
       "    }\n",
       "\n",
       "    .dataframe thead th {\n",
       "        text-align: right;\n",
       "    }\n",
       "</style>\n",
       "<table border=\"1\" class=\"dataframe\">\n",
       "  <thead>\n",
       "    <tr style=\"text-align: right;\">\n",
       "      <th></th>\n",
       "      <th>Division</th>\n",
       "      <th>Pld</th>\n",
       "      <th>W</th>\n",
       "      <th>D</th>\n",
       "      <th>L</th>\n",
       "      <th>GF</th>\n",
       "      <th>GA</th>\n",
       "      <th>Pts</th>\n",
       "      <th>Pos</th>\n",
       "      <th>Cup[1]</th>\n",
       "      <th>...</th>\n",
       "      <th>LC</th>\n",
       "      <th>CL[3]</th>\n",
       "      <th>UC[4]</th>\n",
       "      <th>CW</th>\n",
       "      <th>IC</th>\n",
       "      <th>SC[5]</th>\n",
       "      <th>CWC[6]</th>\n",
       "      <th>Player(s)</th>\n",
       "      <th>Goals</th>\n",
       "      <th>season</th>\n",
       "    </tr>\n",
       "  </thead>\n",
       "  <tbody>\n",
       "    <tr>\n",
       "      <th>80</th>\n",
       "      <td>La Liga</td>\n",
       "      <td>38</td>\n",
       "      <td>15</td>\n",
       "      <td>11</td>\n",
       "      <td>12</td>\n",
       "      <td>53</td>\n",
       "      <td>46</td>\n",
       "      <td>56</td>\n",
       "      <td>5th</td>\n",
       "      <td>R32</td>\n",
       "      <td>...</td>\n",
       "      <td>NaN</td>\n",
       "      <td>NaN</td>\n",
       "      <td>W</td>\n",
       "      <td>NaN</td>\n",
       "      <td>NaN</td>\n",
       "      <td>NaN</td>\n",
       "      <td>NaN</td>\n",
       "      <td>Radamel Falcao</td>\n",
       "      <td>36</td>\n",
       "      <td>2011–12</td>\n",
       "    </tr>\n",
       "    <tr>\n",
       "      <th>81</th>\n",
       "      <td>La Liga</td>\n",
       "      <td>38</td>\n",
       "      <td>23</td>\n",
       "      <td>7</td>\n",
       "      <td>8</td>\n",
       "      <td>65</td>\n",
       "      <td>31</td>\n",
       "      <td>76</td>\n",
       "      <td>3rd</td>\n",
       "      <td>W</td>\n",
       "      <td>...</td>\n",
       "      <td>NaN</td>\n",
       "      <td>NaN</td>\n",
       "      <td>R32</td>\n",
       "      <td>NaN</td>\n",
       "      <td>NaN</td>\n",
       "      <td>W</td>\n",
       "      <td>NaN</td>\n",
       "      <td>Radamel Falcao</td>\n",
       "      <td>34</td>\n",
       "      <td>2012–13</td>\n",
       "    </tr>\n",
       "    <tr>\n",
       "      <th>82</th>\n",
       "      <td>La Liga</td>\n",
       "      <td>38</td>\n",
       "      <td>28</td>\n",
       "      <td>6</td>\n",
       "      <td>4</td>\n",
       "      <td>77</td>\n",
       "      <td>26</td>\n",
       "      <td>90</td>\n",
       "      <td>W</td>\n",
       "      <td>SF</td>\n",
       "      <td>...</td>\n",
       "      <td>NaN</td>\n",
       "      <td>RU</td>\n",
       "      <td>NaN</td>\n",
       "      <td>NaN</td>\n",
       "      <td>NaN</td>\n",
       "      <td>NaN</td>\n",
       "      <td>NaN</td>\n",
       "      <td>Diego Costa</td>\n",
       "      <td>36</td>\n",
       "      <td>2013–14</td>\n",
       "    </tr>\n",
       "    <tr>\n",
       "      <th>83</th>\n",
       "      <td>La Liga</td>\n",
       "      <td>38</td>\n",
       "      <td>23</td>\n",
       "      <td>9</td>\n",
       "      <td>6</td>\n",
       "      <td>67</td>\n",
       "      <td>29</td>\n",
       "      <td>78</td>\n",
       "      <td>3rd</td>\n",
       "      <td>QF</td>\n",
       "      <td>...</td>\n",
       "      <td>NaN</td>\n",
       "      <td>QF</td>\n",
       "      <td>NaN</td>\n",
       "      <td>NaN</td>\n",
       "      <td>NaN</td>\n",
       "      <td>NaN</td>\n",
       "      <td>NaN</td>\n",
       "      <td>Antoine Griezmann</td>\n",
       "      <td>25</td>\n",
       "      <td>2014–15</td>\n",
       "    </tr>\n",
       "    <tr>\n",
       "      <th>84</th>\n",
       "      <td>La Liga</td>\n",
       "      <td>38</td>\n",
       "      <td>28</td>\n",
       "      <td>4</td>\n",
       "      <td>6</td>\n",
       "      <td>63</td>\n",
       "      <td>18</td>\n",
       "      <td>88</td>\n",
       "      <td>3rd</td>\n",
       "      <td>QF</td>\n",
       "      <td>...</td>\n",
       "      <td>NaN</td>\n",
       "      <td>RU</td>\n",
       "      <td>NaN</td>\n",
       "      <td>NaN</td>\n",
       "      <td>NaN</td>\n",
       "      <td>NaN</td>\n",
       "      <td>NaN</td>\n",
       "      <td>Antoine Griezmann</td>\n",
       "      <td>32</td>\n",
       "      <td>2015–16</td>\n",
       "    </tr>\n",
       "    <tr>\n",
       "      <th>85</th>\n",
       "      <td>La Liga</td>\n",
       "      <td>38</td>\n",
       "      <td>23</td>\n",
       "      <td>9</td>\n",
       "      <td>6</td>\n",
       "      <td>70</td>\n",
       "      <td>27</td>\n",
       "      <td>78</td>\n",
       "      <td>3rd</td>\n",
       "      <td>SF</td>\n",
       "      <td>...</td>\n",
       "      <td>NaN</td>\n",
       "      <td>SF</td>\n",
       "      <td>NaN</td>\n",
       "      <td>NaN</td>\n",
       "      <td>NaN</td>\n",
       "      <td>NaN</td>\n",
       "      <td>NaN</td>\n",
       "      <td>Antoine Griezmann</td>\n",
       "      <td>26</td>\n",
       "      <td>2016–17</td>\n",
       "    </tr>\n",
       "    <tr>\n",
       "      <th>86</th>\n",
       "      <td>La Liga</td>\n",
       "      <td>38</td>\n",
       "      <td>23</td>\n",
       "      <td>10</td>\n",
       "      <td>5</td>\n",
       "      <td>58</td>\n",
       "      <td>22</td>\n",
       "      <td>79</td>\n",
       "      <td>2nd</td>\n",
       "      <td>QF</td>\n",
       "      <td>...</td>\n",
       "      <td>NaN</td>\n",
       "      <td>GS</td>\n",
       "      <td>W</td>\n",
       "      <td>NaN</td>\n",
       "      <td>NaN</td>\n",
       "      <td>NaN</td>\n",
       "      <td>NaN</td>\n",
       "      <td>Antoine Griezmann</td>\n",
       "      <td>29</td>\n",
       "      <td>2017–18</td>\n",
       "    </tr>\n",
       "    <tr>\n",
       "      <th>87</th>\n",
       "      <td>La Liga</td>\n",
       "      <td>38</td>\n",
       "      <td>22</td>\n",
       "      <td>10</td>\n",
       "      <td>6</td>\n",
       "      <td>55</td>\n",
       "      <td>29</td>\n",
       "      <td>76</td>\n",
       "      <td>2nd</td>\n",
       "      <td>R16</td>\n",
       "      <td>...</td>\n",
       "      <td>NaN</td>\n",
       "      <td>R16</td>\n",
       "      <td>NaN</td>\n",
       "      <td>NaN</td>\n",
       "      <td>NaN</td>\n",
       "      <td>W</td>\n",
       "      <td>NaN</td>\n",
       "      <td>Antoine Griezmann</td>\n",
       "      <td>21</td>\n",
       "      <td>2018–19</td>\n",
       "    </tr>\n",
       "    <tr>\n",
       "      <th>88</th>\n",
       "      <td>La Liga</td>\n",
       "      <td>38</td>\n",
       "      <td>18</td>\n",
       "      <td>16</td>\n",
       "      <td>4</td>\n",
       "      <td>51</td>\n",
       "      <td>27</td>\n",
       "      <td>70</td>\n",
       "      <td>3rd</td>\n",
       "      <td>R32</td>\n",
       "      <td>...</td>\n",
       "      <td>NaN</td>\n",
       "      <td>QF</td>\n",
       "      <td>NaN</td>\n",
       "      <td>NaN</td>\n",
       "      <td>NaN</td>\n",
       "      <td>NaN</td>\n",
       "      <td>NaN</td>\n",
       "      <td>Álvaro Morata</td>\n",
       "      <td>16</td>\n",
       "      <td>2019–20</td>\n",
       "    </tr>\n",
       "    <tr>\n",
       "      <th>89</th>\n",
       "      <td>La Liga</td>\n",
       "      <td>38</td>\n",
       "      <td>26</td>\n",
       "      <td>8</td>\n",
       "      <td>4</td>\n",
       "      <td>67</td>\n",
       "      <td>25</td>\n",
       "      <td>86</td>\n",
       "      <td>W</td>\n",
       "      <td>2R</td>\n",
       "      <td>...</td>\n",
       "      <td>NaN</td>\n",
       "      <td>R16</td>\n",
       "      <td>NaN</td>\n",
       "      <td>NaN</td>\n",
       "      <td>NaN</td>\n",
       "      <td>NaN</td>\n",
       "      <td>NaN</td>\n",
       "      <td>Luis Suárez</td>\n",
       "      <td>21</td>\n",
       "      <td>2020–21</td>\n",
       "    </tr>\n",
       "    <tr>\n",
       "      <th>90</th>\n",
       "      <td>La Liga</td>\n",
       "      <td>38</td>\n",
       "      <td>21</td>\n",
       "      <td>8</td>\n",
       "      <td>9</td>\n",
       "      <td>65</td>\n",
       "      <td>43</td>\n",
       "      <td>71</td>\n",
       "      <td>3rd</td>\n",
       "      <td>R16</td>\n",
       "      <td>...</td>\n",
       "      <td>NaN</td>\n",
       "      <td>QF</td>\n",
       "      <td>NaN</td>\n",
       "      <td>NaN</td>\n",
       "      <td>NaN</td>\n",
       "      <td>NaN</td>\n",
       "      <td>NaN</td>\n",
       "      <td>Ángel Correa Luis Suárez</td>\n",
       "      <td>13</td>\n",
       "      <td>2021–22</td>\n",
       "    </tr>\n",
       "    <tr>\n",
       "      <th>91</th>\n",
       "      <td>La Liga</td>\n",
       "      <td>38</td>\n",
       "      <td>23</td>\n",
       "      <td>8</td>\n",
       "      <td>7</td>\n",
       "      <td>70</td>\n",
       "      <td>33</td>\n",
       "      <td>77</td>\n",
       "      <td>3rd</td>\n",
       "      <td>QF</td>\n",
       "      <td>...</td>\n",
       "      <td>NaN</td>\n",
       "      <td>GS</td>\n",
       "      <td>NaN</td>\n",
       "      <td>NaN</td>\n",
       "      <td>NaN</td>\n",
       "      <td>NaN</td>\n",
       "      <td>NaN</td>\n",
       "      <td>Antoine Griezmann</td>\n",
       "      <td>16</td>\n",
       "      <td>2022–23</td>\n",
       "    </tr>\n",
       "    <tr>\n",
       "      <th>92</th>\n",
       "      <td>La Liga</td>\n",
       "      <td>38</td>\n",
       "      <td>24</td>\n",
       "      <td>4</td>\n",
       "      <td>10</td>\n",
       "      <td>70</td>\n",
       "      <td>43</td>\n",
       "      <td>76</td>\n",
       "      <td>4th</td>\n",
       "      <td>SF</td>\n",
       "      <td>...</td>\n",
       "      <td>NaN</td>\n",
       "      <td>QF</td>\n",
       "      <td>NaN</td>\n",
       "      <td>NaN</td>\n",
       "      <td>NaN</td>\n",
       "      <td>NaN</td>\n",
       "      <td>NaN</td>\n",
       "      <td>Antoine Griezmann</td>\n",
       "      <td>24</td>\n",
       "      <td>2023–24</td>\n",
       "    </tr>\n",
       "  </tbody>\n",
       "</table>\n",
       "<p>13 rows × 21 columns</p>\n",
       "</div>"
      ],
      "text/plain": [
       "   Division  Pld   W   D   L  GF  GA  Pts  Pos Cup[1]  ...   LC CL[3] UC[4]  \\\n",
       "80  La Liga   38  15  11  12  53  46   56  5th    R32  ...  NaN   NaN     W   \n",
       "81  La Liga   38  23   7   8  65  31   76  3rd      W  ...  NaN   NaN   R32   \n",
       "82  La Liga   38  28   6   4  77  26   90    W     SF  ...  NaN    RU   NaN   \n",
       "83  La Liga   38  23   9   6  67  29   78  3rd     QF  ...  NaN    QF   NaN   \n",
       "84  La Liga   38  28   4   6  63  18   88  3rd     QF  ...  NaN    RU   NaN   \n",
       "85  La Liga   38  23   9   6  70  27   78  3rd     SF  ...  NaN    SF   NaN   \n",
       "86  La Liga   38  23  10   5  58  22   79  2nd     QF  ...  NaN    GS     W   \n",
       "87  La Liga   38  22  10   6  55  29   76  2nd    R16  ...  NaN   R16   NaN   \n",
       "88  La Liga   38  18  16   4  51  27   70  3rd    R32  ...  NaN    QF   NaN   \n",
       "89  La Liga   38  26   8   4  67  25   86    W     2R  ...  NaN   R16   NaN   \n",
       "90  La Liga   38  21   8   9  65  43   71  3rd    R16  ...  NaN    QF   NaN   \n",
       "91  La Liga   38  23   8   7  70  33   77  3rd     QF  ...  NaN    GS   NaN   \n",
       "92  La Liga   38  24   4  10  70  43   76  4th     SF  ...  NaN    QF   NaN   \n",
       "\n",
       "     CW   IC SC[5] CWC[6]                  Player(s) Goals   season  \n",
       "80  NaN  NaN   NaN    NaN             Radamel Falcao    36  2011–12  \n",
       "81  NaN  NaN     W    NaN             Radamel Falcao    34  2012–13  \n",
       "82  NaN  NaN   NaN    NaN                Diego Costa    36  2013–14  \n",
       "83  NaN  NaN   NaN    NaN          Antoine Griezmann    25  2014–15  \n",
       "84  NaN  NaN   NaN    NaN          Antoine Griezmann    32  2015–16  \n",
       "85  NaN  NaN   NaN    NaN          Antoine Griezmann    26  2016–17  \n",
       "86  NaN  NaN   NaN    NaN          Antoine Griezmann    29  2017–18  \n",
       "87  NaN  NaN     W    NaN          Antoine Griezmann    21  2018–19  \n",
       "88  NaN  NaN   NaN    NaN              Álvaro Morata    16  2019–20  \n",
       "89  NaN  NaN   NaN    NaN                Luis Suárez    21  2020–21  \n",
       "90  NaN  NaN   NaN    NaN   Ángel Correa Luis Suárez    13  2021–22  \n",
       "91  NaN  NaN   NaN    NaN          Antoine Griezmann    16  2022–23  \n",
       "92  NaN  NaN   NaN    NaN          Antoine Griezmann    24  2023–24  \n",
       "\n",
       "[13 rows x 21 columns]"
      ]
     },
     "execution_count": 67,
     "metadata": {},
     "output_type": "execute_result"
    }
   ],
   "source": [
    "atelti_statistics_after_simone_df.head(13)"
   ]
  },
  {
   "cell_type": "markdown",
   "id": "ee978c85-770f-4535-8729-877986e8e2ea",
   "metadata": {},
   "source": [
    "## Applying Descriptive Analysis "
   ]
  },
  {
   "cell_type": "code",
   "execution_count": 68,
   "id": "7ac6cbf4-7a9f-4fc9-81d2-c8bdcc56e2d8",
   "metadata": {},
   "outputs": [],
   "source": [
    "start = atelti_statistics_before_simone_df['season'].iloc[0]\n",
    "end = atelti_statistics_before_simone_df['season'].iloc[-1]"
   ]
  },
  {
   "cell_type": "code",
   "execution_count": 69,
   "id": "2a14128e-1106-4572-9eb0-ca1ef8f97aa1",
   "metadata": {},
   "outputs": [],
   "source": [
    "Total_duration = int(end[:4])-int(start[:4])"
   ]
  },
  {
   "cell_type": "code",
   "execution_count": 70,
   "id": "897e513a-8c6c-4491-8920-902258ae2c43",
   "metadata": {},
   "outputs": [
    {
     "name": "stdout",
     "output_type": "stream",
     "text": [
      "The Statistics before Hiring Simone AS a Manger is from season 1928–29 To 2010–11 Which is about 82 Years\n"
     ]
    }
   ],
   "source": [
    "print(\"The Statistics before Hiring Simone AS a Manger is from season\", start,\"To\", end, \"Which is about\", Total_duration, \"Years\")"
   ]
  },
  {
   "cell_type": "markdown",
   "id": "72a51277-6d86-47fc-aa44-d9fc64130167",
   "metadata": {},
   "source": [
    "## Statistics before Hiring Simone AS a Manger "
   ]
  },
  {
   "cell_type": "markdown",
   "id": "79a4be61-c7b7-4412-9950-afe0dea8c3da",
   "metadata": {},
   "source": [
    "## Laliga"
   ]
  },
  {
   "cell_type": "code",
   "execution_count": 71,
   "id": "8f08be4f-c7cf-4c34-9d8a-45318fcda5f6",
   "metadata": {},
   "outputs": [
    {
     "data": {
      "text/plain": [
       "Division\n",
       "La Liga             74\n",
       "Segunda División     6\n",
       "Name: count, dtype: int64"
      ]
     },
     "execution_count": 71,
     "metadata": {},
     "output_type": "execute_result"
    }
   ],
   "source": [
    "atelti_statistics_before_simone_df['Division'].value_counts()"
   ]
  },
  {
   "cell_type": "code",
   "execution_count": 72,
   "id": "b5519044-d3cc-4bf0-a65c-402db2d6d8f4",
   "metadata": {},
   "outputs": [],
   "source": [
    "## Total Matches that Atleti Played From 1928 to 2010 "
   ]
  },
  {
   "cell_type": "code",
   "execution_count": 73,
   "id": "e7ba971f-3eb8-4070-b946-02848fe40724",
   "metadata": {},
   "outputs": [
    {
     "name": "stdout",
     "output_type": "stream",
     "text": [
      "Total Matches that Atleti Played From 1928 to 2010  :  2540\n"
     ]
    }
   ],
   "source": [
    "atelti_statistics_before_simone_df['Pld'].sum()\n",
    "print('Total Matches that Atleti Played From 1928 to 2010  : ', atelti_statistics_before_simone_df['Pld'].sum())"
   ]
  },
  {
   "cell_type": "code",
   "execution_count": 74,
   "id": "15f296f6-63b0-4366-8e88-ee8c65b29144",
   "metadata": {},
   "outputs": [],
   "source": [
    "## Total Matches that Atleti Played From 1928 to 2010 in LA LIGA"
   ]
  },
  {
   "cell_type": "code",
   "execution_count": 75,
   "id": "2fa188a8-e73b-41dc-9c42-ed2d7db869cd",
   "metadata": {},
   "outputs": [
    {
     "name": "stdout",
     "output_type": "stream",
     "text": [
      "Total Matches that Atleti Played From 1928 to 2010 in LA LIGA :  2386\n"
     ]
    }
   ],
   "source": [
    "atelet_in_laliga_before_simone = atelti_statistics_before_simone_df[atelti_statistics_before_simone_df['Division']=='La Liga']\n",
    "atelet_in_laliga_before_simone['Pld'].sum()\n",
    "print('Total Matches that Atleti Played From 1928 to 2010 in LA LIGA : ', atelet_in_laliga_before_simone['Pld'].sum())"
   ]
  },
  {
   "cell_type": "code",
   "execution_count": 76,
   "id": "dd790535-2781-4fea-9346-3b41f55bf5a9",
   "metadata": {},
   "outputs": [],
   "source": [
    "## Total wins, draws, loses for Atleti Before Deigo Simeone"
   ]
  },
  {
   "cell_type": "code",
   "execution_count": 77,
   "id": "61887e31-0784-4c86-8c02-fe960ae428db",
   "metadata": {},
   "outputs": [],
   "source": [
    "total_wins, total_draw, total_loses = atelet_in_laliga_before_simone['W'].sum(), atelet_in_laliga_before_simone['D'].sum(), atelet_in_laliga_before_simone['L'].sum()"
   ]
  },
  {
   "cell_type": "code",
   "execution_count": 78,
   "id": "db43f5d0-8893-431f-8a03-b2af902deeba",
   "metadata": {},
   "outputs": [],
   "source": [
    "labels = ['Win', ' Draw', 'Lose'] \n",
    "data = [total_wins, total_draw, total_loses]"
   ]
  },
  {
   "cell_type": "code",
   "execution_count": 79,
   "id": "b2d4584d-473d-47e5-8421-8882b68e3424",
   "metadata": {},
   "outputs": [],
   "source": [
    "laliga_WDL_statistcs_before_simone = { '[Wan, Draw, Lose]' : labels , 'Total' : data}\n",
    "laliga_WDL_statistcs_before_simone_df = pd.DataFrame(laliga_WDL_statistcs_before_simone)"
   ]
  },
  {
   "cell_type": "code",
   "execution_count": 80,
   "id": "39203b73-59b6-40e0-b3d9-8457b0ddab5b",
   "metadata": {},
   "outputs": [
    {
     "data": {
      "text/html": [
       "<div>\n",
       "<style scoped>\n",
       "    .dataframe tbody tr th:only-of-type {\n",
       "        vertical-align: middle;\n",
       "    }\n",
       "\n",
       "    .dataframe tbody tr th {\n",
       "        vertical-align: top;\n",
       "    }\n",
       "\n",
       "    .dataframe thead th {\n",
       "        text-align: right;\n",
       "    }\n",
       "</style>\n",
       "<table border=\"1\" class=\"dataframe\">\n",
       "  <thead>\n",
       "    <tr style=\"text-align: right;\">\n",
       "      <th></th>\n",
       "      <th>[Wan, Draw, Lose]</th>\n",
       "      <th>Total</th>\n",
       "    </tr>\n",
       "  </thead>\n",
       "  <tbody>\n",
       "    <tr>\n",
       "      <th>0</th>\n",
       "      <td>Win</td>\n",
       "      <td>1101</td>\n",
       "    </tr>\n",
       "    <tr>\n",
       "      <th>1</th>\n",
       "      <td>Draw</td>\n",
       "      <td>552</td>\n",
       "    </tr>\n",
       "    <tr>\n",
       "      <th>2</th>\n",
       "      <td>Lose</td>\n",
       "      <td>733</td>\n",
       "    </tr>\n",
       "  </tbody>\n",
       "</table>\n",
       "</div>"
      ],
      "text/plain": [
       "  [Wan, Draw, Lose]  Total\n",
       "0               Win   1101\n",
       "1              Draw    552\n",
       "2              Lose    733"
      ]
     },
     "execution_count": 80,
     "metadata": {},
     "output_type": "execute_result"
    }
   ],
   "source": [
    "laliga_WDL_statistcs_before_simone_df"
   ]
  },
  {
   "cell_type": "code",
   "execution_count": 81,
   "id": "5b7ac4fc-18a0-4d87-9ef8-13aa8fed7e4a",
   "metadata": {},
   "outputs": [],
   "source": [
    "upload_data(laliga_WDL_statistcs_before_simone_df, r'processed data/laliga_WDL_statistcs_before_simone_df.csv')"
   ]
  },
  {
   "cell_type": "code",
   "execution_count": 82,
   "id": "feac48a1-c70f-42ce-a45e-a18816a7a571",
   "metadata": {},
   "outputs": [],
   "source": [
    "## Goals Statistics Before Simeone "
   ]
  },
  {
   "cell_type": "code",
   "execution_count": 83,
   "id": "7910f2ea-62a9-40fe-b44d-da610a54b033",
   "metadata": {},
   "outputs": [],
   "source": [
    "total_goals_team_score, total_goal_team_received = atelet_in_laliga_before_simone['GF'].sum(), atelet_in_laliga_before_simone['GA'].sum()"
   ]
  },
  {
   "cell_type": "code",
   "execution_count": 84,
   "id": "4b94cf91-dff8-4331-9306-b3ae7ce76db2",
   "metadata": {},
   "outputs": [],
   "source": [
    "avg_goals_team_score, avg_goal_team_received = atelet_in_laliga_before_simone['GF'].mean(), atelet_in_laliga_before_simone['GA'].mean()"
   ]
  },
  {
   "cell_type": "code",
   "execution_count": 85,
   "id": "c6033f68-e082-4aa6-a7de-c1bd587b1037",
   "metadata": {},
   "outputs": [],
   "source": [
    "goals_stats_before_simone_in_laliga = {\n",
    "                                       \"Total Goals Atletico Score\"        : total_goals_team_score,\n",
    "                                       \"Total Goals Atletico Received\"     : total_goal_team_received,\n",
    "                                       \"AVG Goals Atletico Score/Season\"   : round(avg_goals_team_score,2), \n",
    "                                       \"AVG Goals Atletico Receive/Season\" : round(avg_goal_team_received,2)\n",
    "                                      }"
   ]
  },
  {
   "cell_type": "code",
   "execution_count": 86,
   "id": "5ee9d6c4-0359-4fc5-9dde-e8d43bd1d9a9",
   "metadata": {},
   "outputs": [],
   "source": [
    "goals_stats_before_simone_in_laliga_df = pd.DataFrame([goals_stats_before_simone_in_laliga])\n",
    "score_recive_difference = goals_stats_before_simone_in_laliga_df['Total Goals Atletico Score'] - goals_stats_before_simone_in_laliga_df['Total Goals Atletico Received']\n",
    "goals_stats_before_simone_in_laliga_df['[Score Goals-Received Goals]'] = score_recive_difference"
   ]
  },
  {
   "cell_type": "code",
   "execution_count": 87,
   "id": "e7285512-dde1-4ff8-82a3-d20f398d7add",
   "metadata": {},
   "outputs": [
    {
     "data": {
      "text/html": [
       "<div>\n",
       "<style scoped>\n",
       "    .dataframe tbody tr th:only-of-type {\n",
       "        vertical-align: middle;\n",
       "    }\n",
       "\n",
       "    .dataframe tbody tr th {\n",
       "        vertical-align: top;\n",
       "    }\n",
       "\n",
       "    .dataframe thead th {\n",
       "        text-align: right;\n",
       "    }\n",
       "</style>\n",
       "<table border=\"1\" class=\"dataframe\">\n",
       "  <thead>\n",
       "    <tr style=\"text-align: right;\">\n",
       "      <th></th>\n",
       "      <th>Total Goals Atletico Score</th>\n",
       "      <th>Total Goals Atletico Received</th>\n",
       "      <th>AVG Goals Atletico Score/Season</th>\n",
       "      <th>AVG Goals Atletico Receive/Season</th>\n",
       "      <th>[Score Goals-Received Goals]</th>\n",
       "    </tr>\n",
       "  </thead>\n",
       "  <tbody>\n",
       "    <tr>\n",
       "      <th>0</th>\n",
       "      <td>4152</td>\n",
       "      <td>3125</td>\n",
       "      <td>56.11</td>\n",
       "      <td>42.23</td>\n",
       "      <td>1027</td>\n",
       "    </tr>\n",
       "  </tbody>\n",
       "</table>\n",
       "</div>"
      ],
      "text/plain": [
       "   Total Goals Atletico Score  Total Goals Atletico Received  \\\n",
       "0                        4152                           3125   \n",
       "\n",
       "   AVG Goals Atletico Score/Season  AVG Goals Atletico Receive/Season  \\\n",
       "0                            56.11                              42.23   \n",
       "\n",
       "   [Score Goals-Received Goals]  \n",
       "0                          1027  "
      ]
     },
     "execution_count": 87,
     "metadata": {},
     "output_type": "execute_result"
    }
   ],
   "source": [
    "goals_stats_before_simone_in_laliga_df"
   ]
  },
  {
   "cell_type": "code",
   "execution_count": 88,
   "id": "84fd1819-5d6d-4280-8a1a-42d3a8cf2e02",
   "metadata": {},
   "outputs": [],
   "source": [
    "upload_data(goals_stats_before_simone_in_laliga_df, r'processed data/goals_stats_before_simone_in_laliga_df.csv')"
   ]
  },
  {
   "cell_type": "code",
   "execution_count": 89,
   "id": "839cab82-26e2-4aaa-ab45-e5f0d3b208ba",
   "metadata": {},
   "outputs": [],
   "source": [
    "## Atleti Postions before deigo simone"
   ]
  },
  {
   "cell_type": "code",
   "execution_count": 90,
   "id": "70261727-27a5-4897-a034-839a96411a2d",
   "metadata": {},
   "outputs": [
    {
     "data": {
      "text/html": [
       "<div>\n",
       "<style scoped>\n",
       "    .dataframe tbody tr th:only-of-type {\n",
       "        vertical-align: middle;\n",
       "    }\n",
       "\n",
       "    .dataframe tbody tr th {\n",
       "        vertical-align: top;\n",
       "    }\n",
       "\n",
       "    .dataframe thead th {\n",
       "        text-align: right;\n",
       "    }\n",
       "</style>\n",
       "<table border=\"1\" class=\"dataframe\">\n",
       "  <thead>\n",
       "    <tr style=\"text-align: right;\">\n",
       "      <th></th>\n",
       "      <th>postion</th>\n",
       "      <th>counts</th>\n",
       "    </tr>\n",
       "  </thead>\n",
       "  <tbody>\n",
       "    <tr>\n",
       "      <th>0</th>\n",
       "      <td>3rd</td>\n",
       "      <td>13</td>\n",
       "    </tr>\n",
       "    <tr>\n",
       "      <th>1</th>\n",
       "      <td>W</td>\n",
       "      <td>9</td>\n",
       "    </tr>\n",
       "    <tr>\n",
       "      <th>2</th>\n",
       "      <td>7th</td>\n",
       "      <td>8</td>\n",
       "    </tr>\n",
       "    <tr>\n",
       "      <th>3</th>\n",
       "      <td>2nd</td>\n",
       "      <td>8</td>\n",
       "    </tr>\n",
       "    <tr>\n",
       "      <th>4</th>\n",
       "      <td>4th</td>\n",
       "      <td>8</td>\n",
       "    </tr>\n",
       "    <tr>\n",
       "      <th>5</th>\n",
       "      <td>6th</td>\n",
       "      <td>6</td>\n",
       "    </tr>\n",
       "    <tr>\n",
       "      <th>6</th>\n",
       "      <td>5th</td>\n",
       "      <td>6</td>\n",
       "    </tr>\n",
       "    <tr>\n",
       "      <th>7</th>\n",
       "      <td>8th</td>\n",
       "      <td>4</td>\n",
       "    </tr>\n",
       "    <tr>\n",
       "      <th>8</th>\n",
       "      <td>12th</td>\n",
       "      <td>3</td>\n",
       "    </tr>\n",
       "    <tr>\n",
       "      <th>9</th>\n",
       "      <td>10th</td>\n",
       "      <td>2</td>\n",
       "    </tr>\n",
       "    <tr>\n",
       "      <th>10</th>\n",
       "      <td>11th</td>\n",
       "      <td>2</td>\n",
       "    </tr>\n",
       "    <tr>\n",
       "      <th>11</th>\n",
       "      <td>9th</td>\n",
       "      <td>2</td>\n",
       "    </tr>\n",
       "    <tr>\n",
       "      <th>12</th>\n",
       "      <td>14th</td>\n",
       "      <td>1</td>\n",
       "    </tr>\n",
       "    <tr>\n",
       "      <th>13</th>\n",
       "      <td>13th</td>\n",
       "      <td>1</td>\n",
       "    </tr>\n",
       "    <tr>\n",
       "      <th>14</th>\n",
       "      <td>19th</td>\n",
       "      <td>1</td>\n",
       "    </tr>\n",
       "  </tbody>\n",
       "</table>\n",
       "</div>"
      ],
      "text/plain": [
       "   postion  counts\n",
       "0      3rd      13\n",
       "1        W       9\n",
       "2      7th       8\n",
       "3      2nd       8\n",
       "4      4th       8\n",
       "5      6th       6\n",
       "6      5th       6\n",
       "7      8th       4\n",
       "8     12th       3\n",
       "9     10th       2\n",
       "10    11th       2\n",
       "11     9th       2\n",
       "12    14th       1\n",
       "13    13th       1\n",
       "14    19th       1"
      ]
     },
     "execution_count": 90,
     "metadata": {},
     "output_type": "execute_result"
    }
   ],
   "source": [
    "atelti_postions_in_laliga_before_simone = atelet_in_laliga_before_simone['Pos'].value_counts()\n",
    "atleti_postions_before_simone = convert_series_to_df(atelti_postions_in_laliga_before_simone, \"postion\", \"counts\")\n",
    "atleti_postions_before_simone"
   ]
  },
  {
   "cell_type": "code",
   "execution_count": 91,
   "id": "7b104701-3f86-4928-be86-f320ef7f6d75",
   "metadata": {},
   "outputs": [],
   "source": [
    "upload_data(atleti_postions_before_simone, r'processed data/atleti_postions_before_simone_laliga.csv')"
   ]
  },
  {
   "cell_type": "code",
   "execution_count": 92,
   "id": "6deea35a-284a-4e83-8fa3-ed5559850bd3",
   "metadata": {},
   "outputs": [],
   "source": [
    "## Champions League "
   ]
  },
  {
   "cell_type": "code",
   "execution_count": 93,
   "id": "09de36aa-e667-4d4d-8d49-a02747f3095f",
   "metadata": {},
   "outputs": [],
   "source": [
    "atleti_in_ucl_before_simone_df = remove_empty(atelet_in_laliga_before_simone['CL[3]'].value_counts(), 'Stages', 'Count')"
   ]
  },
  {
   "cell_type": "code",
   "execution_count": 112,
   "id": "90e8d7f9-03e1-41d0-80ce-1c7ef0abc75d",
   "metadata": {},
   "outputs": [
    {
     "data": {
      "text/html": [
       "<div>\n",
       "<style scoped>\n",
       "    .dataframe tbody tr th:only-of-type {\n",
       "        vertical-align: middle;\n",
       "    }\n",
       "\n",
       "    .dataframe tbody tr th {\n",
       "        vertical-align: top;\n",
       "    }\n",
       "\n",
       "    .dataframe thead th {\n",
       "        text-align: right;\n",
       "    }\n",
       "</style>\n",
       "<table border=\"1\" class=\"dataframe\">\n",
       "  <thead>\n",
       "    <tr style=\"text-align: right;\">\n",
       "      <th></th>\n",
       "      <th>Stages</th>\n",
       "      <th>Count</th>\n",
       "    </tr>\n",
       "  </thead>\n",
       "  <tbody>\n",
       "    <tr>\n",
       "      <th>0</th>\n",
       "      <td>QF</td>\n",
       "      <td>2</td>\n",
       "    </tr>\n",
       "    <tr>\n",
       "      <th>1</th>\n",
       "      <td>2R</td>\n",
       "      <td>1</td>\n",
       "    </tr>\n",
       "    <tr>\n",
       "      <th>2</th>\n",
       "      <td>RU</td>\n",
       "      <td>1</td>\n",
       "    </tr>\n",
       "    <tr>\n",
       "      <th>3</th>\n",
       "      <td>R16</td>\n",
       "      <td>1</td>\n",
       "    </tr>\n",
       "    <tr>\n",
       "      <th>4</th>\n",
       "      <td>GS</td>\n",
       "      <td>1</td>\n",
       "    </tr>\n",
       "  </tbody>\n",
       "</table>\n",
       "</div>"
      ],
      "text/plain": [
       "  Stages  Count\n",
       "0     QF      2\n",
       "1     2R      1\n",
       "2     RU      1\n",
       "3    R16      1\n",
       "4     GS      1"
      ]
     },
     "execution_count": 112,
     "metadata": {},
     "output_type": "execute_result"
    }
   ],
   "source": [
    "atleti_in_ucl_before_simone_df"
   ]
  },
  {
   "cell_type": "code",
   "execution_count": 129,
   "id": "2edbad05-42a0-4d74-bca9-c8e1faa5dcb6",
   "metadata": {},
   "outputs": [],
   "source": [
    "upload_data(atleti_in_ucl_before_simone_df, r'processed data/ucl_data_before_simone.csv')"
   ]
  },
  {
   "cell_type": "code",
   "execution_count": 114,
   "id": "3cdb6959-7ba6-42fd-bab3-9411e162c371",
   "metadata": {},
   "outputs": [],
   "source": [
    "## Europe League"
   ]
  },
  {
   "cell_type": "code",
   "execution_count": 115,
   "id": "f49d985b-a64e-4a5a-8398-631e69241e39",
   "metadata": {},
   "outputs": [],
   "source": [
    "atleti_in_UC_before_simone_df = remove_empty(atelet_in_laliga_before_simone['UC[4]'].value_counts(), 'Stages', 'Count')"
   ]
  },
  {
   "cell_type": "code",
   "execution_count": 116,
   "id": "7b44ce45-9d0a-455b-b8b6-ce885121f3bc",
   "metadata": {},
   "outputs": [
    {
     "data": {
      "text/html": [
       "<div>\n",
       "<style scoped>\n",
       "    .dataframe tbody tr th:only-of-type {\n",
       "        vertical-align: middle;\n",
       "    }\n",
       "\n",
       "    .dataframe tbody tr th {\n",
       "        vertical-align: top;\n",
       "    }\n",
       "\n",
       "    .dataframe thead th {\n",
       "        text-align: right;\n",
       "    }\n",
       "</style>\n",
       "<table border=\"1\" class=\"dataframe\">\n",
       "  <thead>\n",
       "    <tr style=\"text-align: right;\">\n",
       "      <th></th>\n",
       "      <th>Stages</th>\n",
       "      <th>Count</th>\n",
       "    </tr>\n",
       "  </thead>\n",
       "  <tbody>\n",
       "    <tr>\n",
       "      <th>0</th>\n",
       "      <td>2R</td>\n",
       "      <td>5</td>\n",
       "    </tr>\n",
       "    <tr>\n",
       "      <th>1</th>\n",
       "      <td>SF</td>\n",
       "      <td>3</td>\n",
       "    </tr>\n",
       "    <tr>\n",
       "      <th>2</th>\n",
       "      <td>R16</td>\n",
       "      <td>1</td>\n",
       "    </tr>\n",
       "    <tr>\n",
       "      <th>3</th>\n",
       "      <td>R32</td>\n",
       "      <td>1</td>\n",
       "    </tr>\n",
       "    <tr>\n",
       "      <th>4</th>\n",
       "      <td>W</td>\n",
       "      <td>1</td>\n",
       "    </tr>\n",
       "    <tr>\n",
       "      <th>5</th>\n",
       "      <td>GS</td>\n",
       "      <td>1</td>\n",
       "    </tr>\n",
       "  </tbody>\n",
       "</table>\n",
       "</div>"
      ],
      "text/plain": [
       "  Stages  Count\n",
       "0     2R      5\n",
       "1     SF      3\n",
       "2    R16      1\n",
       "3    R32      1\n",
       "4      W      1\n",
       "5     GS      1"
      ]
     },
     "execution_count": 116,
     "metadata": {},
     "output_type": "execute_result"
    }
   ],
   "source": [
    "atleti_in_UC_before_simone_df"
   ]
  },
  {
   "cell_type": "code",
   "execution_count": 117,
   "id": "e87fe8f5-2a5a-4edc-827c-74936b49d815",
   "metadata": {},
   "outputs": [],
   "source": [
    "upload_data(atleti_in_UC_before_simone_df, r'processed data/atleti_in_europe_league_before_simone_df.csv')"
   ]
  },
  {
   "cell_type": "markdown",
   "id": "5b894687-073b-4968-aca5-4805021791f7",
   "metadata": {},
   "source": [
    "## Afer Deigo Simeone"
   ]
  },
  {
   "cell_type": "code",
   "execution_count": 118,
   "id": "5ab65ade-4efc-4b70-980f-ad0f219b42cf",
   "metadata": {},
   "outputs": [],
   "source": [
    "### Exporting Wins loses draws matches in Laliga After hiring simone to a csv file"
   ]
  },
  {
   "cell_type": "code",
   "execution_count": 119,
   "id": "a399df09-cabb-409d-8c4c-e6470f61092b",
   "metadata": {},
   "outputs": [],
   "source": [
    "total_wins, total_draw, total_loses = atelti_statistics_after_simone_df['W'].sum(), atelti_statistics_after_simone_df['D'].sum(), atelti_statistics_after_simone_df['L'].sum()\n",
    "labels = ['Win', ' Draw', 'Lose'] \n",
    "data = [total_wins, total_draw, total_loses]\n",
    "laliga_WDL_statistcs_after_simone = { '[Wan, Draw, Lose]' : labels , \n",
    "                                  'Total' : data}\n",
    "laliga_WDL_statistcs_after_simone_df = pd.DataFrame(laliga_WDL_statistcs_after_simone)\n",
    "laliga_WDL_statistcs_after_simone_df.to_csv('processed data/laliga_WDL_statistcs_after_simone.csv', index=False)"
   ]
  },
  {
   "cell_type": "code",
   "execution_count": 120,
   "id": "9cea7af6-2a86-42dd-a09e-d4338c607263",
   "metadata": {},
   "outputs": [],
   "source": [
    "### Exporting GF GA in Laliga After simone to a csv file"
   ]
  },
  {
   "cell_type": "code",
   "execution_count": 121,
   "id": "9e00419f-8430-4ea1-8a00-8fc5410ec813",
   "metadata": {},
   "outputs": [],
   "source": [
    "total_goals_team_score, total_goal_team_received = atelti_statistics_after_simone_df['GF'].sum(), atelti_statistics_after_simone_df['GA'].sum()\n",
    "avg_goals_team_score, avg_goal_team_received = atelti_statistics_after_simone_df['GF'].mean(), atelti_statistics_after_simone_df['GA'].mean()"
   ]
  },
  {
   "cell_type": "code",
   "execution_count": 122,
   "id": "8ad57399-43e9-4374-9e7a-6f78923d1495",
   "metadata": {},
   "outputs": [],
   "source": [
    "goals_stats_after_simone_in_laliga = {\"Total Goals Atletico Score\" : total_goals_team_score, \"Total Goals Atletico Received\" : total_goal_team_received,\n",
    "\"AVG Goals Atletico Score/Season\" : round(avg_goals_team_score,2), \"AVG Goals Atletico Receive/Season\" : round(avg_goal_team_received,2) }\n",
    "\n",
    "goals_stats_after_simone_in_laliga_df = pd.DataFrame([goals_stats_after_simone_in_laliga])\n",
    "score_recive_difference = goals_stats_after_simone_in_laliga_df['Total Goals Atletico Score'] - goals_stats_after_simone_in_laliga_df['Total Goals Atletico Received']\n",
    "goals_stats_after_simone_in_laliga_df['[Score Goals-Received Goals]'] = score_recive_difference\n",
    "\n",
    "goals_stats_after_simone_in_laliga_df.to_csv('processed data/goals_stats_after_simone_in_laliga.csv', index=False)"
   ]
  },
  {
   "cell_type": "code",
   "execution_count": 123,
   "id": "aede0820-d2d6-4297-a5f5-b3d2c08994a4",
   "metadata": {},
   "outputs": [],
   "source": [
    "## Exporting Atleti Postion in laliga After deigo Simone"
   ]
  },
  {
   "cell_type": "code",
   "execution_count": 124,
   "id": "f844d1e5-efbe-4c75-b2fd-a4d40383527f",
   "metadata": {},
   "outputs": [],
   "source": [
    "atelti_postions_in_laliga_after_simone = atelti_statistics_after_simone_df['Pos'].value_counts()\n",
    "atleti_postions_after_simone = convert_series_to_df(atelti_postions_in_laliga_after_simone, \"postion\", \"counts\")\n",
    "atleti_postions_after_simone.to_csv('processed data/atleti_postions_after_simone.csv', index=False)"
   ]
  },
  {
   "cell_type": "code",
   "execution_count": 125,
   "id": "f0b8b7ad-2ab7-41cd-b32c-c88fe8d9b4e9",
   "metadata": {},
   "outputs": [
    {
     "data": {
      "text/html": [
       "<div>\n",
       "<style scoped>\n",
       "    .dataframe tbody tr th:only-of-type {\n",
       "        vertical-align: middle;\n",
       "    }\n",
       "\n",
       "    .dataframe tbody tr th {\n",
       "        vertical-align: top;\n",
       "    }\n",
       "\n",
       "    .dataframe thead th {\n",
       "        text-align: right;\n",
       "    }\n",
       "</style>\n",
       "<table border=\"1\" class=\"dataframe\">\n",
       "  <thead>\n",
       "    <tr style=\"text-align: right;\">\n",
       "      <th></th>\n",
       "      <th>Division</th>\n",
       "      <th>Pld</th>\n",
       "      <th>W</th>\n",
       "      <th>D</th>\n",
       "      <th>L</th>\n",
       "      <th>GF</th>\n",
       "      <th>GA</th>\n",
       "      <th>Pts</th>\n",
       "      <th>Pos</th>\n",
       "      <th>Cup[1]</th>\n",
       "      <th>...</th>\n",
       "      <th>LC</th>\n",
       "      <th>CL[3]</th>\n",
       "      <th>UC[4]</th>\n",
       "      <th>CW</th>\n",
       "      <th>IC</th>\n",
       "      <th>SC[5]</th>\n",
       "      <th>CWC[6]</th>\n",
       "      <th>Player(s)</th>\n",
       "      <th>Goals</th>\n",
       "      <th>season</th>\n",
       "    </tr>\n",
       "  </thead>\n",
       "  <tbody>\n",
       "    <tr>\n",
       "      <th>80</th>\n",
       "      <td>La Liga</td>\n",
       "      <td>38</td>\n",
       "      <td>15</td>\n",
       "      <td>11</td>\n",
       "      <td>12</td>\n",
       "      <td>53</td>\n",
       "      <td>46</td>\n",
       "      <td>56</td>\n",
       "      <td>5th</td>\n",
       "      <td>R32</td>\n",
       "      <td>...</td>\n",
       "      <td>NaN</td>\n",
       "      <td>NaN</td>\n",
       "      <td>W</td>\n",
       "      <td>NaN</td>\n",
       "      <td>NaN</td>\n",
       "      <td>NaN</td>\n",
       "      <td>NaN</td>\n",
       "      <td>Radamel Falcao</td>\n",
       "      <td>36</td>\n",
       "      <td>2011–12</td>\n",
       "    </tr>\n",
       "    <tr>\n",
       "      <th>81</th>\n",
       "      <td>La Liga</td>\n",
       "      <td>38</td>\n",
       "      <td>23</td>\n",
       "      <td>7</td>\n",
       "      <td>8</td>\n",
       "      <td>65</td>\n",
       "      <td>31</td>\n",
       "      <td>76</td>\n",
       "      <td>3rd</td>\n",
       "      <td>W</td>\n",
       "      <td>...</td>\n",
       "      <td>NaN</td>\n",
       "      <td>NaN</td>\n",
       "      <td>R32</td>\n",
       "      <td>NaN</td>\n",
       "      <td>NaN</td>\n",
       "      <td>W</td>\n",
       "      <td>NaN</td>\n",
       "      <td>Radamel Falcao</td>\n",
       "      <td>34</td>\n",
       "      <td>2012–13</td>\n",
       "    </tr>\n",
       "    <tr>\n",
       "      <th>82</th>\n",
       "      <td>La Liga</td>\n",
       "      <td>38</td>\n",
       "      <td>28</td>\n",
       "      <td>6</td>\n",
       "      <td>4</td>\n",
       "      <td>77</td>\n",
       "      <td>26</td>\n",
       "      <td>90</td>\n",
       "      <td>W</td>\n",
       "      <td>SF</td>\n",
       "      <td>...</td>\n",
       "      <td>NaN</td>\n",
       "      <td>RU</td>\n",
       "      <td>NaN</td>\n",
       "      <td>NaN</td>\n",
       "      <td>NaN</td>\n",
       "      <td>NaN</td>\n",
       "      <td>NaN</td>\n",
       "      <td>Diego Costa</td>\n",
       "      <td>36</td>\n",
       "      <td>2013–14</td>\n",
       "    </tr>\n",
       "    <tr>\n",
       "      <th>83</th>\n",
       "      <td>La Liga</td>\n",
       "      <td>38</td>\n",
       "      <td>23</td>\n",
       "      <td>9</td>\n",
       "      <td>6</td>\n",
       "      <td>67</td>\n",
       "      <td>29</td>\n",
       "      <td>78</td>\n",
       "      <td>3rd</td>\n",
       "      <td>QF</td>\n",
       "      <td>...</td>\n",
       "      <td>NaN</td>\n",
       "      <td>QF</td>\n",
       "      <td>NaN</td>\n",
       "      <td>NaN</td>\n",
       "      <td>NaN</td>\n",
       "      <td>NaN</td>\n",
       "      <td>NaN</td>\n",
       "      <td>Antoine Griezmann</td>\n",
       "      <td>25</td>\n",
       "      <td>2014–15</td>\n",
       "    </tr>\n",
       "    <tr>\n",
       "      <th>84</th>\n",
       "      <td>La Liga</td>\n",
       "      <td>38</td>\n",
       "      <td>28</td>\n",
       "      <td>4</td>\n",
       "      <td>6</td>\n",
       "      <td>63</td>\n",
       "      <td>18</td>\n",
       "      <td>88</td>\n",
       "      <td>3rd</td>\n",
       "      <td>QF</td>\n",
       "      <td>...</td>\n",
       "      <td>NaN</td>\n",
       "      <td>RU</td>\n",
       "      <td>NaN</td>\n",
       "      <td>NaN</td>\n",
       "      <td>NaN</td>\n",
       "      <td>NaN</td>\n",
       "      <td>NaN</td>\n",
       "      <td>Antoine Griezmann</td>\n",
       "      <td>32</td>\n",
       "      <td>2015–16</td>\n",
       "    </tr>\n",
       "    <tr>\n",
       "      <th>85</th>\n",
       "      <td>La Liga</td>\n",
       "      <td>38</td>\n",
       "      <td>23</td>\n",
       "      <td>9</td>\n",
       "      <td>6</td>\n",
       "      <td>70</td>\n",
       "      <td>27</td>\n",
       "      <td>78</td>\n",
       "      <td>3rd</td>\n",
       "      <td>SF</td>\n",
       "      <td>...</td>\n",
       "      <td>NaN</td>\n",
       "      <td>SF</td>\n",
       "      <td>NaN</td>\n",
       "      <td>NaN</td>\n",
       "      <td>NaN</td>\n",
       "      <td>NaN</td>\n",
       "      <td>NaN</td>\n",
       "      <td>Antoine Griezmann</td>\n",
       "      <td>26</td>\n",
       "      <td>2016–17</td>\n",
       "    </tr>\n",
       "    <tr>\n",
       "      <th>86</th>\n",
       "      <td>La Liga</td>\n",
       "      <td>38</td>\n",
       "      <td>23</td>\n",
       "      <td>10</td>\n",
       "      <td>5</td>\n",
       "      <td>58</td>\n",
       "      <td>22</td>\n",
       "      <td>79</td>\n",
       "      <td>2nd</td>\n",
       "      <td>QF</td>\n",
       "      <td>...</td>\n",
       "      <td>NaN</td>\n",
       "      <td>GS</td>\n",
       "      <td>W</td>\n",
       "      <td>NaN</td>\n",
       "      <td>NaN</td>\n",
       "      <td>NaN</td>\n",
       "      <td>NaN</td>\n",
       "      <td>Antoine Griezmann</td>\n",
       "      <td>29</td>\n",
       "      <td>2017–18</td>\n",
       "    </tr>\n",
       "    <tr>\n",
       "      <th>87</th>\n",
       "      <td>La Liga</td>\n",
       "      <td>38</td>\n",
       "      <td>22</td>\n",
       "      <td>10</td>\n",
       "      <td>6</td>\n",
       "      <td>55</td>\n",
       "      <td>29</td>\n",
       "      <td>76</td>\n",
       "      <td>2nd</td>\n",
       "      <td>R16</td>\n",
       "      <td>...</td>\n",
       "      <td>NaN</td>\n",
       "      <td>R16</td>\n",
       "      <td>NaN</td>\n",
       "      <td>NaN</td>\n",
       "      <td>NaN</td>\n",
       "      <td>W</td>\n",
       "      <td>NaN</td>\n",
       "      <td>Antoine Griezmann</td>\n",
       "      <td>21</td>\n",
       "      <td>2018–19</td>\n",
       "    </tr>\n",
       "    <tr>\n",
       "      <th>88</th>\n",
       "      <td>La Liga</td>\n",
       "      <td>38</td>\n",
       "      <td>18</td>\n",
       "      <td>16</td>\n",
       "      <td>4</td>\n",
       "      <td>51</td>\n",
       "      <td>27</td>\n",
       "      <td>70</td>\n",
       "      <td>3rd</td>\n",
       "      <td>R32</td>\n",
       "      <td>...</td>\n",
       "      <td>NaN</td>\n",
       "      <td>QF</td>\n",
       "      <td>NaN</td>\n",
       "      <td>NaN</td>\n",
       "      <td>NaN</td>\n",
       "      <td>NaN</td>\n",
       "      <td>NaN</td>\n",
       "      <td>Álvaro Morata</td>\n",
       "      <td>16</td>\n",
       "      <td>2019–20</td>\n",
       "    </tr>\n",
       "    <tr>\n",
       "      <th>89</th>\n",
       "      <td>La Liga</td>\n",
       "      <td>38</td>\n",
       "      <td>26</td>\n",
       "      <td>8</td>\n",
       "      <td>4</td>\n",
       "      <td>67</td>\n",
       "      <td>25</td>\n",
       "      <td>86</td>\n",
       "      <td>W</td>\n",
       "      <td>2R</td>\n",
       "      <td>...</td>\n",
       "      <td>NaN</td>\n",
       "      <td>R16</td>\n",
       "      <td>NaN</td>\n",
       "      <td>NaN</td>\n",
       "      <td>NaN</td>\n",
       "      <td>NaN</td>\n",
       "      <td>NaN</td>\n",
       "      <td>Luis Suárez</td>\n",
       "      <td>21</td>\n",
       "      <td>2020–21</td>\n",
       "    </tr>\n",
       "    <tr>\n",
       "      <th>90</th>\n",
       "      <td>La Liga</td>\n",
       "      <td>38</td>\n",
       "      <td>21</td>\n",
       "      <td>8</td>\n",
       "      <td>9</td>\n",
       "      <td>65</td>\n",
       "      <td>43</td>\n",
       "      <td>71</td>\n",
       "      <td>3rd</td>\n",
       "      <td>R16</td>\n",
       "      <td>...</td>\n",
       "      <td>NaN</td>\n",
       "      <td>QF</td>\n",
       "      <td>NaN</td>\n",
       "      <td>NaN</td>\n",
       "      <td>NaN</td>\n",
       "      <td>NaN</td>\n",
       "      <td>NaN</td>\n",
       "      <td>Ángel Correa Luis Suárez</td>\n",
       "      <td>13</td>\n",
       "      <td>2021–22</td>\n",
       "    </tr>\n",
       "    <tr>\n",
       "      <th>91</th>\n",
       "      <td>La Liga</td>\n",
       "      <td>38</td>\n",
       "      <td>23</td>\n",
       "      <td>8</td>\n",
       "      <td>7</td>\n",
       "      <td>70</td>\n",
       "      <td>33</td>\n",
       "      <td>77</td>\n",
       "      <td>3rd</td>\n",
       "      <td>QF</td>\n",
       "      <td>...</td>\n",
       "      <td>NaN</td>\n",
       "      <td>GS</td>\n",
       "      <td>NaN</td>\n",
       "      <td>NaN</td>\n",
       "      <td>NaN</td>\n",
       "      <td>NaN</td>\n",
       "      <td>NaN</td>\n",
       "      <td>Antoine Griezmann</td>\n",
       "      <td>16</td>\n",
       "      <td>2022–23</td>\n",
       "    </tr>\n",
       "    <tr>\n",
       "      <th>92</th>\n",
       "      <td>La Liga</td>\n",
       "      <td>38</td>\n",
       "      <td>24</td>\n",
       "      <td>4</td>\n",
       "      <td>10</td>\n",
       "      <td>70</td>\n",
       "      <td>43</td>\n",
       "      <td>76</td>\n",
       "      <td>4th</td>\n",
       "      <td>SF</td>\n",
       "      <td>...</td>\n",
       "      <td>NaN</td>\n",
       "      <td>QF</td>\n",
       "      <td>NaN</td>\n",
       "      <td>NaN</td>\n",
       "      <td>NaN</td>\n",
       "      <td>NaN</td>\n",
       "      <td>NaN</td>\n",
       "      <td>Antoine Griezmann</td>\n",
       "      <td>24</td>\n",
       "      <td>2023–24</td>\n",
       "    </tr>\n",
       "  </tbody>\n",
       "</table>\n",
       "<p>13 rows × 21 columns</p>\n",
       "</div>"
      ],
      "text/plain": [
       "   Division  Pld   W   D   L  GF  GA  Pts  Pos Cup[1]  ...   LC CL[3] UC[4]  \\\n",
       "80  La Liga   38  15  11  12  53  46   56  5th    R32  ...  NaN   NaN     W   \n",
       "81  La Liga   38  23   7   8  65  31   76  3rd      W  ...  NaN   NaN   R32   \n",
       "82  La Liga   38  28   6   4  77  26   90    W     SF  ...  NaN    RU   NaN   \n",
       "83  La Liga   38  23   9   6  67  29   78  3rd     QF  ...  NaN    QF   NaN   \n",
       "84  La Liga   38  28   4   6  63  18   88  3rd     QF  ...  NaN    RU   NaN   \n",
       "85  La Liga   38  23   9   6  70  27   78  3rd     SF  ...  NaN    SF   NaN   \n",
       "86  La Liga   38  23  10   5  58  22   79  2nd     QF  ...  NaN    GS     W   \n",
       "87  La Liga   38  22  10   6  55  29   76  2nd    R16  ...  NaN   R16   NaN   \n",
       "88  La Liga   38  18  16   4  51  27   70  3rd    R32  ...  NaN    QF   NaN   \n",
       "89  La Liga   38  26   8   4  67  25   86    W     2R  ...  NaN   R16   NaN   \n",
       "90  La Liga   38  21   8   9  65  43   71  3rd    R16  ...  NaN    QF   NaN   \n",
       "91  La Liga   38  23   8   7  70  33   77  3rd     QF  ...  NaN    GS   NaN   \n",
       "92  La Liga   38  24   4  10  70  43   76  4th     SF  ...  NaN    QF   NaN   \n",
       "\n",
       "     CW   IC SC[5] CWC[6]                  Player(s) Goals   season  \n",
       "80  NaN  NaN   NaN    NaN             Radamel Falcao    36  2011–12  \n",
       "81  NaN  NaN     W    NaN             Radamel Falcao    34  2012–13  \n",
       "82  NaN  NaN   NaN    NaN                Diego Costa    36  2013–14  \n",
       "83  NaN  NaN   NaN    NaN          Antoine Griezmann    25  2014–15  \n",
       "84  NaN  NaN   NaN    NaN          Antoine Griezmann    32  2015–16  \n",
       "85  NaN  NaN   NaN    NaN          Antoine Griezmann    26  2016–17  \n",
       "86  NaN  NaN   NaN    NaN          Antoine Griezmann    29  2017–18  \n",
       "87  NaN  NaN     W    NaN          Antoine Griezmann    21  2018–19  \n",
       "88  NaN  NaN   NaN    NaN              Álvaro Morata    16  2019–20  \n",
       "89  NaN  NaN   NaN    NaN                Luis Suárez    21  2020–21  \n",
       "90  NaN  NaN   NaN    NaN   Ángel Correa Luis Suárez    13  2021–22  \n",
       "91  NaN  NaN   NaN    NaN          Antoine Griezmann    16  2022–23  \n",
       "92  NaN  NaN   NaN    NaN          Antoine Griezmann    24  2023–24  \n",
       "\n",
       "[13 rows x 21 columns]"
      ]
     },
     "execution_count": 125,
     "metadata": {},
     "output_type": "execute_result"
    }
   ],
   "source": [
    "atelti_statistics_after_simone_df"
   ]
  },
  {
   "cell_type": "code",
   "execution_count": 126,
   "id": "4754b06c-d365-4f29-bf86-b2370f59ed87",
   "metadata": {},
   "outputs": [],
   "source": [
    "atelti_statistics_after_simone_df.to_csv('processed data/atelti_statistics_after_simone.csv', index=False)"
   ]
  },
  {
   "cell_type": "markdown",
   "id": "88aaeda6-99d8-41fa-93db-ed0266916a8a",
   "metadata": {},
   "source": [
    "## Visualizing the previous statistics using Google looker Studio"
   ]
  },
  {
   "cell_type": "code",
   "execution_count": 127,
   "id": "e6a37f11-b534-4134-bc64-76617f09d819",
   "metadata": {},
   "outputs": [
    {
     "data": {
      "image/png": "[encoded data removed]",
      "text/plain": [
       "<Figure size 1000x900 with 1 Axes>"
      ]
     },
     "metadata": {},
     "output_type": "display_data"
    }
   ],
   "source": [
    "img1 = mpimg.imread(r\"C:\\Users\\Blu-Ray\\Deigo Simeone Impact on Atleti\\images\\atleti_performane_in_laliga.png\")\n",
    "\n",
    "fig, ax = plt.subplots(figsize=(10, 9))\n",
    "\n",
    "# Displaying the image\n",
    "ax.imshow(img1)\n",
    "ax.axis(\"off\")  # Hide axes\n",
    "\n",
    "\n",
    "ax.set_position([2, 0.1, 1, 0.55])  \n",
    "# [left, bottom, width, height]\n",
    "plt.show()\n"
   ]
  }
 ],
 "metadata": {
  "kernelspec": {
   "display_name": "Python 3 (ipykernel)",
   "language": "python",
   "name": "python3"
  },
  "language_info": {
   "codemirror_mode": {
    "name": "ipython",
    "version": 3
   },
   "file_extension": ".py",
   "mimetype": "text/x-python",
   "name": "python",
   "nbconvert_exporter": "python",
   "pygments_lexer": "ipython3",
   "version": "3.11.5"
  }
 },
 "nbformat": 4,
 "nbformat_minor": 5
}
